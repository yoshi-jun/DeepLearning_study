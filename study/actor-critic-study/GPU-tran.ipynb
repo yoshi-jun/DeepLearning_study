{
 "cells": [
  {
   "cell_type": "markdown",
   "id": "de8e5f94-250f-4c6a-85ef-28bbab76895c",
   "metadata": {},
   "source": [
    "# GPU version"
   ]
  },
  {
   "cell_type": "markdown",
   "id": "f33a7368-aaf7-412d-a1b7-8ef76c94f841",
   "metadata": {},
   "source": [
    "# load from prerunning data　bach-train"
   ]
  },
  {
   "cell_type": "code",
   "execution_count": 1,
   "id": "ad7c0635-a367-44f4-b0ce-0f105451b792",
   "metadata": {},
   "outputs": [],
   "source": [
    "import sys,os\n",
    "import numpy as np\n",
    "from itertools import count\n",
    "from collections import namedtuple\n",
    "import pandas as pd\n",
    "import matplotlib.pyplot as plt\n",
    "import subprocess\n",
    "import torch\n",
    "import torch.nn as nn\n",
    "import torch.nn.functional as F\n",
    "import torch.optim as optim\n",
    "from torch.distributions import Categorical\n",
    "\n",
    "device = torch.device(\"cuda:1\" if torch.cuda.is_available() else \"cpu\")"
   ]
  },
  {
   "cell_type": "markdown",
   "id": "05db0702-6d9f-4c6e-b8ea-e471394df2e5",
   "metadata": {},
   "source": [
    "# Envのチェック"
   ]
  },
  {
   "cell_type": "code",
   "execution_count": 2,
   "id": "151b1b74-9e08-4dbe-8d4b-f1d496c7859a",
   "metadata": {},
   "outputs": [],
   "source": [
    "class G4env():\n",
    "    def __init__(self, batch_size = 32):\n",
    "\n",
    "        self.batch_size = batch_size\n",
    "        self.angle = np.zeros(self.batch_size)\n",
    "        self.r = 0\n",
    "        self.done = torch.zeros(self.batch_size).view(self.batch_size,1)\n",
    "\n",
    "        self.ang_range = 85\n",
    "        self.event_num = 1000\n",
    "        self.angle_step = 5.0\n",
    "        self.ev_array = np.zeros((30,31,31))\n",
    "        self.ev_array[15:20, 0:5, 0:5] = 1\n",
    "        \n",
    "        angles = [-90 + 5 * a for a in range(36)]\n",
    "        self.dose = dict()\n",
    "        for angle in angles:\n",
    "            d = pd.read_csv(\"data/dose_t=\" + str(angle) + \".csv\")['dose']\n",
    "            d = np.array(d).reshape(1,30,31,31) / self.event_num\n",
    "            self.dose[angle] = d\n",
    "\n",
    "    def reset(self):\n",
    "        self.r = 0\n",
    "        self.r_new = 0\n",
    "        self.angle = np.zeros(self.batch_size)\n",
    "        self.done = torch.zeros(self.batch_size).view(self.batch_size,1).to(device)\n",
    "\n",
    "        states = np.array([self.dose[a] for a in self.angle])\n",
    "        states = torch.tensor(states, dtype=torch.float32).to(device)\n",
    "        \n",
    "        return states\n",
    "\n",
    "    def step(self, action):\n",
    "\n",
    "        rewards = np.zeros(self.batch_size)\n",
    "        \n",
    "        for b in range(self.batch_size):\n",
    "            \n",
    "            self.angle[b] += self.angle_step * (action[b] - 1)\n",
    "            if (np.abs(self.angle[b]) >= self.ang_range):\n",
    "                self.done[b] = 1\n",
    "            \n",
    "            reward = self.ev_array * self.dose[self.angle[b]]\n",
    "            self.r_new = reward.sum().sum()\n",
    "            \n",
    "            reward = self.r_new\n",
    "\n",
    "            rewards[b] = reward\n",
    "        # reward = self.r - self.r_new\n",
    "        # self.r = self.r_new\n",
    "        \n",
    "        rewards = torch.tensor(rewards, dtype=torch.float32).view(self.batch_size, 1).to(device)\n",
    "        \n",
    "        states = np.array([self.dose[a] for a in self.angle])\n",
    "        states = torch.from_numpy(states).float().to(device)\n",
    "        return states, rewards, self.done"
   ]
  },
  {
   "cell_type": "markdown",
   "id": "e537a505-8f91-40dc-8fa9-e91812afdd16",
   "metadata": {},
   "source": [
    "### check env"
   ]
  },
  {
   "cell_type": "code",
   "execution_count": 3,
   "id": "518c3535-11af-4609-9368-4c386c576e36",
   "metadata": {},
   "outputs": [
    {
     "name": "stdout",
     "output_type": "stream",
     "text": [
      "torch.Size([32, 1, 30, 31, 31]) torch.Size([32, 1]) torch.Size([32, 1])\n",
      "torch.Size([32, 1, 30, 31, 31]) torch.Size([32, 1]) torch.Size([32, 1])\n"
     ]
    }
   ],
   "source": [
    "e = G4env()\n",
    "states = e.reset()\n",
    "for _ in range(2):\n",
    "    a = np.random.randint(0,2,32)\n",
    "    next_states = states\n",
    "    states, rewards, dones, = e.step(a)\n",
    "    print(states.shape, rewards.shape, dones.shape)"
   ]
  },
  {
   "cell_type": "code",
   "execution_count": 4,
   "id": "4403c5a0-3543-4e6d-9439-79c4b325a443",
   "metadata": {
    "scrolled": true
   },
   "outputs": [
    {
     "data": {
      "image/png": "[encoded data removed]",
      "text/plain": [
       "<Figure size 432x288 with 1 Axes>"
      ]
     },
     "metadata": {
      "needs_background": "light"
     },
     "output_type": "display_data"
    },
    {
     "data": {
      "image/png": "[encoded data removed]",
      "text/plain": [
       "<Figure size 432x288 with 1 Axes>"
      ]
     },
     "metadata": {
      "needs_background": "light"
     },
     "output_type": "display_data"
    },
    {
     "data": {
      "image/png": "[encoded data removed]",
      "text/plain": [
       "<Figure size 432x288 with 1 Axes>"
      ]
     },
     "metadata": {
      "needs_background": "light"
     },
     "output_type": "display_data"
    }
   ],
   "source": [
    "plt.imshow(G4env().ev_array.sum(0))\n",
    "plt.show()\n",
    "plt.imshow(G4env().ev_array.sum(1))\n",
    "plt.show()\n",
    "plt.imshow(G4env().ev_array.sum(2))\n",
    "plt.show()"
   ]
  },
  {
   "cell_type": "markdown",
   "id": "e4035a69-462b-4c97-b977-c0d5bb24c4cc",
   "metadata": {},
   "source": [
    "# Let's train"
   ]
  },
  {
   "cell_type": "code",
   "execution_count": 5,
   "id": "46361349-410a-489c-a2e4-d44ec3b168e4",
   "metadata": {},
   "outputs": [],
   "source": [
    "class NetWork(nn.Module):\n",
    "    def __init__(self, nch_g=32):\n",
    "        super(NetWork, self).__init__()\n",
    "\n",
    "        self.batch_size = 32\n",
    "        \n",
    "        self.conv1 = nn.Conv3d(1        , nch_g    , 2)\n",
    "        self.conv2 = nn.Conv3d(nch_g    , nch_g * 2, 2)\n",
    "        self.conv3 = nn.Conv3d(nch_g * 2, nch_g * 4, 2)\n",
    "\n",
    "        self.relu  = nn.ReLU()\n",
    "        self.flat  = nn.Flatten()\n",
    "\n",
    "        self.policy= nn.Linear(128 * 27 * 28 * 28, 3)\n",
    "        self.value = nn.Linear(128 * 27 * 28 * 28, 1)\n",
    "        self.sfmax = nn.Softmax(dim=1)\n",
    "        \n",
    "    def forward(self, x):\n",
    "        #----------------\n",
    "        x = self.conv1(x)\n",
    "        x = self.relu(x)\n",
    "        #----------------\n",
    "        x = self.conv2(x)\n",
    "        x = self.relu(x)\n",
    "        #----------------\n",
    "        x = self.conv3(x)\n",
    "        x = self.relu(x)\n",
    "        #----------------\n",
    "        x = self.flat(x)\n",
    "        #----------------\n",
    "        probs = self.policy(x)\n",
    "        probs = self.sfmax(probs)\n",
    "        \n",
    "        value  = self.value(x)\n",
    "        \n",
    "        return probs, value\n",
    "        "
   ]
  },
  {
   "cell_type": "code",
   "execution_count": 6,
   "id": "5de26d15-6ae4-47c1-a9c1-c75bef45dd4d",
   "metadata": {},
   "outputs": [],
   "source": [
    "class BatchNormNetWork(nn.Module):\n",
    "    def __init__(self, nch_g=32):\n",
    "        super(BatchNormNetWork, self).__init__()\n",
    "\n",
    "        self.batch_size = 32\n",
    "        \n",
    "        self.conv1 = nn.Conv3d(1        , nch_g    , 3, padding=1)\n",
    "        self.bn1 = nn.BatchNorm3d(nch_g)\n",
    "        self.conv2 = nn.Conv3d(nch_g    , nch_g * 2, 3, padding=1)\n",
    "        self.bn2 = nn.BatchNorm3d(nch_g * 2)\n",
    "        self.conv3 = nn.Conv3d(nch_g * 2, nch_g * 4, 3, padding=1)\n",
    "        self.bn3 = nn.BatchNorm3d(nch_g * 4)\n",
    "\n",
    "        self.relu  = nn.LeakyReLU(0.2, inplace=True)\n",
    "        self.pool = nn.MaxPool3d(2)\n",
    "\n",
    "        self.flat  = nn.Flatten()\n",
    "\n",
    "        self.policy= nn.Linear(nch_g * 4 * 9 * 14 * 14, 3)\n",
    "        self.value = nn.Linear(nch_g * 4 * 9 * 14 * 14, 1)\n",
    "        self.sfmax = nn.Softmax(dim=1)\n",
    "        \n",
    "    def forward(self, x):\n",
    "        #----------------\n",
    "        x = self.conv1(x)\n",
    "        x = self.bn1(x)\n",
    "        x = self.relu(x)\n",
    "        x = self.pool(x)\n",
    "        #----------------\n",
    "        x = self.conv2(x)\n",
    "        x = self.bn2(x)\n",
    "        x = self.relu(x)\n",
    "        x = self.pool(x)\n",
    "        #----------------\n",
    "        x = self.conv3(x)\n",
    "        x = self.bn3(x)\n",
    "        x = self.relu(x)\n",
    "        x = self.pool(x)\n",
    "        #----------------\n",
    "        x = self.flat(x)\n",
    "        #----------------\n",
    "        probs = self.policy(x)\n",
    "        probs = self.sfmax(probs)\n",
    "        \n",
    "        value  = self.value(x)\n",
    "        \n",
    "        return probs, value\n"
   ]
  },
  {
   "cell_type": "markdown",
   "id": "a49f2871-97d0-4989-a0dc-a51cd55426c6",
   "metadata": {},
   "source": [
    "### Check get action"
   ]
  },
  {
   "cell_type": "code",
   "execution_count": 7,
   "id": "99e27522-8574-4577-9e08-261acee712e0",
   "metadata": {},
   "outputs": [
    {
     "name": "stdout",
     "output_type": "stream",
     "text": [
      "torch.Size([32, 1]) torch.Size([32, 1])\n",
      "torch.Size([32, 1])\n"
     ]
    }
   ],
   "source": [
    "net = NetWork().to(device)\n",
    "probs, _ = net(states)\n",
    "\n",
    "batch_size = states.size(0)\n",
    "actions = torch.multinomial(probs, 1)\n",
    "\n",
    "selected_probs = torch.gather(probs, 1, actions)\n",
    "\n",
    "print(actions.shape, selected_probs.shape)\n",
    "print(rewards.shape)"
   ]
  },
  {
   "cell_type": "markdown",
   "id": "aa125d29-6d8e-4276-a4db-19f1255816e6",
   "metadata": {},
   "source": [
    "### Check update"
   ]
  },
  {
   "cell_type": "code",
   "execution_count": 8,
   "id": "7323b903-0adb-4307-a67a-b589a4ac7714",
   "metadata": {},
   "outputs": [
    {
     "name": "stdout",
     "output_type": "stream",
     "text": [
      "torch.Size([32, 1]) torch.Size([32, 1])\n",
      "torch.Size([32, 1])\n",
      "torch.Size([32, 1])\n"
     ]
    }
   ],
   "source": [
    "gamma = 0.01\n",
    "lr_pi = 0.0002\n",
    "lr_v = 0.0005\n",
    "done = 0\n",
    "\n",
    "optimizer_pi = optim.Adam(net.parameters(), lr=lr_pi)\n",
    "optimizer_v = optim.Adam(net.parameters(), lr=lr_v)\n",
    "\n",
    "# ========== (1) Update V network ============\n",
    "_, v_next_states = net(next_states)\n",
    "print(rewards.shape, v_next_states.shape)\n",
    "print((gamma * v_next_states * (1-done)).shape)\n",
    "with torch.no_grad():\n",
    "    targets = rewards + gamma * v_next_states * (1 - done)\n",
    "_, v_states = net(states)\n",
    "\n",
    "print(targets.shape)\n",
    "loss_v = F.mse_loss(v_states, targets)\n",
    "\n",
    "# ========== (2) Update pi network ===========\n",
    "with torch.no_grad():\n",
    "    deltas = targets - v_states\n",
    "\n",
    "loss_pi = torch.mean(-torch.log(selected_probs) * deltas)\n",
    "\n",
    "# ========== (3) Calculate loss ===============\n",
    "loss = loss_pi + loss_v\n",
    "\n",
    "optimizer_v.zero_grad()\n",
    "optimizer_pi.zero_grad()\n",
    "\n",
    "loss.mean().backward()\n",
    "\n",
    "optimizer_v.step()\n",
    "optimizer_pi.step()"
   ]
  },
  {
   "cell_type": "code",
   "execution_count": 9,
   "id": "74c29065-6d57-4ac0-9b31-9ce9e8355fff",
   "metadata": {},
   "outputs": [],
   "source": [
    "class AgentSingleNet:\n",
    "    def __init__(self):\n",
    "        self.gamma = 0.98\n",
    "        self.lr_pi = 0.0000002\n",
    "        self.lr_v = 0.0000005\n",
    "        self.action_size = 3\n",
    "\n",
    "        self.net = NetWork().to(device)\n",
    "        \n",
    "        self.optimizer_pi = optim.Adam(self.net.parameters(), lr=self.lr_pi)\n",
    "        self.optimizer_v = optim.Adam(self.net.parameters(), lr=self.lr_v)\n",
    "        \n",
    "    def get_action(self, state):\n",
    "        probs, _ = self.net(state)\n",
    "        \n",
    "        batch_size = state.size(0)\n",
    "        actions = torch.multinomial(probs, 1)\n",
    "        \n",
    "        selected_probs = torch.gather(probs, 1, actions)\n",
    "        return actions, selected_probs\n",
    "        \n",
    "    def update(self, states, actions_probs, rewards, next_states, dones):\n",
    "        # ========== (1) Update V network ============\n",
    "        _, v_next_states = self.net(next_states)\n",
    "        with torch.no_grad():\n",
    "            targets = rewards + self.gamma * v_next_states * (1 - dones)\n",
    "        _, v_states = self.net(states)\n",
    "        loss_v = F.mse_loss(v_states, targets)\n",
    "        \n",
    "        # ========== (2) Update pi network ===========\n",
    "        with torch.no_grad():\n",
    "            deltas = targets - v_states\n",
    "\n",
    "        loss_pi = torch.mean(-torch.log(actions_probs) * deltas)\n",
    "        \n",
    "        # ========== (3) Calculate loss ===============\n",
    "        loss = loss_pi + loss_v\n",
    "        \n",
    "        self.optimizer_v.zero_grad()\n",
    "        self.optimizer_pi.zero_grad()\n",
    "\n",
    "        loss.backward(retain_graph=True)  \n",
    "\n",
    "        self.optimizer_v.step()\n",
    "        self.optimizer_pi.step()\n"
   ]
  },
  {
   "cell_type": "markdown",
   "id": "fac4475f-b01c-4a6b-a651-4a421f2b0c23",
   "metadata": {},
   "source": [
    "### agent test"
   ]
  },
  {
   "cell_type": "code",
   "execution_count": 10,
   "id": "0ad780ca-7eeb-42b9-9030-ad76dc5a141d",
   "metadata": {
    "scrolled": true,
    "tags": []
   },
   "outputs": [
    {
     "name": "stdout",
     "output_type": "stream",
     "text": [
      "0\n",
      "1\n",
      "2\n",
      "3\n",
      "4\n",
      "5\n",
      "6\n",
      "7\n",
      "8\n",
      "9\n",
      "10\n",
      "11\n",
      "12\n",
      "13\n",
      "14\n",
      "15\n",
      "16\n",
      "17\n",
      "18\n",
      "19\n",
      "20\n",
      "21\n",
      "22\n",
      "23\n",
      "24\n",
      "25\n",
      "26\n",
      "27\n",
      "28\n",
      "29\n",
      "30\n",
      "31\n",
      "32\n",
      "33\n",
      "34\n",
      "35\n",
      "36\n",
      "37\n",
      "38\n",
      "39\n",
      "40\n",
      "41\n",
      "42\n",
      "43\n",
      "44\n",
      "45\n",
      "46\n",
      "47\n",
      "48\n",
      "49\n",
      "50\n",
      "51\n",
      "52\n",
      "53\n",
      "54\n",
      "55\n",
      "56\n",
      "57\n",
      "58\n",
      "59\n",
      "60\n",
      "61\n",
      "62\n",
      "63\n",
      "64\n",
      "65\n",
      "66\n",
      "67\n",
      "68\n",
      "69\n",
      "70\n",
      "71\n",
      "72\n",
      "73\n",
      "74\n",
      "75\n",
      "76\n",
      "77\n",
      "78\n",
      "79\n",
      "80\n",
      "81\n",
      "82\n",
      "83\n",
      "84\n",
      "85\n",
      "86\n",
      "87\n",
      "88\n",
      "89\n",
      "90\n",
      "91\n",
      "92\n",
      "93\n",
      "94\n",
      "95\n",
      "96\n",
      "97\n",
      "98\n",
      "99\n",
      "elapsed time is  1637.9705972671509 s\n"
     ]
    }
   ],
   "source": [
    "import collections\n",
    "import time\n",
    "\n",
    "episodes   = 100\n",
    "batch_size = 32\n",
    "\n",
    "env = G4env(batch_size)\n",
    "agent = AgentSingleNet()\n",
    "\n",
    "reward_lis = []\n",
    "angles  = []\n",
    "begin = time.time()\n",
    "\n",
    "for episode in range(episodes):\n",
    "    state = env.reset()\n",
    "    total_reward = 0\n",
    "    count = 0\n",
    "    print(episode)\n",
    "    while 1:\n",
    "        action, prob = agent.get_action(state)\n",
    "        next_state, reward, done = env.step(action)\n",
    "        total_reward += reward.sum()\n",
    "        count += 1\n",
    "\n",
    "        agent.update(state, prob, reward, next_state, done)\n",
    "        state = next_state\n",
    "#         print(\"episode: \",episode,\"step: \", count, \"probs: \", prob, \"actions: \", action, \"angle: \", env.angle)\n",
    "#         print(\"reward: \",reward)\n",
    "        angles.append(env.angle[0])\n",
    "        \n",
    "        if count > 100:\n",
    "            break\n",
    "        if done.sum() > 0:\n",
    "            break\n",
    "    \n",
    "    reward_lis.append(total_reward.item() / batch_size)\n",
    "        \n",
    "    if episode % 10 == 0:\n",
    "        torch.save(agent, \"model02/actor-critic\" + str(episode))\n",
    "end = time.time()\n",
    "print(\"elapsed time is \", end - begin, \"s\")"
   ]
  },
  {
   "cell_type": "code",
   "execution_count": 11,
   "id": "084352e9-e456-49ad-8406-9cf1ef92d090",
   "metadata": {
    "tags": []
   },
   "outputs": [
    {
     "data": {
      "image/png": "[encoded data removed]",
      "text/plain": [
       "<Figure size 432x288 with 1 Axes>"
      ]
     },
     "metadata": {
      "needs_background": "light"
     },
     "output_type": "display_data"
    }
   ],
   "source": [
    "plt.plot(angles)\n",
    "plt.grid()"
   ]
  },
  {
   "cell_type": "code",
   "execution_count": 12,
   "id": "4e0dcabb-8d9c-4d8f-bb2b-cdb308401763",
   "metadata": {},
   "outputs": [
    {
     "data": {
      "text/plain": [
       "array([-10., -10., -10., -10., -10., -10., -10., -10., -10., -10., -10.,\n",
       "       -10., -10., -10., -10., -10., -10., -10., -10., -10., -10., -10.,\n",
       "       -10., -10., -10., -10., -10., -10., -10., -10., -10., -10.])"
      ]
     },
     "execution_count": 12,
     "metadata": {},
     "output_type": "execute_result"
    }
   ],
   "source": [
    "env.angle"
   ]
  },
  {
   "cell_type": "code",
   "execution_count": 13,
   "id": "74fff70b-9a9f-430b-9723-18700e1d0ec1",
   "metadata": {
    "tags": []
   },
   "outputs": [
    {
     "data": {
      "text/plain": [
       "tensor([[0.3372, 0.3304, 0.3324],\n",
       "        [0.3373, 0.3284, 0.3343],\n",
       "        [0.3373, 0.3284, 0.3343],\n",
       "        [0.3372, 0.3304, 0.3324],\n",
       "        [0.3373, 0.3284, 0.3343],\n",
       "        [0.3373, 0.3284, 0.3343],\n",
       "        [0.3372, 0.3304, 0.3324],\n",
       "        [0.3372, 0.3304, 0.3324],\n",
       "        [0.3373, 0.3284, 0.3343],\n",
       "        [0.3373, 0.3284, 0.3343],\n",
       "        [0.3382, 0.3300, 0.3318],\n",
       "        [0.3382, 0.3300, 0.3318],\n",
       "        [0.3382, 0.3300, 0.3318],\n",
       "        [0.3373, 0.3284, 0.3343],\n",
       "        [0.3372, 0.3304, 0.3324],\n",
       "        [0.3382, 0.3300, 0.3318],\n",
       "        [0.3372, 0.3304, 0.3324],\n",
       "        [0.3372, 0.3304, 0.3324],\n",
       "        [0.3372, 0.3304, 0.3324],\n",
       "        [0.3382, 0.3300, 0.3318],\n",
       "        [0.3372, 0.3304, 0.3324],\n",
       "        [0.3372, 0.3304, 0.3324],\n",
       "        [0.3373, 0.3284, 0.3343],\n",
       "        [0.3372, 0.3304, 0.3324],\n",
       "        [0.3372, 0.3304, 0.3324],\n",
       "        [0.3373, 0.3284, 0.3343],\n",
       "        [0.3373, 0.3284, 0.3343],\n",
       "        [0.3372, 0.3304, 0.3324],\n",
       "        [0.3372, 0.3304, 0.3324],\n",
       "        [0.3373, 0.3284, 0.3343],\n",
       "        [0.3373, 0.3284, 0.3343],\n",
       "        [0.3382, 0.3300, 0.3318]], device='cuda:1', grad_fn=<SoftmaxBackward>)"
      ]
     },
     "execution_count": 13,
     "metadata": {},
     "output_type": "execute_result"
    }
   ],
   "source": [
    "probs"
   ]
  },
  {
   "cell_type": "code",
   "execution_count": 14,
   "id": "91688d0b-55de-4aba-bd43-e1b3f1e7a249",
   "metadata": {},
   "outputs": [
    {
     "data": {
      "text/plain": [
       "tensor([[0.9477],\n",
       "        [0.9477],\n",
       "        [0.9477],\n",
       "        [0.9477],\n",
       "        [0.9477],\n",
       "        [0.9477],\n",
       "        [0.9477],\n",
       "        [0.9477],\n",
       "        [0.9477],\n",
       "        [0.9477],\n",
       "        [0.9477],\n",
       "        [0.9477],\n",
       "        [0.9477],\n",
       "        [0.9477],\n",
       "        [0.9477],\n",
       "        [0.9477],\n",
       "        [0.9477],\n",
       "        [0.9477],\n",
       "        [0.9477],\n",
       "        [0.9477],\n",
       "        [0.9477],\n",
       "        [0.9477],\n",
       "        [0.9477],\n",
       "        [0.9477],\n",
       "        [0.9477],\n",
       "        [0.9477],\n",
       "        [0.9477],\n",
       "        [0.9477],\n",
       "        [0.9477],\n",
       "        [0.9477],\n",
       "        [0.9477],\n",
       "        [0.9477]], device='cuda:1')"
      ]
     },
     "execution_count": 14,
     "metadata": {},
     "output_type": "execute_result"
    }
   ],
   "source": [
    "reward"
   ]
  },
  {
   "cell_type": "code",
   "execution_count": 15,
   "id": "5fe1c518-a5fe-49a7-8b0f-11195c506f74",
   "metadata": {},
   "outputs": [
    {
     "data": {
      "text/plain": [
       "[56.43671417236328,\n",
       " 32.629329681396484,\n",
       " 24.508155822753906,\n",
       " 21.052978515625,\n",
       " 18.9679012298584,\n",
       " 30.761817932128906,\n",
       " 43.41719055175781,\n",
       " 73.96256256103516,\n",
       " 70.60169982910156,\n",
       " 71.35444641113281,\n",
       " 71.78173828125,\n",
       " 72.49864959716797,\n",
       " 73.90009307861328,\n",
       " 75.43772888183594,\n",
       " 76.77852630615234,\n",
       " 77.35396575927734,\n",
       " 78.46134948730469,\n",
       " 78.96207427978516,\n",
       " 79.79586791992188,\n",
       " 80.2806396484375,\n",
       " 81.1024169921875,\n",
       " 82.46699523925781,\n",
       " 83.43866729736328,\n",
       " 84.33382415771484,\n",
       " 85.1519546508789,\n",
       " 85.98262023925781,\n",
       " 86.95894622802734,\n",
       " 87.9715576171875,\n",
       " 89.0397720336914,\n",
       " 90.00959777832031,\n",
       " 90.95159149169922,\n",
       " 91.69627380371094,\n",
       " 92.15401458740234,\n",
       " 92.4427490234375,\n",
       " 92.55567932128906,\n",
       " 92.71854400634766,\n",
       " 92.89362335205078,\n",
       " 93.13225555419922,\n",
       " 93.20793151855469,\n",
       " 93.42552947998047,\n",
       " 93.72044372558594,\n",
       " 93.86051940917969,\n",
       " 94.0811538696289,\n",
       " 94.1559829711914,\n",
       " 94.41581726074219,\n",
       " 94.54827880859375,\n",
       " 94.52299499511719,\n",
       " 94.55670928955078,\n",
       " 94.77813720703125,\n",
       " 94.80777740478516,\n",
       " 94.9315414428711,\n",
       " 94.86288452148438,\n",
       " 95.09052276611328,\n",
       " 95.07194519042969,\n",
       " 95.00804138183594,\n",
       " 95.1902847290039,\n",
       " 95.26116943359375,\n",
       " 95.20319366455078,\n",
       " 95.21426391601562,\n",
       " 95.18751525878906,\n",
       " 95.22335815429688,\n",
       " 95.27957153320312,\n",
       " 95.27896118164062,\n",
       " 95.36711883544922,\n",
       " 95.32009887695312,\n",
       " 95.40387725830078,\n",
       " 95.3775863647461,\n",
       " 95.43152618408203,\n",
       " 95.40166473388672,\n",
       " 95.51483917236328,\n",
       " 95.55891418457031,\n",
       " 95.46508026123047,\n",
       " 95.45791625976562,\n",
       " 95.49549102783203,\n",
       " 95.56094360351562,\n",
       " 95.47222137451172,\n",
       " 95.49662017822266,\n",
       " 95.52740478515625,\n",
       " 95.53655242919922,\n",
       " 95.53607940673828,\n",
       " 95.52413940429688,\n",
       " 95.55780792236328,\n",
       " 95.55636596679688,\n",
       " 95.55339050292969,\n",
       " 95.54143524169922,\n",
       " 95.59735870361328,\n",
       " 95.5713119506836,\n",
       " 95.5707015991211,\n",
       " 95.5830078125,\n",
       " 95.57921600341797,\n",
       " 95.60191345214844,\n",
       " 95.56986236572266,\n",
       " 95.5930404663086,\n",
       " 95.6116714477539,\n",
       " 95.59938049316406,\n",
       " 95.61126708984375,\n",
       " 95.60070037841797,\n",
       " 95.60991668701172,\n",
       " 95.59596252441406,\n",
       " 95.61107635498047]"
      ]
     },
     "execution_count": 15,
     "metadata": {},
     "output_type": "execute_result"
    }
   ],
   "source": [
    "reward_lis"
   ]
  },
  {
   "cell_type": "code",
   "execution_count": 16,
   "id": "4d4f7d59-5640-4b0e-977a-6e83711cf77a",
   "metadata": {},
   "outputs": [
    {
     "data": {
      "text/plain": [
       "[<matplotlib.lines.Line2D at 0x7f9be82fa670>]"
      ]
     },
     "execution_count": 16,
     "metadata": {},
     "output_type": "execute_result"
    },
    {
     "data": {
      "image/png": "[encoded data removed]",
      "text/plain": [
       "<Figure size 432x288 with 1 Axes>"
      ]
     },
     "metadata": {
      "needs_background": "light"
     },
     "output_type": "display_data"
    }
   ],
   "source": [
    "plt.plot(reward_lis)"
   ]
  },
  {
   "cell_type": "markdown",
   "id": "e1d0c0bf-c5e6-46b8-9f8d-c2ac2cb4422d",
   "metadata": {},
   "source": [
    "# 改善"
   ]
  },
  {
   "cell_type": "markdown",
   "id": "264167a9-a652-4998-aa2f-3d8db179fe21",
   "metadata": {},
   "source": [
    "一定以上の線量が貯まった場合は、スコアを減点する　上限を作る"
   ]
  },
  {
   "cell_type": "code",
   "execution_count": null,
   "id": "19918235-da9e-4b99-8bce-fbe5d822da45",
   "metadata": {},
   "outputs": [],
   "source": []
  }
 ],
 "metadata": {
  "kernelspec": {
   "display_name": "Python 3 (ipykernel)",
   "language": "python",
   "name": "python3"
  },
  "language_info": {
   "codemirror_mode": {
    "name": "ipython",
    "version": 3
   },
   "file_extension": ".py",
   "mimetype": "text/x-python",
   "name": "python",
   "nbconvert_exporter": "python",
   "pygments_lexer": "ipython3",
   "version": "3.9.12"
  }
 },
 "nbformat": 4,
 "nbformat_minor": 5
}
