{
 "cells": [
  {
   "cell_type": "markdown",
   "id": "43aef910-4c19-4718-9760-bbddd71a9021",
   "metadata": {},
   "source": [
    "# complex evaluation array version"
   ]
  },
  {
   "cell_type": "markdown",
   "id": "8fc6003a-1732-420e-b897-5e170a37f538",
   "metadata": {},
   "source": [
    "# load from prerunning data　bach-train"
   ]
  },
  {
   "cell_type": "code",
   "execution_count": 35,
   "id": "6ec5f996-d87f-45cf-a8dd-75f17521fdf4",
   "metadata": {},
   "outputs": [],
   "source": [
    "import sys,os\n",
    "import numpy as np\n",
    "from itertools import count\n",
    "from collections import namedtuple\n",
    "import pandas as pd\n",
    "import matplotlib.pyplot as plt\n",
    "import subprocess\n",
    "import torch\n",
    "import torch.nn as nn\n",
    "import torch.nn.functional as F\n",
    "import torch.optim as optim\n",
    "from torch.distributions import Categorical\n",
    "\n",
    "device = torch.device(\"cuda:1\" if torch.cuda.is_available() else \"cpu\")"
   ]
  },
  {
   "cell_type": "markdown",
   "id": "5a829da2-116b-411f-9dbb-dc8055446835",
   "metadata": {
    "tags": []
   },
   "source": [
    "# Envのチェック"
   ]
  },
  {
   "cell_type": "code",
   "execution_count": 17,
   "id": "0680a47c-f3cf-42d7-8a26-8119afd9b197",
   "metadata": {},
   "outputs": [],
   "source": [
    "class G4env():\n",
    "    def __init__(self, batch_size = 32):\n",
    "\n",
    "        self.batch_size = batch_size\n",
    "        self.angle = np.zeros(self.batch_size)\n",
    "        self.r = 0\n",
    "        self.done = torch.zeros(self.batch_size).view(self.batch_size,1)\n",
    "\n",
    "        self.ang_range = 85\n",
    "        self.event_num = 1000\n",
    "        self.angle_step = 5.0\n",
    "        self.ev_array = np.zeros((30,31,31))\n",
    "        self.ev_array[15:20, 0:5, 0:5] = 10\n",
    "        self.ev_array[0:20, 5:10, 5:10] = -0.1\n",
    "        \n",
    "        angles = [-90 + 5 * a for a in range(36)]\n",
    "        self.dose = dict()\n",
    "        for angle in angles:\n",
    "            d = pd.read_csv(\"data/dose_t=\" + str(angle) + \".csv\")['dose']\n",
    "            d = np.array(d).reshape(1,30,31,31) / self.event_num\n",
    "            self.dose[angle] = d\n",
    "\n",
    "    def reset(self):\n",
    "        self.r = 0\n",
    "        self.r_new = 0\n",
    "        self.angle = np.zeros(self.batch_size)\n",
    "        self.done = torch.zeros(self.batch_size).view(self.batch_size,1).to(device)\n",
    "\n",
    "        states = np.array([self.dose[a] for a in self.angle])\n",
    "        states = torch.tensor(states, dtype=torch.float32).to(device)\n",
    "        \n",
    "        return states\n",
    "\n",
    "    def step(self, action):\n",
    "\n",
    "        rewards = np.zeros(self.batch_size)\n",
    "        \n",
    "        for b in range(self.batch_size):\n",
    "            \n",
    "            self.angle[b] += self.angle_step * (action[b] - 1)\n",
    "            if (np.abs(self.angle[b]) >= self.ang_range):\n",
    "                self.done[b] = 1\n",
    "            \n",
    "            reward = self.ev_array * self.dose[self.angle[b]]\n",
    "            self.r_new = reward.sum().sum()\n",
    "            \n",
    "            reward = self.r_new\n",
    "\n",
    "            rewards[b] = reward\n",
    "        # reward = self.r - self.r_new\n",
    "        # self.r = self.r_new\n",
    "        \n",
    "        rewards = torch.tensor(rewards, dtype=torch.float32).view(self.batch_size, 1).to(device)\n",
    "        \n",
    "        states = np.array([self.dose[a] for a in self.angle])\n",
    "        states = torch.from_numpy(states).float().to(device)\n",
    "        return states, rewards, self.done"
   ]
  },
  {
   "cell_type": "code",
   "execution_count": 18,
   "id": "30ed2dd9-40e6-44ac-97a3-b0d8159e77f3",
   "metadata": {},
   "outputs": [],
   "source": [
    "e = G4env()\n",
    "dose = e.dose"
   ]
  },
  {
   "cell_type": "code",
   "execution_count": 148,
   "id": "47353e79-ed09-4b9f-95e3-9fe7c14635f6",
   "metadata": {},
   "outputs": [
    {
     "data": {
      "text/plain": [
       "0.9182257799999999"
      ]
     },
     "execution_count": 148,
     "metadata": {},
     "output_type": "execute_result"
    }
   ],
   "source": [
    "dose[-20][0, 15:20, 0:5, 0:5].sum() #+20されている範囲の線量の合計"
   ]
  },
  {
   "cell_type": "code",
   "execution_count": 149,
   "id": "14ea3bb1-07f1-4895-8d5d-a2c9cc0ca4f3",
   "metadata": {},
   "outputs": [
    {
     "data": {
      "text/plain": [
       "51.859664271"
      ]
     },
     "execution_count": 149,
     "metadata": {},
     "output_type": "execute_result"
    }
   ],
   "source": [
    "dose[-20][0, 0:20, 5:10, 5:10].sum() #-1 で追加されている範囲の線量の合計"
   ]
  },
  {
   "cell_type": "markdown",
   "id": "5d4a9919-e253-417d-b9f1-833c6a6935bf",
   "metadata": {},
   "source": [
    "### check env"
   ]
  },
  {
   "cell_type": "code",
   "execution_count": 150,
   "id": "b62b46f8-2313-46b3-a858-a3adcf7b18ed",
   "metadata": {},
   "outputs": [
    {
     "name": "stdout",
     "output_type": "stream",
     "text": [
      "torch.Size([32, 1, 30, 31, 31]) torch.Size([32, 1]) torch.Size([32, 1])\n",
      "torch.Size([32, 1, 30, 31, 31]) torch.Size([32, 1]) torch.Size([32, 1])\n"
     ]
    }
   ],
   "source": [
    "e = G4env()\n",
    "states = e.reset()\n",
    "for _ in range(2):\n",
    "    a = np.random.randint(0,2,32)\n",
    "    next_states = states\n",
    "    states, rewards, dones, = e.step(a)\n",
    "    print(states.shape, rewards.shape, dones.shape)"
   ]
  },
  {
   "cell_type": "code",
   "execution_count": 160,
   "id": "e9162a58-4206-4f55-830a-f12166b021db",
   "metadata": {},
   "outputs": [
    {
     "data": {
      "image/png": "[encoded data removed]",
      "text/plain": [
       "<Figure size 432x288 with 1 Axes>"
      ]
     },
     "metadata": {
      "needs_background": "light"
     },
     "output_type": "display_data"
    },
    {
     "data": {
      "image/png": "[encoded data removed]",
      "text/plain": [
       "<Figure size 432x288 with 1 Axes>"
      ]
     },
     "metadata": {
      "needs_background": "light"
     },
     "output_type": "display_data"
    },
    {
     "data": {
      "image/png": "[encoded data removed]",
      "text/plain": [
       "<Figure size 432x288 with 1 Axes>"
      ]
     },
     "metadata": {
      "needs_background": "light"
     },
     "output_type": "display_data"
    }
   ],
   "source": [
    "reward_lis = []\n",
    "angle_lis  = []\n",
    "\n",
    "plus = []\n",
    "minus = []\n",
    "\n",
    "for i in range(36):\n",
    "    ang = -90 + 5 * i\n",
    "    e.angle = ang * np.ones(e.batch_size)\n",
    "    _, r, _ = e.step(np.ones(e.batch_size))\n",
    "    reward_lis.append(r[0].item())\n",
    "    angle_lis.append(ang)\n",
    "    \n",
    "    plus.append(e.dose[ang][0, 15:20, 0:5, 0:5].sum() * 10)\n",
    "    minus.append(e.dose[ang][0, 0:20, 5:10, 5:10].sum() * -0.1)\n",
    "    \n",
    "    \n",
    "    \n",
    "plt.scatter(angle_lis, reward_lis)\n",
    "plt.show()\n",
    "sum_reward = [plus[i] + minus[i] for i in range(len(plus))]\n",
    "plt.scatter(angle_lis, sum_reward)\n",
    "plt.scatter(angle_lis, plus)\n",
    "plt.scatter(angle_lis, minus)\n",
    "\n",
    "plt.show()\n",
    "\n",
    "ratio = [np.abs(plus[i] / minus[i]) for i in range(len(plus))]\n",
    "plt.scatter(angle_lis, ratio)\n",
    "plt.show()"
   ]
  },
  {
   "cell_type": "code",
   "execution_count": 34,
   "id": "ccc9b426-6a4a-4699-b928-3e3d1559a03e",
   "metadata": {
    "tags": []
   },
   "outputs": [
    {
     "ename": "ModuleNotFoundError",
     "evalue": "No module named 'ipympl'",
     "output_type": "error",
     "traceback": [
      "\u001b[0;31m---------------------------------------------------------------------------\u001b[0m",
      "\u001b[0;31mModuleNotFoundError\u001b[0m                       Traceback (most recent call last)",
      "Input \u001b[0;32mIn [34]\u001b[0m, in \u001b[0;36m<cell line: 3>\u001b[0;34m()\u001b[0m\n\u001b[1;32m      1\u001b[0m \u001b[38;5;28;01mimport\u001b[39;00m \u001b[38;5;21;01mmatplotlib\u001b[39;00m\u001b[38;5;21;01m.\u001b[39;00m\u001b[38;5;21;01mpyplot\u001b[39;00m \u001b[38;5;28;01mas\u001b[39;00m \u001b[38;5;21;01mplt\u001b[39;00m\n\u001b[1;32m      2\u001b[0m \u001b[38;5;28;01mimport\u001b[39;00m \u001b[38;5;21;01mnumpy\u001b[39;00m \u001b[38;5;28;01mas\u001b[39;00m \u001b[38;5;21;01mnp\u001b[39;00m\n\u001b[0;32m----> 3\u001b[0m \u001b[43mget_ipython\u001b[49m\u001b[43m(\u001b[49m\u001b[43m)\u001b[49m\u001b[38;5;241;43m.\u001b[39;49m\u001b[43mrun_line_magic\u001b[49m\u001b[43m(\u001b[49m\u001b[38;5;124;43m'\u001b[39;49m\u001b[38;5;124;43mmatplotlib\u001b[39;49m\u001b[38;5;124;43m'\u001b[39;49m\u001b[43m,\u001b[49m\u001b[43m \u001b[49m\u001b[38;5;124;43m'\u001b[39;49m\u001b[38;5;124;43mwidget\u001b[39;49m\u001b[38;5;124;43m'\u001b[39;49m\u001b[43m)\u001b[49m\n\u001b[1;32m      5\u001b[0m x \u001b[38;5;241m=\u001b[39m np\u001b[38;5;241m.\u001b[39marray([\u001b[38;5;241m0.5\u001b[39m \u001b[38;5;241m*\u001b[39m i \u001b[38;5;28;01mfor\u001b[39;00m i \u001b[38;5;129;01min\u001b[39;00m \u001b[38;5;28mrange\u001b[39m(\u001b[38;5;241m31\u001b[39m) \u001b[38;5;28;01mfor\u001b[39;00m j \u001b[38;5;129;01min\u001b[39;00m \u001b[38;5;28mrange\u001b[39m(\u001b[38;5;241m31\u001b[39m) \u001b[38;5;28;01mfor\u001b[39;00m k \u001b[38;5;129;01min\u001b[39;00m \u001b[38;5;28mrange\u001b[39m(\u001b[38;5;241m30\u001b[39m)])\n\u001b[1;32m      6\u001b[0m y \u001b[38;5;241m=\u001b[39m np\u001b[38;5;241m.\u001b[39marray([\u001b[38;5;241m0.5\u001b[39m \u001b[38;5;241m*\u001b[39m j \u001b[38;5;28;01mfor\u001b[39;00m i \u001b[38;5;129;01min\u001b[39;00m \u001b[38;5;28mrange\u001b[39m(\u001b[38;5;241m31\u001b[39m) \u001b[38;5;28;01mfor\u001b[39;00m j \u001b[38;5;129;01min\u001b[39;00m \u001b[38;5;28mrange\u001b[39m(\u001b[38;5;241m31\u001b[39m) \u001b[38;5;28;01mfor\u001b[39;00m k \u001b[38;5;129;01min\u001b[39;00m \u001b[38;5;28mrange\u001b[39m(\u001b[38;5;241m30\u001b[39m)])\n",
      "File \u001b[0;32m~/.pyenv/versions/anaconda3-2021.11/lib/python3.9/site-packages/IPython/core/interactiveshell.py:2294\u001b[0m, in \u001b[0;36mInteractiveShell.run_line_magic\u001b[0;34m(self, magic_name, line, _stack_depth)\u001b[0m\n\u001b[1;32m   2292\u001b[0m     kwargs[\u001b[38;5;124m'\u001b[39m\u001b[38;5;124mlocal_ns\u001b[39m\u001b[38;5;124m'\u001b[39m] \u001b[38;5;241m=\u001b[39m \u001b[38;5;28mself\u001b[39m\u001b[38;5;241m.\u001b[39mget_local_scope(stack_depth)\n\u001b[1;32m   2293\u001b[0m \u001b[38;5;28;01mwith\u001b[39;00m \u001b[38;5;28mself\u001b[39m\u001b[38;5;241m.\u001b[39mbuiltin_trap:\n\u001b[0;32m-> 2294\u001b[0m     result \u001b[38;5;241m=\u001b[39m \u001b[43mfn\u001b[49m\u001b[43m(\u001b[49m\u001b[38;5;241;43m*\u001b[39;49m\u001b[43margs\u001b[49m\u001b[43m,\u001b[49m\u001b[43m \u001b[49m\u001b[38;5;241;43m*\u001b[39;49m\u001b[38;5;241;43m*\u001b[39;49m\u001b[43mkwargs\u001b[49m\u001b[43m)\u001b[49m\n\u001b[1;32m   2295\u001b[0m \u001b[38;5;28;01mreturn\u001b[39;00m result\n",
      "File \u001b[0;32m~/.pyenv/versions/anaconda3-2021.11/lib/python3.9/site-packages/IPython/core/magics/pylab.py:99\u001b[0m, in \u001b[0;36mPylabMagics.matplotlib\u001b[0;34m(self, line)\u001b[0m\n\u001b[1;32m     97\u001b[0m     \u001b[38;5;28mprint\u001b[39m(\u001b[38;5;124m\"\u001b[39m\u001b[38;5;124mAvailable matplotlib backends: \u001b[39m\u001b[38;5;132;01m%s\u001b[39;00m\u001b[38;5;124m\"\u001b[39m \u001b[38;5;241m%\u001b[39m backends_list)\n\u001b[1;32m     98\u001b[0m \u001b[38;5;28;01melse\u001b[39;00m:\n\u001b[0;32m---> 99\u001b[0m     gui, backend \u001b[38;5;241m=\u001b[39m \u001b[38;5;28;43mself\u001b[39;49m\u001b[38;5;241;43m.\u001b[39;49m\u001b[43mshell\u001b[49m\u001b[38;5;241;43m.\u001b[39;49m\u001b[43menable_matplotlib\u001b[49m\u001b[43m(\u001b[49m\u001b[43margs\u001b[49m\u001b[38;5;241;43m.\u001b[39;49m\u001b[43mgui\u001b[49m\u001b[38;5;241;43m.\u001b[39;49m\u001b[43mlower\u001b[49m\u001b[43m(\u001b[49m\u001b[43m)\u001b[49m\u001b[43m \u001b[49m\u001b[38;5;28;43;01mif\u001b[39;49;00m\u001b[43m \u001b[49m\u001b[38;5;28;43misinstance\u001b[39;49m\u001b[43m(\u001b[49m\u001b[43margs\u001b[49m\u001b[38;5;241;43m.\u001b[39;49m\u001b[43mgui\u001b[49m\u001b[43m,\u001b[49m\u001b[43m \u001b[49m\u001b[38;5;28;43mstr\u001b[39;49m\u001b[43m)\u001b[49m\u001b[43m \u001b[49m\u001b[38;5;28;43;01melse\u001b[39;49;00m\u001b[43m \u001b[49m\u001b[43margs\u001b[49m\u001b[38;5;241;43m.\u001b[39;49m\u001b[43mgui\u001b[49m\u001b[43m)\u001b[49m\n\u001b[1;32m    100\u001b[0m     \u001b[38;5;28mself\u001b[39m\u001b[38;5;241m.\u001b[39m_show_matplotlib_backend(args\u001b[38;5;241m.\u001b[39mgui, backend)\n",
      "File \u001b[0;32m~/.pyenv/versions/anaconda3-2021.11/lib/python3.9/site-packages/IPython/core/interactiveshell.py:3459\u001b[0m, in \u001b[0;36mInteractiveShell.enable_matplotlib\u001b[0;34m(self, gui)\u001b[0m\n\u001b[1;32m   3455\u001b[0m         \u001b[38;5;28mprint\u001b[39m(\u001b[38;5;124m'\u001b[39m\u001b[38;5;124mWarning: Cannot change to a different GUI toolkit: \u001b[39m\u001b[38;5;132;01m%s\u001b[39;00m\u001b[38;5;124m.\u001b[39m\u001b[38;5;124m'\u001b[39m\n\u001b[1;32m   3456\u001b[0m                 \u001b[38;5;124m'\u001b[39m\u001b[38;5;124m Using \u001b[39m\u001b[38;5;132;01m%s\u001b[39;00m\u001b[38;5;124m instead.\u001b[39m\u001b[38;5;124m'\u001b[39m \u001b[38;5;241m%\u001b[39m (gui, \u001b[38;5;28mself\u001b[39m\u001b[38;5;241m.\u001b[39mpylab_gui_select))\n\u001b[1;32m   3457\u001b[0m         gui, backend \u001b[38;5;241m=\u001b[39m pt\u001b[38;5;241m.\u001b[39mfind_gui_and_backend(\u001b[38;5;28mself\u001b[39m\u001b[38;5;241m.\u001b[39mpylab_gui_select)\n\u001b[0;32m-> 3459\u001b[0m \u001b[43mpt\u001b[49m\u001b[38;5;241;43m.\u001b[39;49m\u001b[43mactivate_matplotlib\u001b[49m\u001b[43m(\u001b[49m\u001b[43mbackend\u001b[49m\u001b[43m)\u001b[49m\n\u001b[1;32m   3460\u001b[0m configure_inline_support(\u001b[38;5;28mself\u001b[39m, backend)\n\u001b[1;32m   3462\u001b[0m \u001b[38;5;66;03m# Now we must activate the gui pylab wants to use, and fix %run to take\u001b[39;00m\n\u001b[1;32m   3463\u001b[0m \u001b[38;5;66;03m# plot updates into account\u001b[39;00m\n",
      "File \u001b[0;32m~/.pyenv/versions/anaconda3-2021.11/lib/python3.9/site-packages/IPython/core/pylabtools.py:359\u001b[0m, in \u001b[0;36mactivate_matplotlib\u001b[0;34m(backend)\u001b[0m\n\u001b[1;32m    354\u001b[0m \u001b[38;5;66;03m# Due to circular imports, pyplot may be only partially initialised\u001b[39;00m\n\u001b[1;32m    355\u001b[0m \u001b[38;5;66;03m# when this function runs.\u001b[39;00m\n\u001b[1;32m    356\u001b[0m \u001b[38;5;66;03m# So avoid needing matplotlib attribute-lookup to access pyplot.\u001b[39;00m\n\u001b[1;32m    357\u001b[0m \u001b[38;5;28;01mfrom\u001b[39;00m \u001b[38;5;21;01mmatplotlib\u001b[39;00m \u001b[38;5;28;01mimport\u001b[39;00m pyplot \u001b[38;5;28;01mas\u001b[39;00m plt\n\u001b[0;32m--> 359\u001b[0m \u001b[43mplt\u001b[49m\u001b[38;5;241;43m.\u001b[39;49m\u001b[43mswitch_backend\u001b[49m\u001b[43m(\u001b[49m\u001b[43mbackend\u001b[49m\u001b[43m)\u001b[49m\n\u001b[1;32m    361\u001b[0m plt\u001b[38;5;241m.\u001b[39mshow\u001b[38;5;241m.\u001b[39m_needmain \u001b[38;5;241m=\u001b[39m \u001b[38;5;28;01mFalse\u001b[39;00m\n\u001b[1;32m    362\u001b[0m \u001b[38;5;66;03m# We need to detect at runtime whether show() is called by the user.\u001b[39;00m\n\u001b[1;32m    363\u001b[0m \u001b[38;5;66;03m# For this, we wrap it into a decorator which adds a 'called' flag.\u001b[39;00m\n",
      "File \u001b[0;32m~/.pyenv/versions/anaconda3-2021.11/lib/python3.9/site-packages/matplotlib/pyplot.py:267\u001b[0m, in \u001b[0;36mswitch_backend\u001b[0;34m(newbackend)\u001b[0m\n\u001b[1;32m    260\u001b[0m \u001b[38;5;66;03m# Backends are implemented as modules, but \"inherit\" default method\u001b[39;00m\n\u001b[1;32m    261\u001b[0m \u001b[38;5;66;03m# implementations from backend_bases._Backend.  This is achieved by\u001b[39;00m\n\u001b[1;32m    262\u001b[0m \u001b[38;5;66;03m# creating a \"class\" that inherits from backend_bases._Backend and whose\u001b[39;00m\n\u001b[1;32m    263\u001b[0m \u001b[38;5;66;03m# body is filled with the module's globals.\u001b[39;00m\n\u001b[1;32m    265\u001b[0m backend_name \u001b[38;5;241m=\u001b[39m cbook\u001b[38;5;241m.\u001b[39m_backend_module_name(newbackend)\n\u001b[0;32m--> 267\u001b[0m \u001b[38;5;28;01mclass\u001b[39;00m \u001b[38;5;21;01mbackend_mod\u001b[39;00m(matplotlib\u001b[38;5;241m.\u001b[39mbackend_bases\u001b[38;5;241m.\u001b[39m_Backend):\n\u001b[1;32m    268\u001b[0m     \u001b[38;5;28mlocals\u001b[39m()\u001b[38;5;241m.\u001b[39mupdate(\u001b[38;5;28mvars\u001b[39m(importlib\u001b[38;5;241m.\u001b[39mimport_module(backend_name)))\n\u001b[1;32m    270\u001b[0m required_framework \u001b[38;5;241m=\u001b[39m _get_required_interactive_framework(backend_mod)\n",
      "File \u001b[0;32m~/.pyenv/versions/anaconda3-2021.11/lib/python3.9/site-packages/matplotlib/pyplot.py:268\u001b[0m, in \u001b[0;36mswitch_backend.<locals>.backend_mod\u001b[0;34m()\u001b[0m\n\u001b[1;32m    267\u001b[0m \u001b[38;5;28;01mclass\u001b[39;00m \u001b[38;5;21;01mbackend_mod\u001b[39;00m(matplotlib\u001b[38;5;241m.\u001b[39mbackend_bases\u001b[38;5;241m.\u001b[39m_Backend):\n\u001b[0;32m--> 268\u001b[0m     \u001b[38;5;28mlocals\u001b[39m()\u001b[38;5;241m.\u001b[39mupdate(\u001b[38;5;28mvars\u001b[39m(\u001b[43mimportlib\u001b[49m\u001b[38;5;241;43m.\u001b[39;49m\u001b[43mimport_module\u001b[49m\u001b[43m(\u001b[49m\u001b[43mbackend_name\u001b[49m\u001b[43m)\u001b[49m))\n",
      "File \u001b[0;32m~/.pyenv/versions/anaconda3-2021.11/lib/python3.9/importlib/__init__.py:127\u001b[0m, in \u001b[0;36mimport_module\u001b[0;34m(name, package)\u001b[0m\n\u001b[1;32m    125\u001b[0m             \u001b[38;5;28;01mbreak\u001b[39;00m\n\u001b[1;32m    126\u001b[0m         level \u001b[38;5;241m+\u001b[39m\u001b[38;5;241m=\u001b[39m \u001b[38;5;241m1\u001b[39m\n\u001b[0;32m--> 127\u001b[0m \u001b[38;5;28;01mreturn\u001b[39;00m \u001b[43m_bootstrap\u001b[49m\u001b[38;5;241;43m.\u001b[39;49m\u001b[43m_gcd_import\u001b[49m\u001b[43m(\u001b[49m\u001b[43mname\u001b[49m\u001b[43m[\u001b[49m\u001b[43mlevel\u001b[49m\u001b[43m:\u001b[49m\u001b[43m]\u001b[49m\u001b[43m,\u001b[49m\u001b[43m \u001b[49m\u001b[43mpackage\u001b[49m\u001b[43m,\u001b[49m\u001b[43m \u001b[49m\u001b[43mlevel\u001b[49m\u001b[43m)\u001b[49m\n",
      "File \u001b[0;32m<frozen importlib._bootstrap>:1030\u001b[0m, in \u001b[0;36m_gcd_import\u001b[0;34m(name, package, level)\u001b[0m\n",
      "File \u001b[0;32m<frozen importlib._bootstrap>:1007\u001b[0m, in \u001b[0;36m_find_and_load\u001b[0;34m(name, import_)\u001b[0m\n",
      "File \u001b[0;32m<frozen importlib._bootstrap>:972\u001b[0m, in \u001b[0;36m_find_and_load_unlocked\u001b[0;34m(name, import_)\u001b[0m\n",
      "File \u001b[0;32m<frozen importlib._bootstrap>:228\u001b[0m, in \u001b[0;36m_call_with_frames_removed\u001b[0;34m(f, *args, **kwds)\u001b[0m\n",
      "File \u001b[0;32m<frozen importlib._bootstrap>:1030\u001b[0m, in \u001b[0;36m_gcd_import\u001b[0;34m(name, package, level)\u001b[0m\n",
      "File \u001b[0;32m<frozen importlib._bootstrap>:1007\u001b[0m, in \u001b[0;36m_find_and_load\u001b[0;34m(name, import_)\u001b[0m\n",
      "File \u001b[0;32m<frozen importlib._bootstrap>:984\u001b[0m, in \u001b[0;36m_find_and_load_unlocked\u001b[0;34m(name, import_)\u001b[0m\n",
      "\u001b[0;31mModuleNotFoundError\u001b[0m: No module named 'ipympl'"
     ]
    }
   ],
   "source": [
    "import matplotlib.pyplot as plt\n",
    "import numpy as np\n",
    "%matplotlib widget\n",
    "\n",
    "x = np.array([0.5 * i for i in range(31) for j in range(31) for k in range(30)])\n",
    "y = np.array([0.5 * j for i in range(31) for j in range(31) for k in range(30)])\n",
    "z = np.array([0.5 * k for i in range(31) for j in range(31) for k in range(30)])\n",
    "\n",
    "c = e.ev_array.reshape(31 * 31 * 30)\n",
    "\n",
    "fig = plt.figure(figsize = (6, 6))\n",
    "ax = fig.add_subplot(111, projection='3d')\n",
    "\n",
    "ax.scatter(x, y, z, color=\"blue\", alpha = 0.1, label='label')\n",
    "\n",
    "ax.set_title('title')\n",
    "\n",
    "ax.set_xlabel('X-label')\n",
    "ax.set_ylabel('Y-label')\n",
    "ax.set_zlabel('Z-label')\n",
    "\n",
    "ax.legend()\n",
    "\n",
    "plt.show()"
   ]
  },
  {
   "cell_type": "code",
   "execution_count": 25,
   "id": "54ed76f5-5748-449b-95c4-e564e84adef2",
   "metadata": {},
   "outputs": [
    {
     "data": {
      "image/png": "[encoded data removed]",
      "text/plain": [
       "<Figure size 432x432 with 1 Axes>"
      ]
     },
     "metadata": {
      "needs_background": "light"
     },
     "output_type": "display_data"
    }
   ],
   "source": [
    "import matplotlib.pyplot as plt\n",
    "import numpy as np\n",
    "\n",
    "x = np.array([i for i in range(31)])\n",
    "y = np.array([j for j in range(31)])\n",
    "z = np.array([k for k in range(31)])\n",
    "\n",
    "fig = plt.figure(figsize = (6, 6))\n",
    "ax = fig.add_subplot(111, projection='3d')\n",
    "\n",
    "ax.scatter(x, y, z, color=\"blue\", label='label')\n",
    "\n",
    "ax.set_title('title')\n",
    "\n",
    "ax.set_xlabel('X-label')\n",
    "ax.set_ylabel('Y-label')\n",
    "ax.set_zlabel('Z-label')\n",
    "\n",
    "ax.legend()\n",
    "\n",
    "plt.show()"
   ]
  },
  {
   "cell_type": "markdown",
   "id": "9442c518-2f25-4a39-b91a-27c31464b406",
   "metadata": {},
   "source": [
    "得点がある部分(+, or -の部分だけでいいのではないか。"
   ]
  },
  {
   "cell_type": "code",
   "execution_count": 143,
   "id": "03c972ff-4e74-45b8-bc22-241fc34e56e5",
   "metadata": {
    "scrolled": true
   },
   "outputs": [
    {
     "data": {
      "image/png": "[encoded data removed]",
      "text/plain": [
       "<Figure size 432x288 with 1 Axes>"
      ]
     },
     "metadata": {
      "needs_background": "light"
     },
     "output_type": "display_data"
    },
    {
     "data": {
      "image/png": "[encoded data removed]",
      "text/plain": [
       "<Figure size 432x288 with 1 Axes>"
      ]
     },
     "metadata": {
      "needs_background": "light"
     },
     "output_type": "display_data"
    },
    {
     "data": {
      "image/png": "[encoded data removed]",
      "text/plain": [
       "<Figure size 432x288 with 1 Axes>"
      ]
     },
     "metadata": {
      "needs_background": "light"
     },
     "output_type": "display_data"
    }
   ],
   "source": [
    "plt.imshow(G4env().ev_array.sum(0))\n",
    "plt.show()\n",
    "plt.imshow(G4env().ev_array.sum(1))\n",
    "plt.show()\n",
    "plt.imshow(G4env().ev_array.sum(2))\n",
    "plt.show()"
   ]
  },
  {
   "cell_type": "markdown",
   "id": "3a17cf8a-7088-4749-b1d6-d78e6c75d4ed",
   "metadata": {},
   "source": [
    "# Let's train"
   ]
  },
  {
   "cell_type": "code",
   "execution_count": 54,
   "id": "2c3a8d15-d806-4a67-a4be-dce4ab0ce33f",
   "metadata": {},
   "outputs": [],
   "source": [
    "class NetWork(nn.Module):\n",
    "    def __init__(self, nch_g=32):\n",
    "        super(NetWork, self).__init__()\n",
    "\n",
    "        self.batch_size = 32\n",
    "        \n",
    "        self.conv1 = nn.Conv3d(1        , nch_g    , 2)\n",
    "        self.conv2 = nn.Conv3d(nch_g    , nch_g * 2, 2)\n",
    "        self.conv3 = nn.Conv3d(nch_g * 2, nch_g * 4, 2)\n",
    "\n",
    "        self.relu  = nn.ReLU()\n",
    "        self.flat  = nn.Flatten()\n",
    "\n",
    "        self.policy= nn.Linear(128 * 27 * 28 * 28, 3)\n",
    "        self.value = nn.Linear(128 * 27 * 28 * 28, 1)\n",
    "        self.sfmax = nn.Softmax(dim=1)\n",
    "        \n",
    "    def forward(self, x):\n",
    "        #----------------\n",
    "        x = self.conv1(x)\n",
    "        x = self.relu(x)\n",
    "        #----------------\n",
    "        x = self.conv2(x)\n",
    "        x = self.relu(x)\n",
    "        #----------------\n",
    "        x = self.conv3(x)\n",
    "        x = self.relu(x)\n",
    "        #----------------\n",
    "        x = self.flat(x)\n",
    "        #----------------\n",
    "        probs = self.policy(x)\n",
    "        probs = self.sfmax(probs)\n",
    "        \n",
    "        value  = self.value(x)\n",
    "        \n",
    "        return probs, value\n",
    "        "
   ]
  },
  {
   "cell_type": "code",
   "execution_count": 55,
   "id": "2bd13ab5-91a3-4a0e-9753-dbaea3249da0",
   "metadata": {},
   "outputs": [],
   "source": [
    "class BatchNormNetWork(nn.Module):\n",
    "    def __init__(self, nch_g=32):\n",
    "        super(BatchNormNetWork, self).__init__()\n",
    "\n",
    "        self.batch_size = 32\n",
    "        \n",
    "        self.conv1 = nn.Conv3d(1        , nch_g    , 3, padding=1)\n",
    "        self.bn1 = nn.BatchNorm3d(nch_g)\n",
    "        self.conv2 = nn.Conv3d(nch_g    , nch_g * 2, 3, padding=1)\n",
    "        self.bn2 = nn.BatchNorm3d(nch_g * 2)\n",
    "        self.conv3 = nn.Conv3d(nch_g * 2, nch_g * 4, 3, padding=1)\n",
    "        self.bn3 = nn.BatchNorm3d(nch_g * 4)\n",
    "\n",
    "        self.relu  = nn.LeakyReLU(0.2, inplace=True)\n",
    "        self.pool = nn.MaxPool3d(2)\n",
    "\n",
    "        self.flat  = nn.Flatten()\n",
    "\n",
    "        self.policy= nn.Linear(nch_g * 4 * 9 * 14 * 14, 3)\n",
    "        self.value = nn.Linear(nch_g * 4 * 9 * 14 * 14, 1)\n",
    "        self.sfmax = nn.Softmax(dim=1)\n",
    "        \n",
    "    def forward(self, x):\n",
    "        #----------------\n",
    "        x = self.conv1(x)\n",
    "        x = self.bn1(x)\n",
    "        x = self.relu(x)\n",
    "        x = self.pool(x)\n",
    "        #----------------\n",
    "        x = self.conv2(x)\n",
    "        x = self.bn2(x)\n",
    "        x = self.relu(x)\n",
    "        x = self.pool(x)\n",
    "        #----------------\n",
    "        x = self.conv3(x)\n",
    "        x = self.bn3(x)\n",
    "        x = self.relu(x)\n",
    "        x = self.pool(x)\n",
    "        #----------------\n",
    "        x = self.flat(x)\n",
    "        #----------------\n",
    "        probs = self.policy(x)\n",
    "        probs = self.sfmax(probs)\n",
    "        \n",
    "        value  = self.value(x)\n",
    "        \n",
    "        return probs, value\n"
   ]
  },
  {
   "cell_type": "markdown",
   "id": "247d838c-b5fd-4bba-9545-5096d28aeab3",
   "metadata": {},
   "source": [
    "### Check get action"
   ]
  },
  {
   "cell_type": "code",
   "execution_count": 56,
   "id": "6b230b64-65b9-4d68-9fce-bee1800eb5b3",
   "metadata": {},
   "outputs": [
    {
     "name": "stdout",
     "output_type": "stream",
     "text": [
      "torch.Size([32, 1]) torch.Size([32, 1])\n",
      "torch.Size([32, 1])\n"
     ]
    }
   ],
   "source": [
    "net = NetWork().to(device)\n",
    "probs, _ = net(states)\n",
    "\n",
    "batch_size = states.size(0)\n",
    "actions = torch.multinomial(probs, 1)\n",
    "\n",
    "selected_probs = torch.gather(probs, 1, actions)\n",
    "\n",
    "print(actions.shape, selected_probs.shape)\n",
    "print(rewards.shape)"
   ]
  },
  {
   "cell_type": "markdown",
   "id": "78bb636a-c298-4d26-ae7a-ea6fad84da37",
   "metadata": {},
   "source": [
    "### Check update"
   ]
  },
  {
   "cell_type": "code",
   "execution_count": 57,
   "id": "39449428-60c9-47b1-8c06-e9bf1ee551a5",
   "metadata": {},
   "outputs": [
    {
     "name": "stdout",
     "output_type": "stream",
     "text": [
      "torch.Size([32, 1]) torch.Size([32, 1])\n",
      "torch.Size([32, 1])\n",
      "torch.Size([32, 1])\n"
     ]
    }
   ],
   "source": [
    "gamma = 0.01\n",
    "lr_pi = 0.0002\n",
    "lr_v = 0.0005\n",
    "done = 0\n",
    "\n",
    "optimizer_pi = optim.Adam(net.parameters(), lr=lr_pi)\n",
    "optimizer_v = optim.Adam(net.parameters(), lr=lr_v)\n",
    "\n",
    "# ========== (1) Update V network ============\n",
    "_, v_next_states = net(next_states)\n",
    "print(rewards.shape, v_next_states.shape)\n",
    "print((gamma * v_next_states * (1-done)).shape)\n",
    "with torch.no_grad():\n",
    "    targets = rewards + gamma * v_next_states * (1 - done)\n",
    "_, v_states = net(states)\n",
    "\n",
    "print(targets.shape)\n",
    "loss_v = F.mse_loss(v_states, targets)\n",
    "\n",
    "# ========== (2) Update pi network ===========\n",
    "with torch.no_grad():\n",
    "    deltas = targets - v_states\n",
    "\n",
    "loss_pi = torch.mean(-torch.log(selected_probs) * deltas)\n",
    "\n",
    "# ========== (3) Calculate loss ===============\n",
    "loss = loss_pi + loss_v\n",
    "\n",
    "optimizer_v.zero_grad()\n",
    "optimizer_pi.zero_grad()\n",
    "\n",
    "loss.mean().backward()\n",
    "\n",
    "optimizer_v.step()\n",
    "optimizer_pi.step()"
   ]
  },
  {
   "cell_type": "code",
   "execution_count": 58,
   "id": "75119cd9-f096-4003-aaee-f3a152d76d5a",
   "metadata": {},
   "outputs": [],
   "source": [
    "class AgentSingleNet:\n",
    "    def __init__(self):\n",
    "        self.gamma = 0.98\n",
    "        self.lr_pi = 0.0000002\n",
    "        self.lr_v = 0.0000005\n",
    "        self.action_size = 3\n",
    "\n",
    "        self.net = NetWork().to(device)\n",
    "        \n",
    "        self.optimizer_pi = optim.Adam(self.net.parameters(), lr=self.lr_pi)\n",
    "        self.optimizer_v = optim.Adam(self.net.parameters(), lr=self.lr_v)\n",
    "        \n",
    "    def get_action(self, state):\n",
    "        probs, _ = self.net(state)\n",
    "        \n",
    "        batch_size = state.size(0)\n",
    "        actions = torch.multinomial(probs, 1)\n",
    "        \n",
    "        selected_probs = torch.gather(probs, 1, actions)\n",
    "        return actions, selected_probs\n",
    "        \n",
    "    def update(self, states, actions_probs, rewards, next_states, dones):\n",
    "        # ========== (1) Update V network ============\n",
    "        _, v_next_states = self.net(next_states)\n",
    "        with torch.no_grad():\n",
    "            targets = rewards + self.gamma * v_next_states * (1 - dones)\n",
    "        _, v_states = self.net(states)\n",
    "        loss_v = F.mse_loss(v_states, targets)\n",
    "        \n",
    "        # ========== (2) Update pi network ===========\n",
    "        with torch.no_grad():\n",
    "            deltas = targets - v_states\n",
    "\n",
    "        loss_pi = torch.mean(-torch.log(actions_probs) * deltas)\n",
    "        \n",
    "        # ========== (3) Calculate loss ===============\n",
    "        loss = loss_pi + loss_v\n",
    "        \n",
    "        self.optimizer_v.zero_grad()\n",
    "        self.optimizer_pi.zero_grad()\n",
    "\n",
    "        loss.backward(retain_graph=True)  \n",
    "\n",
    "        self.optimizer_v.step()\n",
    "        self.optimizer_pi.step()\n"
   ]
  },
  {
   "cell_type": "markdown",
   "id": "a4c782b7-c4cb-49a3-840b-6bbdad2f07b9",
   "metadata": {},
   "source": [
    "### agent test"
   ]
  },
  {
   "cell_type": "code",
   "execution_count": 60,
   "id": "56971335-6484-4a3d-a107-fd4d360528a4",
   "metadata": {
    "scrolled": true,
    "tags": []
   },
   "outputs": [
    {
     "name": "stdout",
     "output_type": "stream",
     "text": [
      "0\n",
      "1\n",
      "2\n",
      "3\n",
      "4\n",
      "5\n",
      "6\n",
      "7\n",
      "8\n",
      "9\n",
      "10\n",
      "11\n",
      "12\n",
      "13\n",
      "14\n",
      "15\n",
      "16\n",
      "17\n",
      "18\n",
      "19\n",
      "20\n",
      "21\n",
      "22\n",
      "23\n",
      "24\n",
      "25\n",
      "26\n",
      "27\n",
      "28\n",
      "29\n",
      "30\n",
      "31\n",
      "32\n",
      "33\n",
      "34\n",
      "35\n",
      "36\n",
      "37\n",
      "38\n",
      "39\n",
      "40\n",
      "41\n",
      "42\n",
      "43\n",
      "44\n",
      "45\n",
      "46\n",
      "47\n",
      "48\n",
      "49\n",
      "50\n",
      "51\n",
      "52\n",
      "53\n",
      "54\n",
      "55\n",
      "56\n",
      "57\n",
      "58\n",
      "59\n",
      "60\n",
      "61\n",
      "62\n",
      "63\n",
      "64\n",
      "65\n",
      "66\n",
      "67\n",
      "68\n",
      "69\n",
      "70\n",
      "71\n",
      "72\n",
      "73\n",
      "74\n",
      "75\n",
      "76\n",
      "77\n",
      "78\n",
      "79\n",
      "80\n",
      "81\n",
      "82\n",
      "83\n",
      "84\n",
      "85\n",
      "86\n",
      "87\n",
      "88\n",
      "89\n",
      "90\n",
      "91\n",
      "92\n",
      "93\n",
      "94\n",
      "95\n",
      "96\n",
      "97\n",
      "98\n",
      "99\n",
      "elapsed time is  295.03851771354675 s\n"
     ]
    }
   ],
   "source": [
    "import collections\n",
    "import time\n",
    "\n",
    "episodes   = 100\n",
    "batch_size = 32\n",
    "\n",
    "env = G4env(batch_size)\n",
    "agent = AgentSingleNet()\n",
    "\n",
    "reward_lis = []\n",
    "angles  = []\n",
    "begin = time.time()\n",
    "\n",
    "for episode in range(episodes):\n",
    "    state = env.reset()\n",
    "    total_reward = 0\n",
    "    count = 0\n",
    "    print(episode)\n",
    "    while 1:\n",
    "        action, prob = agent.get_action(state)\n",
    "        next_state, reward, done = env.step(action)\n",
    "        total_reward += reward.sum()\n",
    "        count += 1\n",
    "\n",
    "        agent.update(state, prob, reward, next_state, done)\n",
    "        state = next_state\n",
    "#         print(\"episode: \",episode,\"step: \", count, \"probs: \", prob, \"actions: \", action, \"angle: \", env.angle)\n",
    "#         print(\"reward: \",reward)\n",
    "        angles.append(env.angle[0])\n",
    "        \n",
    "        if count > 100:\n",
    "            break\n",
    "        if done.sum() > 0:\n",
    "            break\n",
    "    \n",
    "    reward_lis.append(total_reward.item() / batch_size)\n",
    "        \n",
    "    if episode % 10 == 0:\n",
    "        torch.save(agent, \"model04/actor-critic\" + str(episode))\n",
    "end = time.time()\n",
    "print(\"elapsed time is \", end - begin, \"s\")"
   ]
  },
  {
   "cell_type": "code",
   "execution_count": 61,
   "id": "f15658fa-00f9-4a77-b2f5-7f3aa6498e68",
   "metadata": {
    "tags": []
   },
   "outputs": [
    {
     "data": {
      "image/png": "[encoded data removed]",
      "text/plain": [
       "<Figure size 432x288 with 1 Axes>"
      ]
     },
     "metadata": {
      "needs_background": "light"
     },
     "output_type": "display_data"
    }
   ],
   "source": [
    "plt.plot(angles)\n",
    "plt.grid()"
   ]
  },
  {
   "cell_type": "code",
   "execution_count": 62,
   "id": "91f4c9b0-0129-4e8b-9bf5-3a98e0fd2d0b",
   "metadata": {},
   "outputs": [
    {
     "data": {
      "text/plain": [
       "array([-85., -85., -85., -85., -85., -85., -85., -85., -85., -85., -85.,\n",
       "       -85., -85., -85., -85., -85., -85., -85., -85., -85., -85., -85.,\n",
       "       -85., -85., -85., -85., -85., -85., -85., -85., -85., -85.])"
      ]
     },
     "execution_count": 62,
     "metadata": {},
     "output_type": "execute_result"
    }
   ],
   "source": [
    "env.angle"
   ]
  },
  {
   "cell_type": "code",
   "execution_count": 63,
   "id": "c0edd724-7872-47a0-b673-6e5ece5b3536",
   "metadata": {
    "collapsed": true,
    "jupyter": {
     "outputs_hidden": true
    },
    "tags": []
   },
   "outputs": [
    {
     "data": {
      "text/plain": [
       "tensor([[0.3372, 0.3397, 0.3230],\n",
       "        [0.3349, 0.3412, 0.3239],\n",
       "        [0.3349, 0.3412, 0.3239],\n",
       "        [0.3349, 0.3412, 0.3239],\n",
       "        [0.3353, 0.3399, 0.3248],\n",
       "        [0.3372, 0.3397, 0.3230],\n",
       "        [0.3353, 0.3399, 0.3248],\n",
       "        [0.3349, 0.3412, 0.3239],\n",
       "        [0.3372, 0.3397, 0.3230],\n",
       "        [0.3372, 0.3397, 0.3230],\n",
       "        [0.3353, 0.3399, 0.3248],\n",
       "        [0.3349, 0.3412, 0.3239],\n",
       "        [0.3349, 0.3412, 0.3239],\n",
       "        [0.3349, 0.3412, 0.3239],\n",
       "        [0.3353, 0.3399, 0.3248],\n",
       "        [0.3353, 0.3399, 0.3248],\n",
       "        [0.3349, 0.3412, 0.3239],\n",
       "        [0.3372, 0.3397, 0.3230],\n",
       "        [0.3353, 0.3399, 0.3248],\n",
       "        [0.3353, 0.3399, 0.3248],\n",
       "        [0.3349, 0.3412, 0.3239],\n",
       "        [0.3372, 0.3397, 0.3230],\n",
       "        [0.3372, 0.3397, 0.3230],\n",
       "        [0.3349, 0.3412, 0.3239],\n",
       "        [0.3372, 0.3397, 0.3230],\n",
       "        [0.3349, 0.3412, 0.3239],\n",
       "        [0.3353, 0.3399, 0.3248],\n",
       "        [0.3353, 0.3399, 0.3248],\n",
       "        [0.3349, 0.3412, 0.3239],\n",
       "        [0.3372, 0.3397, 0.3230],\n",
       "        [0.3349, 0.3412, 0.3239],\n",
       "        [0.3372, 0.3397, 0.3230]], device='cuda:1', grad_fn=<SoftmaxBackward>)"
      ]
     },
     "execution_count": 63,
     "metadata": {},
     "output_type": "execute_result"
    }
   ],
   "source": [
    "probs"
   ]
  },
  {
   "cell_type": "code",
   "execution_count": 64,
   "id": "00b7ffb8-c53a-4bd7-a669-01da8d6f96a1",
   "metadata": {
    "collapsed": true,
    "jupyter": {
     "outputs_hidden": true
    },
    "tags": []
   },
   "outputs": [
    {
     "data": {
      "text/plain": [
       "tensor([[-4.8229],\n",
       "        [-4.8229],\n",
       "        [-4.8229],\n",
       "        [-4.8229],\n",
       "        [-4.8229],\n",
       "        [-4.8229],\n",
       "        [-4.8229],\n",
       "        [-4.8229],\n",
       "        [-4.8229],\n",
       "        [-4.8229],\n",
       "        [-4.8229],\n",
       "        [-4.8229],\n",
       "        [-4.8229],\n",
       "        [-4.8229],\n",
       "        [-4.8229],\n",
       "        [-4.8229],\n",
       "        [-4.8229],\n",
       "        [-4.8229],\n",
       "        [-4.8229],\n",
       "        [-4.8229],\n",
       "        [-4.8229],\n",
       "        [-4.8229],\n",
       "        [-4.8229],\n",
       "        [-4.8229],\n",
       "        [-4.8229],\n",
       "        [-4.8229],\n",
       "        [-4.8229],\n",
       "        [-4.8229],\n",
       "        [-4.8229],\n",
       "        [-4.8229],\n",
       "        [-4.8229],\n",
       "        [-4.8229]], device='cuda:1')"
      ]
     },
     "execution_count": 64,
     "metadata": {},
     "output_type": "execute_result"
    }
   ],
   "source": [
    "reward"
   ]
  },
  {
   "cell_type": "code",
   "execution_count": 65,
   "id": "770adfc7-e1d3-476b-a933-dca8851db77f",
   "metadata": {
    "collapsed": true,
    "jupyter": {
     "outputs_hidden": true
    },
    "tags": []
   },
   "outputs": [
    {
     "data": {
      "text/plain": [
       "[-2041.5972900390625,\n",
       " -607.3330078125,\n",
       " -532.4995727539062,\n",
       " -474.9626770019531,\n",
       " -452.8917236328125,\n",
       " -418.8292236328125,\n",
       " -422.74261474609375,\n",
       " -422.69354248046875,\n",
       " -390.82257080078125,\n",
       " -391.8130187988281,\n",
       " -388.4189147949219,\n",
       " -388.9317932128906,\n",
       " -376.8341979980469,\n",
       " -375.0367736816406,\n",
       " -375.9881286621094,\n",
       " -383.9181213378906,\n",
       " -373.4056396484375,\n",
       " -375.9552001953125,\n",
       " -370.4021301269531,\n",
       " -367.0992126464844,\n",
       " -367.9613037109375,\n",
       " -365.77490234375,\n",
       " -364.0028381347656,\n",
       " -366.7359924316406,\n",
       " -367.2105712890625,\n",
       " -365.2139587402344,\n",
       " -364.9334716796875,\n",
       " -364.77325439453125,\n",
       " -363.6541748046875,\n",
       " -364.15557861328125,\n",
       " -364.6846923828125,\n",
       " -368.3778076171875,\n",
       " -364.26226806640625,\n",
       " -363.6541748046875,\n",
       " -363.6541748046875,\n",
       " -364.0028381347656,\n",
       " -364.6846923828125,\n",
       " -363.6541748046875,\n",
       " -363.6541748046875,\n",
       " -363.6541748046875,\n",
       " -363.6541748046875,\n",
       " -363.6968994140625,\n",
       " -363.6541748046875,\n",
       " -364.6190490722656,\n",
       " -363.6541748046875,\n",
       " -363.6541748046875,\n",
       " -363.6541748046875,\n",
       " -363.6541748046875,\n",
       " -363.6541748046875,\n",
       " -363.6541748046875,\n",
       " -363.6541748046875,\n",
       " -363.6541748046875,\n",
       " -363.6541748046875,\n",
       " -363.6541748046875,\n",
       " -363.6541748046875,\n",
       " -363.6541748046875,\n",
       " -363.6541748046875,\n",
       " -364.33758544921875,\n",
       " -363.6541748046875,\n",
       " -363.6541748046875,\n",
       " -363.6541748046875,\n",
       " -363.6541748046875,\n",
       " -363.6541748046875,\n",
       " -363.6541748046875,\n",
       " -363.6541748046875,\n",
       " -366.6693420410156,\n",
       " -363.6541748046875,\n",
       " -363.6541748046875,\n",
       " -363.6541748046875,\n",
       " -363.6541748046875,\n",
       " -363.6541748046875,\n",
       " -364.9334716796875,\n",
       " -363.6541748046875,\n",
       " -363.6541748046875,\n",
       " -363.6541748046875,\n",
       " -363.6541748046875,\n",
       " -363.6541748046875,\n",
       " -363.6541748046875,\n",
       " -363.6541748046875,\n",
       " -363.6541748046875,\n",
       " -363.6541748046875,\n",
       " -363.6541748046875,\n",
       " -363.6541748046875,\n",
       " -363.6541748046875,\n",
       " -363.6541748046875,\n",
       " -363.6541748046875,\n",
       " -363.6541748046875,\n",
       " -363.6541748046875,\n",
       " -363.6541748046875,\n",
       " -364.33758544921875,\n",
       " -363.6541748046875,\n",
       " -363.6541748046875,\n",
       " -363.6541748046875,\n",
       " -363.6541748046875,\n",
       " -363.6541748046875,\n",
       " -363.6541748046875,\n",
       " -363.6541748046875,\n",
       " -363.6541748046875,\n",
       " -363.6541748046875,\n",
       " -363.6541748046875]"
      ]
     },
     "execution_count": 65,
     "metadata": {},
     "output_type": "execute_result"
    }
   ],
   "source": [
    "reward_lis"
   ]
  },
  {
   "cell_type": "code",
   "execution_count": 66,
   "id": "7cc47bbb-ee00-45dd-b204-797d0a19b42c",
   "metadata": {},
   "outputs": [
    {
     "data": {
      "text/plain": [
       "[<matplotlib.lines.Line2D at 0x7fca7db37a00>]"
      ]
     },
     "execution_count": 66,
     "metadata": {},
     "output_type": "execute_result"
    },
    {
     "data": {
      "image/png": "[encoded data removed]",
      "text/plain": [
       "<Figure size 432x288 with 1 Axes>"
      ]
     },
     "metadata": {
      "needs_background": "light"
     },
     "output_type": "display_data"
    }
   ],
   "source": [
    "plt.plot(reward_lis)"
   ]
  },
  {
   "cell_type": "markdown",
   "id": "4f0ce9e5-e3fd-4567-8f48-4f2528f88550",
   "metadata": {},
   "source": [
    "# 結果"
   ]
  },
  {
   "cell_type": "markdown",
   "id": "6b5304a7-3466-4066-8bfe-55590f981ac6",
   "metadata": {},
   "source": [
    "学習が進み、最高の得点を得られる照射角度である-85度に移動することが確認できた。\n",
    "\n",
    "学習速度は、報酬の角度分布が学習しやすい形状だったからと考えられる。\n",
    "\n",
    "-5度で当てることで最高の線量が得られる報酬行列に追加して線量が当たることで得点が下がる部分を追加したことでactionが変更されていることが確認できた。\n",
    "\n",
    "報酬の与え方は難しい。一定の線量を標的に当て、かつ他の範囲への線量を少なくする必要があるため。"
   ]
  },
  {
   "cell_type": "code",
   "execution_count": null,
   "id": "9cb01f91-bd36-43d7-9cc0-5fa98d5c10ca",
   "metadata": {},
   "outputs": [],
   "source": []
  }
 ],
 "metadata": {
  "kernelspec": {
   "display_name": "Python 3 (ipykernel)",
   "language": "python",
   "name": "python3"
  },
  "language_info": {
   "codemirror_mode": {
    "name": "ipython",
    "version": 3
   },
   "file_extension": ".py",
   "mimetype": "text/x-python",
   "name": "python",
   "nbconvert_exporter": "python",
   "pygments_lexer": "ipython3",
   "version": "3.9.12"
  }
 },
 "nbformat": 4,
 "nbformat_minor": 5
}
