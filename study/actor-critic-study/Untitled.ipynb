{
 "cells": [
  {
   "cell_type": "markdown",
   "id": "23d02f30-0c1a-4b7d-8d43-5fccfc8263b9",
   "metadata": {},
   "source": [
    "# New env"
   ]
  },
  {
   "cell_type": "markdown",
   "id": "7ec6e43e-51ac-4b1b-aa43-7abb95fe6607",
   "metadata": {},
   "source": [
    "# load from prerunning data　bach-train"
   ]
  },
  {
   "cell_type": "code",
   "execution_count": 1,
   "id": "65ac0f7b-9902-487f-95be-d0dedf0806da",
   "metadata": {},
   "outputs": [],
   "source": [
    "import sys,os\n",
    "import numpy as np\n",
    "from itertools import count\n",
    "from collections import namedtuple\n",
    "import pandas as pd\n",
    "import matplotlib.pyplot as plt\n",
    "import subprocess\n",
    "import torch\n",
    "import torch.nn as nn\n",
    "import torch.nn.functional as F\n",
    "import torch.optim as optim\n",
    "from torch.distributions import Categorical\n",
    "\n",
    "device = torch.device(\"cuda:1\" if torch.cuda.is_available() else \"cpu\")"
   ]
  },
  {
   "cell_type": "markdown",
   "id": "e8a4e71d-5a7d-4d0f-9b28-dba362234e0a",
   "metadata": {},
   "source": [
    "# Envの作成"
   ]
  },
  {
   "cell_type": "code",
   "execution_count": 15,
   "id": "3649dea6-a97e-42c7-9d9b-c6b979a89ac7",
   "metadata": {},
   "outputs": [],
   "source": [
    "class G4env():\n",
    "    def __init__(self, batch_size = 64):\n",
    "\n",
    "        self.batch_size = batch_size\n",
    "        self.angle = np.zeros(self.batch_size)\n",
    "        self.r = torch.empty((1,30,31,31),dtype=torch.float32)\n",
    "        self.done = torch.zeros(self.batch_size).view(self.batch_size,1)\n",
    "\n",
    "        self.ang_range = 85\n",
    "        self.event_num = 1000\n",
    "        self.angle_step = 5.0\n",
    "        \n",
    "        # Make evaluate array  \n",
    "        self.ev_array = torch.zeros((30,31,31))\n",
    "        self.ev_array[15:20, 0:5, 0:5] = 1\n",
    "        \n",
    "        # Make dict of dose distribution and angle \n",
    "        self.dose = dict()\n",
    "        angles = [-90 + 5 * a for a in range(36)]\n",
    "        for angle in angles:\n",
    "            d = pd.read_csv(\"data/dose_t=\" + str(angle) + \".csv\")['dose']\n",
    "            d = np.array(d).reshape(1,30,31,31) / self.event_num\n",
    "            # d = torch.tensor(d)\n",
    "            self.dose[angle] = d\n",
    "\n",
    "    def reset(self):\n",
    "        self.r = torch.zeros((1,30,31,31),dtype=torch.float32)\n",
    "        self.r_new = 0\n",
    "        self.angle = np.zeros(self.batch_size)\n",
    "        self.done = torch.zeros(self.batch_size).view(self.batch_size,1).to(device)\n",
    "\n",
    "        states = np.array([self.dose[a] for a in self.angle])\n",
    "        states = torch.tensor(states, dtype=torch.float32).to(device)\n",
    "        \n",
    "        return states\n",
    "    \n",
    "    def GetReward(self, angle):#報酬の計算用関数\n",
    "        self.r = self.ev_array * self.dose[angle] #報酬を記憶\n",
    "        reward = self.r.to(torch.float32).sum().sum().view(-1)\n",
    "        \n",
    "        return reward\n",
    "    \n",
    "    def step(self, action):\n",
    "\n",
    "        rewards = torch.empty(0,dtype=torch.float32)\n",
    "        \n",
    "        for b in range(self.batch_size):    \n",
    "            self.angle[b] += self.angle_step * (action[b] - 1)\n",
    "            \n",
    "            if (np.abs(self.angle[b]) >= self.ang_range):\n",
    "                self.done[b] = 1\n",
    "            \n",
    "            reward = self.GetReward(self.angle[b])      #Reward を計算\n",
    "            rewards = torch.cat([rewards, reward],dim=0) #配列を組み合わせる(append, push_back) \n",
    "            \n",
    "        rewards = rewards.view(self.batch_size, 1).to(device)\n",
    "        \n",
    "        states = np.array([self.dose[a] for a in self.angle])\n",
    "        states = torch.from_numpy(states).float().to(device)\n",
    "        return states, rewards, self.done\n",
    "    \n"
   ]
  },
  {
   "cell_type": "markdown",
   "id": "14d34cb7-0e3b-4b0c-8cac-da9ac7ab68a4",
   "metadata": {},
   "source": [
    "### check env"
   ]
  },
  {
   "cell_type": "code",
   "execution_count": 5,
   "id": "abe4bf88-0733-4703-ba70-2d62af236638",
   "metadata": {},
   "outputs": [
    {
     "name": "stdout",
     "output_type": "stream",
     "text": [
      "torch.Size([64, 1, 30, 31, 31]) torch.Size([64, 1]) torch.Size([64, 1])\n"
     ]
    }
   ],
   "source": [
    "e = G4env()\n",
    "states = e.reset()\n",
    "for _ in range(2):\n",
    "    a = np.random.randint(0,2,e.batch_size)\n",
    "    next_states = states\n",
    "    states, rewards, dones, = e.step(a)\n",
    "print(states.shape, rewards.shape, dones.shape)"
   ]
  },
  {
   "cell_type": "code",
   "execution_count": 6,
   "id": "2991183f-384d-4ce1-9d6f-9ba4eaa1a620",
   "metadata": {
    "scrolled": true,
    "tags": []
   },
   "outputs": [
    {
     "data": {
      "image/png": "[encoded data removed]",
      "text/plain": [
       "<Figure size 432x288 with 1 Axes>"
      ]
     },
     "metadata": {
      "needs_background": "light"
     },
     "output_type": "display_data"
    },
    {
     "data": {
      "image/png": "[encoded data removed]",
      "text/plain": [
       "<Figure size 432x288 with 1 Axes>"
      ]
     },
     "metadata": {
      "needs_background": "light"
     },
     "output_type": "display_data"
    },
    {
     "data": {
      "image/png": "[encoded data removed]",
      "text/plain": [
       "<Figure size 432x288 with 1 Axes>"
      ]
     },
     "metadata": {
      "needs_background": "light"
     },
     "output_type": "display_data"
    }
   ],
   "source": [
    "plt.imshow(G4env().ev_array.sum(0))\n",
    "plt.show()\n",
    "plt.imshow(G4env().ev_array.sum(1))\n",
    "plt.show()\n",
    "plt.imshow(G4env().ev_array.sum(2))\n",
    "plt.show()"
   ]
  },
  {
   "cell_type": "markdown",
   "id": "642ab084-9240-4aeb-a9e8-d0055b446800",
   "metadata": {
    "tags": []
   },
   "source": [
    "# Let's train"
   ]
  },
  {
   "cell_type": "code",
   "execution_count": 7,
   "id": "0308b8ff-7ed5-4a38-96e1-4271e183590e",
   "metadata": {},
   "outputs": [],
   "source": [
    "class NetWork(nn.Module):\n",
    "    def __init__(self, nch_g=32):\n",
    "        super(NetWork, self).__init__()\n",
    "\n",
    "        self.batch_size = 32\n",
    "        \n",
    "        self.conv1 = nn.Conv3d(1        , nch_g    , 2)\n",
    "        self.conv2 = nn.Conv3d(nch_g    , nch_g * 2, 2)\n",
    "        self.conv3 = nn.Conv3d(nch_g * 2, nch_g * 4, 2)\n",
    "\n",
    "        self.relu  = nn.ReLU()\n",
    "        self.flat  = nn.Flatten()\n",
    "\n",
    "        self.policy= nn.Linear(128 * 27 * 28 * 28, 3)\n",
    "        self.value = nn.Linear(128 * 27 * 28 * 28, 1)\n",
    "        self.sfmax = nn.Softmax(dim=1)\n",
    "        \n",
    "    def forward(self, x):\n",
    "        #----------------\n",
    "        x = self.conv1(x)\n",
    "        x = self.relu(x)\n",
    "        #----------------\n",
    "        x = self.conv2(x)\n",
    "        x = self.relu(x)\n",
    "        #----------------\n",
    "        x = self.conv3(x)\n",
    "        x = self.relu(x)\n",
    "        #----------------\n",
    "        x = self.flat(x)\n",
    "        #----------------\n",
    "        probs = self.policy(x)\n",
    "        probs = self.sfmax(probs)\n",
    "        \n",
    "        value  = self.value(x)\n",
    "        \n",
    "        return probs, value\n",
    "        "
   ]
  },
  {
   "cell_type": "code",
   "execution_count": 8,
   "id": "0f21a29b-6def-4f3b-8473-853816052a84",
   "metadata": {},
   "outputs": [],
   "source": [
    "class BatchNormNetWork(nn.Module):\n",
    "    def __init__(self, nch_g=32):\n",
    "        super(BatchNormNetWork, self).__init__()\n",
    "\n",
    "        self.batch_size = 32\n",
    "        \n",
    "        self.conv1 = nn.Conv3d(1        , nch_g    , 3, padding=1)\n",
    "        self.bn1 = nn.BatchNorm3d(nch_g)\n",
    "        self.conv2 = nn.Conv3d(nch_g    , nch_g * 2, 3, padding=1)\n",
    "        self.bn2 = nn.BatchNorm3d(nch_g * 2)\n",
    "        self.conv3 = nn.Conv3d(nch_g * 2, nch_g * 4, 3, padding=1)\n",
    "        self.bn3 = nn.BatchNorm3d(nch_g * 4)\n",
    "\n",
    "        self.relu  = nn.LeakyReLU(0.2, inplace=True)\n",
    "        self.pool = nn.MaxPool3d(2)\n",
    "\n",
    "        self.flat  = nn.Flatten()\n",
    "\n",
    "        self.policy= nn.Linear(nch_g * 4 * 9 * 14 * 14, 3)\n",
    "        self.value = nn.Linear(nch_g * 4 * 9 * 14 * 14, 1)\n",
    "        self.sfmax = nn.Softmax(dim=1)\n",
    "        \n",
    "    def forward(self, x):\n",
    "        #----------------\n",
    "        x = self.conv1(x)\n",
    "        x = self.bn1(x)\n",
    "        x = self.relu(x)\n",
    "        x = self.pool(x)\n",
    "        #----------------\n",
    "        x = self.conv2(x)\n",
    "        x = self.bn2(x)\n",
    "        x = self.relu(x)\n",
    "        x = self.pool(x)\n",
    "        #----------------\n",
    "        x = self.conv3(x)\n",
    "        x = self.bn3(x)\n",
    "        x = self.relu(x)\n",
    "        x = self.pool(x)\n",
    "        #----------------\n",
    "        x = self.flat(x)\n",
    "        #----------------\n",
    "        probs = self.policy(x)\n",
    "        probs = self.sfmax(probs)\n",
    "        \n",
    "        value  = self.value(x)\n",
    "        \n",
    "        return probs, value\n"
   ]
  },
  {
   "cell_type": "markdown",
   "id": "991ad823-2cd5-4457-8924-b6273b440064",
   "metadata": {},
   "source": [
    "### Check get action"
   ]
  },
  {
   "cell_type": "code",
   "execution_count": 9,
   "id": "aa2b012d-212c-45c0-a687-e150de75a62a",
   "metadata": {},
   "outputs": [
    {
     "name": "stdout",
     "output_type": "stream",
     "text": [
      "torch.Size([64, 1]) torch.Size([64, 1])\n",
      "torch.Size([64, 1])\n"
     ]
    }
   ],
   "source": [
    "net = NetWork().to(device)\n",
    "probs, _ = net(states)\n",
    "\n",
    "batch_size = states.size(0)\n",
    "actions = torch.multinomial(probs, 1)\n",
    "\n",
    "selected_probs = torch.gather(probs, 1, actions)\n",
    "\n",
    "print(actions.shape, selected_probs.shape)\n",
    "print(rewards.shape)"
   ]
  },
  {
   "cell_type": "markdown",
   "id": "1b6d12b2-a022-4bb7-a296-806a67d0316c",
   "metadata": {},
   "source": [
    "### Check update"
   ]
  },
  {
   "cell_type": "code",
   "execution_count": 10,
   "id": "fd6b1a1b-9cfb-4783-acfa-b302539a2ead",
   "metadata": {},
   "outputs": [
    {
     "name": "stdout",
     "output_type": "stream",
     "text": [
      "torch.Size([64, 1]) torch.Size([64, 1])\n",
      "torch.Size([64, 1])\n",
      "torch.Size([64, 1])\n"
     ]
    }
   ],
   "source": [
    "gamma = 0.01\n",
    "lr_pi = 0.0002\n",
    "lr_v = 0.0005\n",
    "done = 0\n",
    "\n",
    "optimizer_pi = optim.Adam(net.parameters(), lr=lr_pi)\n",
    "optimizer_v = optim.Adam(net.parameters(), lr=lr_v)\n",
    "\n",
    "# ========== (1) Update V network ============\n",
    "_, v_next_states = net(next_states)\n",
    "print(rewards.shape, v_next_states.shape)\n",
    "print((gamma * v_next_states * (1-done)).shape)\n",
    "with torch.no_grad():\n",
    "    targets = rewards + gamma * v_next_states * (1 - done)\n",
    "_, v_states = net(states)\n",
    "\n",
    "print(targets.shape)\n",
    "loss_v = F.mse_loss(v_states, targets)\n",
    "\n",
    "# ========== (2) Update pi network ===========\n",
    "with torch.no_grad():\n",
    "    deltas = targets - v_states\n",
    "\n",
    "loss_pi = torch.mean(-torch.log(selected_probs) * deltas)\n",
    "\n",
    "# ========== (3) Calculate loss ===============\n",
    "loss = loss_pi + loss_v\n",
    "\n",
    "optimizer_v.zero_grad()\n",
    "optimizer_pi.zero_grad()\n",
    "\n",
    "loss.mean().backward()\n",
    "\n",
    "optimizer_v.step()\n",
    "optimizer_pi.step()"
   ]
  },
  {
   "cell_type": "code",
   "execution_count": 11,
   "id": "0c73730a-3198-4858-94be-8f91d8c2fa73",
   "metadata": {},
   "outputs": [],
   "source": [
    "class AgentSingleNet:\n",
    "    def __init__(self):\n",
    "        self.gamma = 0.98\n",
    "        self.lr_pi = 0.0000002\n",
    "        self.lr_v = 0.0000005\n",
    "        self.action_size = 3\n",
    "\n",
    "        self.net = NetWork().to(device)\n",
    "        \n",
    "        self.optimizer_pi = optim.Adam(self.net.parameters(), lr=self.lr_pi)\n",
    "        self.optimizer_v = optim.Adam(self.net.parameters(), lr=self.lr_v)\n",
    "        \n",
    "    def get_action(self, state):\n",
    "        probs, _ = self.net(state)\n",
    "        \n",
    "        batch_size = state.size(0)\n",
    "        actions = torch.multinomial(probs, 1)\n",
    "        \n",
    "        selected_probs = torch.gather(probs, 1, actions)\n",
    "        return actions, selected_probs\n",
    "        \n",
    "    def update(self, states, actions_probs, rewards, next_states, dones):\n",
    "        # ========== (1) Update V network ============\n",
    "        _, v_next_states = self.net(next_states)\n",
    "        with torch.no_grad():\n",
    "            targets = rewards + self.gamma * v_next_states * (1 - dones)\n",
    "        _, v_states = self.net(states)\n",
    "        loss_v = F.mse_loss(v_states, targets)\n",
    "        \n",
    "        # ========== (2) Update pi network ===========\n",
    "        with torch.no_grad():\n",
    "            deltas = targets - v_states\n",
    "\n",
    "        loss_pi = torch.mean(-torch.log(actions_probs) * deltas)\n",
    "        \n",
    "        # ========== (3) Calculate loss ===============\n",
    "        loss = loss_pi + loss_v\n",
    "        \n",
    "        self.optimizer_v.zero_grad()\n",
    "        self.optimizer_pi.zero_grad()\n",
    "\n",
    "        loss.backward(retain_graph=True)  \n",
    "\n",
    "        self.optimizer_v.step()\n",
    "        self.optimizer_pi.step()\n"
   ]
  },
  {
   "cell_type": "markdown",
   "id": "811f20f4-2d3c-489a-94ff-1b1bd292f47c",
   "metadata": {},
   "source": [
    "### agent test"
   ]
  },
  {
   "cell_type": "code",
   "execution_count": 12,
   "id": "f9040fd7-d9d5-4990-b13b-f857b848a44d",
   "metadata": {
    "scrolled": true,
    "tags": []
   },
   "outputs": [
    {
     "name": "stdout",
     "output_type": "stream",
     "text": [
      "0\n",
      "1\n",
      "2\n",
      "3\n",
      "4\n",
      "5\n",
      "6\n",
      "7\n",
      "8\n",
      "9\n",
      "10\n",
      "11\n",
      "12\n",
      "13\n",
      "14\n",
      "15\n",
      "16\n",
      "17\n",
      "18\n",
      "19\n",
      "20\n",
      "21\n",
      "22\n",
      "23\n",
      "24\n",
      "25\n",
      "26\n",
      "27\n",
      "28\n",
      "29\n",
      "30\n",
      "31\n",
      "32\n",
      "33\n",
      "34\n",
      "35\n",
      "36\n",
      "37\n",
      "38\n",
      "39\n",
      "40\n",
      "41\n",
      "42\n",
      "43\n",
      "44\n",
      "45\n",
      "46\n",
      "47\n",
      "48\n",
      "49\n",
      "50\n",
      "51\n",
      "52\n",
      "53\n",
      "54\n",
      "55\n",
      "56\n",
      "57\n",
      "58\n",
      "59\n",
      "60\n",
      "61\n",
      "62\n",
      "63\n",
      "64\n",
      "65\n",
      "66\n",
      "67\n",
      "68\n",
      "69\n",
      "70\n",
      "71\n",
      "72\n",
      "73\n",
      "74\n",
      "75\n",
      "76\n",
      "77\n",
      "78\n",
      "79\n",
      "80\n",
      "81\n",
      "82\n",
      "83\n",
      "84\n",
      "85\n",
      "86\n",
      "87\n",
      "88\n",
      "89\n",
      "90\n",
      "91\n",
      "92\n",
      "93\n",
      "94\n",
      "95\n",
      "96\n",
      "97\n",
      "98\n",
      "99\n",
      "elapsed time is  28.416605166594188 min\n"
     ]
    }
   ],
   "source": [
    "import collections\n",
    "import time\n",
    "\n",
    "episodes   = 100\n",
    "batch_size = 32\n",
    "\n",
    "env = G4env(batch_size)\n",
    "agent = AgentSingleNet()\n",
    "\n",
    "reward_lis = []\n",
    "angles  = []\n",
    "begin = time.time()\n",
    "\n",
    "for episode in range(episodes):\n",
    "    state = env.reset()\n",
    "    total_reward = 0\n",
    "    count = 0\n",
    "    print(episode)\n",
    "    while 1:\n",
    "        action, prob = agent.get_action(state)\n",
    "        next_state, reward, done = env.step(action)\n",
    "        total_reward += reward.sum()\n",
    "        count += 1\n",
    "\n",
    "        agent.update(state, prob, reward, next_state, done)\n",
    "        state = next_state\n",
    "#         print(\"episode: \",episode,\"step: \", count, \"probs: \", prob, \"actions: \", action, \"angle: \", env.angle)\n",
    "#         print(\"reward: \",reward)\n",
    "        angles.append(env.angle[0])\n",
    "        \n",
    "        if count > 100:\n",
    "            break\n",
    "        if done.sum() > 0:\n",
    "            break\n",
    "    \n",
    "    reward_lis.append(total_reward.item() / batch_size)\n",
    "        \n",
    "    if episode % 10 == 0:\n",
    "        torch.save(agent, \"model03/actor-critic\" + str(episode))\n",
    "end = time.time()\n",
    "print(\"elapsed time is \", (end - begin) / 60, \"min\")"
   ]
  },
  {
   "cell_type": "code",
   "execution_count": 13,
   "id": "23878bd0-2e66-42cb-a8b5-a896276afe37",
   "metadata": {
    "tags": []
   },
   "outputs": [
    {
     "data": {
      "image/png": "[encoded data removed]",
      "text/plain": [
       "<Figure size 432x288 with 1 Axes>"
      ]
     },
     "metadata": {
      "needs_background": "light"
     },
     "output_type": "display_data"
    }
   ],
   "source": [
    "plt.plot(angles)\n",
    "plt.grid()"
   ]
  },
  {
   "cell_type": "code",
   "execution_count": 14,
   "id": "222e1817-7a5c-425d-bfed-03e3eb0b57a0",
   "metadata": {},
   "outputs": [
    {
     "data": {
      "text/plain": [
       "[<matplotlib.lines.Line2D at 0x7fd0c98dba60>]"
      ]
     },
     "execution_count": 14,
     "metadata": {},
     "output_type": "execute_result"
    },
    {
     "data": {
      "image/png": "[encoded data removed]",
      "text/plain": [
       "<Figure size 432x288 with 1 Axes>"
      ]
     },
     "metadata": {
      "needs_background": "light"
     },
     "output_type": "display_data"
    }
   ],
   "source": [
    "plt.plot(reward_lis)"
   ]
  },
  {
   "cell_type": "markdown",
   "id": "20a85e95-c931-4500-93a3-1edcdb08005b",
   "metadata": {},
   "source": [
    "batch_size 32, 1660 s\n",
    "\n",
    "batch_size 64, "
   ]
  },
  {
   "cell_type": "code",
   "execution_count": null,
   "id": "8d6673e0-8192-41ee-bc82-149ea5cc5af2",
   "metadata": {},
   "outputs": [],
   "source": []
  }
 ],
 "metadata": {
  "kernelspec": {
   "display_name": "Python 3 (ipykernel)",
   "language": "python",
   "name": "python3"
  },
  "language_info": {
   "codemirror_mode": {
    "name": "ipython",
    "version": 3
   },
   "file_extension": ".py",
   "mimetype": "text/x-python",
   "name": "python",
   "nbconvert_exporter": "python",
   "pygments_lexer": "ipython3",
   "version": "3.9.12"
  }
 },
 "nbformat": 4,
 "nbformat_minor": 5
}
