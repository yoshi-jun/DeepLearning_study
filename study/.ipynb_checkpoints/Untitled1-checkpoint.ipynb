{
 "cells": [
  {
   "cell_type": "markdown",
   "id": "9f2d7328-fac7-428b-b667-3fde5e389778",
   "metadata": {},
   "source": [
    "# モデル作成"
   ]
  },
  {
   "cell_type": "markdown",
   "id": "d66f00ec-75a1-4269-8b09-fa3c8793d001",
   "metadata": {},
   "source": [
    "作成できる学習データが少ないことが問題。\n",
    "\n",
    "そこで、パラメータの数をできるだけ減らす。\n",
    "\n",
    "例えば、ストライドの幅を広くする等"
   ]
  },
  {
   "cell_type": "code",
   "execution_count": 5,
   "id": "7aee69d6-a468-4ea6-be2d-3760cebcd1a4",
   "metadata": {
    "tags": []
   },
   "outputs": [],
   "source": [
    "import tensorflow as tf\n",
    "import numpy as np"
   ]
  },
  {
   "cell_type": "code",
   "execution_count": 22,
   "id": "71e87354-cd31-4384-baa2-1cc861ff90a1",
   "metadata": {},
   "outputs": [
    {
     "name": "stdout",
     "output_type": "stream",
     "text": [
      "Model: \"sequential_18\"\n",
      "_________________________________________________________________\n",
      "Layer (type)                 Output Shape              Param #   \n",
      "=================================================================\n",
      "conv3d_51 (Conv3D)           (None, 30, 30, 75, 16)    144       \n",
      "_________________________________________________________________\n",
      "max_pooling3d_45 (MaxPooling (None, 15, 15, 38, 16)    0         \n",
      "_________________________________________________________________\n",
      "batch_normalization_10 (Batc (None, 15, 15, 38, 16)    64        \n",
      "_________________________________________________________________\n",
      "conv3d_52 (Conv3D)           (None, 7, 7, 19, 32)      4128      \n",
      "_________________________________________________________________\n",
      "max_pooling3d_46 (MaxPooling (None, 4, 4, 10, 32)      0         \n",
      "_________________________________________________________________\n",
      "batch_normalization_11 (Batc (None, 4, 4, 10, 32)      128       \n",
      "_________________________________________________________________\n",
      "conv3d_53 (Conv3D)           (None, 2, 2, 5, 64)       16448     \n",
      "_________________________________________________________________\n",
      "max_pooling3d_47 (MaxPooling (None, 1, 1, 3, 64)       0         \n",
      "_________________________________________________________________\n",
      "batch_normalization_12 (Batc (None, 1, 1, 3, 64)       256       \n",
      "_________________________________________________________________\n",
      "flatten_12 (Flatten)         (None, 192)               0         \n",
      "_________________________________________________________________\n",
      "dense_12 (Dense)             (None, 9)                 1737      \n",
      "=================================================================\n",
      "Total params: 22,905\n",
      "Trainable params: 22,681\n",
      "Non-trainable params: 224\n",
      "_________________________________________________________________\n"
     ]
    }
   ],
   "source": [
    "data_shape =(361, 61, 61, 150, 1)\n",
    "\n",
    "x = tf.random.normal(data_shape)\n",
    "model = tf.keras.models.Sequential()\n",
    "\n",
    "model.add(tf.keras.layers.Conv3D(16, 2, input_shape=(data_shape[1:]), activation='relu', strides=2))\n",
    "model.add(tf.keras.layers.MaxPool3D(1, 2))\n",
    "model.add(tf.keras.layers.BatchNormalization())\n",
    "\n",
    "model.add(tf.keras.layers.Conv3D(32, 2, input_shape=(data_shape[1:]), activation='relu', strides=2))\n",
    "model.add(tf.keras.layers.MaxPool3D(1, 2))\n",
    "model.add(tf.keras.layers.BatchNormalization())\n",
    "\n",
    "model.add(tf.keras.layers.Conv3D(64, 2, activation='relu', strides=2))\n",
    "model.add(tf.keras.layers.MaxPool3D(1, 2))\n",
    "model.add(tf.keras.layers.BatchNormalization())\n",
    "\n",
    "model.add(tf.keras.layers.Flatten())\n",
    "model.add(tf.keras.layers.Dense(9, activation='sigmoid'))\n",
    "\n",
    "model.compile(loss='binary_crossentopy', optimizer=tf.keras.optimizers.SGD(0.2))\n",
    "\n",
    "model.build()\n",
    "model.summary()"
   ]
  },
  {
   "cell_type": "markdown",
   "id": "a467170e-99b4-4742-bb23-7413905ddedb",
   "metadata": {},
   "source": [
    "3DU-netを再現するためには、concatenateを導入する必要がある。\n",
    "\n",
    "model.sequential()では、concatenateを導入はできないので、作り直す必要がありそう。ただ、パラメータの数が膨大すぎるので3DU-netを再現するかを考慮するために一つモデルを作成して精度の確認をする必要がある。"
   ]
  },
  {
   "cell_type": "code",
   "execution_count": 182,
   "id": "a7c6199c-bb1c-4d1d-9738-dc47e0f72efa",
   "metadata": {},
   "outputs": [
    {
     "data": {
      "text/plain": [
       "TensorShape([5, 16])"
      ]
     },
     "execution_count": 182,
     "metadata": {},
     "output_type": "execute_result"
    }
   ],
   "source": [
    "x1 = tf.keras.layers.Dense(8)(np.arange(10).reshape(5, 2))\n",
    "x2 = tf.keras.layers.Dense(8)(np.arange(10, 20).reshape(5, 2))\n",
    "concatted = tf.keras.layers.Concatenate()([x1, x2])\n",
    "concatted.shape\n"
   ]
  },
  {
   "cell_type": "code",
   "execution_count": null,
   "id": "6698de82-cdb7-4f18-97b6-2be958699745",
   "metadata": {},
   "outputs": [],
   "source": []
  }
 ],
 "metadata": {
  "kernelspec": {
   "display_name": "Python 3 (ipykernel)",
   "language": "python",
   "name": "python3"
  },
  "language_info": {
   "codemirror_mode": {
    "name": "ipython",
    "version": 3
   },
   "file_extension": ".py",
   "mimetype": "text/x-python",
   "name": "python",
   "nbconvert_exporter": "python",
   "pygments_lexer": "ipython3",
   "version": "3.9.12"
  }
 },
 "nbformat": 4,
 "nbformat_minor": 5
}
