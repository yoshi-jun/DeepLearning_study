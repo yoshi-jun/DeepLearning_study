{
 "cells": [
  {
   "cell_type": "markdown",
   "id": "fe16a920-a085-4df4-a5b4-db8ced87d00a",
   "metadata": {},
   "source": [
    "# TensorFlow conv3d"
   ]
  },
  {
   "cell_type": "markdown",
   "id": "b97b010e-62ed-4ded-9ab9-e8779adf5556",
   "metadata": {},
   "source": [
    "TensorFlowのconv3dについて実際に見てみる"
   ]
  },
  {
   "cell_type": "code",
   "execution_count": 1,
   "id": "82c49b1c-808b-49f3-864d-b004471b44be",
   "metadata": {},
   "outputs": [
    {
     "name": "stderr",
     "output_type": "stream",
     "text": [
      "2022-10-13 10:08:53.210513: I tensorflow/stream_executor/platform/default/dso_loader.cc:49] Successfully opened dynamic library libcudart.so.10.1\n"
     ]
    }
   ],
   "source": [
    "import tensorflow as tf"
   ]
  },
  {
   "cell_type": "markdown",
   "id": "d3ee5f00-dcd0-419b-b6f3-201b4232a896",
   "metadata": {},
   "source": [
    "conv3d の引数\n",
    "~~~\n",
    "tf.keras.layers.Conv3D(\n",
    "    filters,\n",
    "    kernel_size,\n",
    "    strides=(1, 1, 1),\n",
    "    padding='valid',\n",
    "    data_format=None,\n",
    "    dilation_rate=(1, 1, 1),\n",
    "    groups=1,\n",
    "    activation=None,\n",
    "    use_bias=True,\n",
    "    kernel_initializer='glorot_uniform',\n",
    "    bias_initializer='zeros',\n",
    "    kernel_regularizer=None,\n",
    "    bias_regularizer=None,\n",
    "    activity_regularizer=None,\n",
    "    kernel_constraint=None,\n",
    "    bias_constraint=None,\n",
    "    **kwargs\n",
    ")\n",
    "~~~\n",
    "\n",
    "\n",
    "dta_formatによって、チャンネルの位置が変わる\n",
    "\n",
    "data_format='channels_first'\n",
    "\n",
    "batch_shape + (**channels**, conv_dim1, conv_dim2,conv_dim3) \n",
    "\n",
    "data_format='channels_last'\n",
    "\n",
    "batch_shape + (conv_dim1, conv_dim2, conv_dim3,**channels**)\n",
    "\n",
    "filters　とkernel_sizeはそれぞれフィルターの枚数と、フィルターのサイズを表す。\n",
    "\n",
    "ここで、フィルターのサイズは縦横深さ方向に関して同じサイズを取る？"
   ]
  },
  {
   "cell_type": "code",
   "execution_count": 3,
   "id": "5d1ea703-9f76-40ab-98f5-e532d46f3b4e",
   "metadata": {},
   "outputs": [
    {
     "name": "stdout",
     "output_type": "stream",
     "text": [
      "(4, 28, 28, 28, 1)\n",
      "(4, 26, 26, 26, 2)\n"
     ]
    }
   ],
   "source": [
    "input_shape =(4, 28, 28, 28, 1)\n",
    "x = tf.random.normal(input_shape)\n",
    "y = tf.keras.layers.Conv3D(2, 3, activation='relu', input_shape=input_shape[1:])(x)\n",
    "print(x.shape)\n",
    "print(y.shape)"
   ]
  },
  {
   "cell_type": "code",
   "execution_count": 4,
   "id": "4512981f-3f34-4b89-a495-73370451bcab",
   "metadata": {},
   "outputs": [
    {
     "name": "stdout",
     "output_type": "stream",
     "text": [
      "(4, 26, 26, 26, 8)\n"
     ]
    }
   ],
   "source": [
    "y_1 = tf.keras.layers.Conv3D(8, 3, activation ='relu', input_shape=input_shape[1:])(x)\n",
    "print(y_1.shape)"
   ]
  },
  {
   "cell_type": "markdown",
   "id": "921a67af-5b8d-4797-9228-7999d34bf546",
   "metadata": {},
   "source": [
    "convolutionの結果を見ながら、input_shapeのデータについて一度考える\n",
    "\n",
    "$$OH = \\frac{H+2P-FH}{SH}+1 $$\n",
    "$$OW = \\frac{W+2P-FW}{SW}+1 $$\n",
    "$$OD = \\frac{H+2P-FD}{SD}+1 $$\n",
    "\n",
    "を使用して考える。ちなみに入力データのshapeは\n",
    "$$(H, W, D) = (28, 28, 28)$$\n",
    "ストライドは\n",
    "$$(SH, SW, SD) = (1, 1, 1)$$\n",
    "\n",
    "であり、\n",
    "\n",
    "$$OH = \\frac{28 -3}{1}+1 = 26$$\n",
    "\n",
    "となる。OW,ODも同様に求めることができる"
   ]
  },
  {
   "cell_type": "code",
   "execution_count": null,
   "id": "a41f4c7b-8e73-474d-9f12-4c8a63e4e079",
   "metadata": {},
   "outputs": [],
   "source": []
  }
 ],
 "metadata": {
  "kernelspec": {
   "display_name": "Python 3 (ipykernel)",
   "language": "python",
   "name": "python3"
  },
  "language_info": {
   "codemirror_mode": {
    "name": "ipython",
    "version": 3
   },
   "file_extension": ".py",
   "mimetype": "text/x-python",
   "name": "python",
   "nbconvert_exporter": "python",
   "pygments_lexer": "ipython3",
   "version": "3.9.12"
  }
 },
 "nbformat": 4,
 "nbformat_minor": 5
}
