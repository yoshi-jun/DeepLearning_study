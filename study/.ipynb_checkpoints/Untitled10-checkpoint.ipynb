{
 "cells": [
  {
   "cell_type": "markdown",
   "id": "8926d34e-1952-4f8f-b7a8-3613b71f98ec",
   "metadata": {},
   "source": [
    "# conbination model"
   ]
  },
  {
   "cell_type": "markdown",
   "id": "ce04516d-2b8a-401c-a3d7-1d210fca60d7",
   "metadata": {},
   "source": [
    "2方向から照射された場合に、方向を判別するネットワークの作成を目指す。\n",
    "\n",
    "まずは、5度刻みで学習用データを作成する。theta = [-45, 45], phi = [-45,45]"
   ]
  },
  {
   "cell_type": "code",
   "execution_count": 1,
   "id": "952625cf-0627-4ce9-bcab-0ad55f07fb2f",
   "metadata": {},
   "outputs": [
    {
     "name": "stderr",
     "output_type": "stream",
     "text": [
      "2022-12-08 13:35:45.184963: I tensorflow/stream_executor/platform/default/dso_loader.cc:49] Successfully opened dynamic library libcudart.so.10.1\n"
     ]
    }
   ],
   "source": [
    "import tensorflow as tf\n",
    "import numpy as np\n",
    "import matplotlib.pyplot as plt\n",
    "import pandas as pd\n",
    "\n",
    "# Allocation GPU hardware ID = 0\n",
    "physical_devices = tf.config.list_physical_devices('GPU')\n",
    "tf.config.set_visible_devices(physical_devices[1], 'GPU')"
   ]
  },
  {
   "cell_type": "code",
   "execution_count": 2,
   "id": "0f4ae73b-8342-4169-95cf-215864a5c742",
   "metadata": {},
   "outputs": [],
   "source": [
    "dir_name = \"data_03\" \n",
    "theta_s = [5 * i - 45 for i in range(19)]\n",
    "phi_s   = [5 * i - 45 for i in range(19)]\n",
    "\n",
    "file_names = [str(dir_name)+\"/data\"+str(theta)+\",\"+str(phi)+\".csv\" for theta in theta_s for phi in phi_s]\n",
    "\n",
    "label = [(theta, phi) for theta in theta_s for phi in phi_s]\n",
    "data = [np.array(pd.read_csv(file_name)['dose']).reshape(61,61,150) for file_name in file_names]\n",
    "\n",
    "data = np.array(data).astype(\"float32\")\n",
    "data = np.expand_dims(data, axis=4)"
   ]
  },
  {
   "cell_type": "code",
   "execution_count": 15,
   "id": "b8a9b079-c705-44b7-a3f6-0228900e291f",
   "metadata": {},
   "outputs": [
    {
     "data": {
      "text/plain": [
       "168"
      ]
     },
     "execution_count": 15,
     "metadata": {},
     "output_type": "execute_result"
    }
   ],
   "source": [
    "data.__sizeof__()"
   ]
  },
  {
   "cell_type": "markdown",
   "id": "c12573cd-0294-48bc-bc95-ca41442b6fae",
   "metadata": {
    "tags": []
   },
   "source": [
    "~~~\n",
    "conb_data = []\n",
    "conb_label_t = []\n",
    "conb_label_p = []\n",
    "\n",
    "for i in range(len(data)):\n",
    "    for j in range(len(data)):\n",
    "        conb = data[i] + data[j]\n",
    "        \n",
    "        label_t = np.zeros(91)\n",
    "        label_p = np.zeros(91)\n",
    "        \n",
    "        label_t[label[i][0]] = 1\n",
    "        label_t[label[j][0]] = 1\n",
    "        \n",
    "        label_p[label[i][1]] = 1\n",
    "        label_p[label[j][1]] = 1\n",
    "        \n",
    "        conb_data.append(conb)\n",
    "        conb_label_t.append(label_t)\n",
    "        conb_label_p.append(label_p)\n",
    "        \n",
    "np.save(\"data\", conb_data)\n",
    "np.save(\"label_t\", conb_label_t)\n",
    "np.sabe(\"label_p\", conb_label_p)\n",
    "~~~     \n",
    "        "
   ]
  },
  {
   "cell_type": "markdown",
   "id": "79a75712-c650-4d5f-8df7-db109721980d",
   "metadata": {},
   "source": [
    "使用するメモリを調べた。\n",
    "\n",
    "91^2C2　*(32float) * 61 * 61 * 150 = 76T byte"
   ]
  },
  {
   "cell_type": "markdown",
   "id": "6e79007a-323c-4009-88d2-3be8b33f95a3",
   "metadata": {},
   "source": [
    "仕方がないので、fitのループを回すことにする。そのために、91個ずつに分けることとする。\n",
    "\n",
    "いや、これ書き込みしてもまずい。"
   ]
  },
  {
   "cell_type": "code",
   "execution_count": null,
   "id": "66e54f9a-6c3b-4826-a625-09eda1a049fb",
   "metadata": {},
   "outputs": [],
   "source": []
  }
 ],
 "metadata": {
  "kernelspec": {
   "display_name": "Python 3 (ipykernel)",
   "language": "python",
   "name": "python3"
  },
  "language_info": {
   "codemirror_mode": {
    "name": "ipython",
    "version": 3
   },
   "file_extension": ".py",
   "mimetype": "text/x-python",
   "name": "python",
   "nbconvert_exporter": "python",
   "pygments_lexer": "ipython3",
   "version": "3.9.12"
  }
 },
 "nbformat": 4,
 "nbformat_minor": 5
}
