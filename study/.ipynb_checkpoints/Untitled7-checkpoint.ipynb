{
 "cells": [
  {
   "cell_type": "markdown",
   "id": "0c4697b2-cd7e-4f66-96a3-9d3e56241df8",
   "metadata": {},
   "source": [
    "### モデルの再作製"
   ]
  },
  {
   "cell_type": "markdown",
   "id": "8810c52d-9fb9-488c-b82f-537c6a97b55d",
   "metadata": {},
   "source": [
    "本当に求めたいのは1度ずつの角度。\n",
    "\n",
    "しかし、学習させるのは5度ずつの角度。\n",
    "\n",
    "作製するモデルの出力は、theta 91, phi 91の合計8281....\n",
    "\n",
    "これは流石に多すぎるのではないか。。。\n",
    "\n",
    "以前に紹介した、分岐するネットワークの作成に挑戦する。"
   ]
  },
  {
   "cell_type": "code",
   "execution_count": 43,
   "id": "56a18678-c3a3-4ca1-bb0c-716e5ed82f36",
   "metadata": {},
   "outputs": [],
   "source": [
    "import tensorflow as tf\n",
    "import numpy as np\n",
    "import matplotlib.pyplot as plt\n",
    "import pandas as pd\n",
    "\n",
    "# Allocation GPU hardware ID = 0\n",
    "physical_devices = tf.config.list_physical_devices('GPU')\n",
    "tf.config.set_visible_devices(physical_devices[1], 'GPU')\n",
    "\n",
    "class MyModel(tf.keras.Model):\n",
    "    \n",
    "    def __init__(self):\n",
    "        super().__init__()#これ何？\n",
    "        self.inp_shape = (1, 61, 61, 150, 1)\n",
    "        self.out_shape_1 = (91)\n",
    "        self.out_shape_2 = (91)\n",
    "        self.out_shape = (self.out_shape_1, self.out_shape_2)\n",
    "\n",
    "        self.conv3d_1 = tf.keras.layers.Conv3D(16, 2, input_shape=self.inp_shape, activation = 'relu', strides = 2, name = \"conv3d_1\")\n",
    "        self.batnorm_1 = tf.keras.layers.BatchNormalization()\n",
    "        \n",
    "        self.conv3d_2 = tf.keras.layers.Conv3D(32, 2, activation = 'relu', strides = 2, name = \"conv3d_2\")\n",
    "        self.batnorm_2 = tf.keras.layers.BatchNormalization()\n",
    "        \n",
    "        self.conv3d_3 = tf.keras.layers.Conv3D(64, 2, activation = 'relu', strides = 2, name = \"conv3d_3\")\n",
    "\n",
    "        self.flatten = tf.keras.layers.Flatten()\n",
    "\n",
    "        self.dense_1 = tf.keras.layers.Dense(91, activation='softmax')\n",
    "        self.dense_2 = tf.keras.layers.Dense(91, activation='softmax')\n",
    "\n",
    "    def call(self, inputs):\n",
    "        \n",
    "        x = self.conv3d_1(inputs)\n",
    "        x = self.batnorm_1(x)\n",
    "        x = self.conv3d_2(x)\n",
    "        x = self.batnorm_2(x)\n",
    "        x = self.conv3d_3(x)\n",
    "        x = self.flatten(x)\n",
    "        x_1 = self.dense_1(x)\n",
    "        x_2 = self.dense_2(x)\n",
    "        \n",
    "        return x_1, x_2\n",
    "    \n"
   ]
  },
  {
   "cell_type": "code",
   "execution_count": 81,
   "id": "aae87ca2-4944-4a35-aa31-d7863def4a4f",
   "metadata": {},
   "outputs": [
    {
     "name": "stdout",
     "output_type": "stream",
     "text": [
      "Model: \"my_model_6\"\n",
      "_________________________________________________________________\n",
      "Layer (type)                 Output Shape              Param #   \n",
      "=================================================================\n",
      "conv3d_1 (Conv3D)            multiple                  144       \n",
      "_________________________________________________________________\n",
      "batch_normalization_12 (Batc multiple                  64        \n",
      "_________________________________________________________________\n",
      "conv3d_2 (Conv3D)            multiple                  4128      \n",
      "_________________________________________________________________\n",
      "batch_normalization_13 (Batc multiple                  128       \n",
      "_________________________________________________________________\n",
      "conv3d_3 (Conv3D)            multiple                  16448     \n",
      "_________________________________________________________________\n",
      "flatten_6 (Flatten)          multiple                  0         \n",
      "_________________________________________________________________\n",
      "dense_12 (Dense)             multiple                  5136859   \n",
      "_________________________________________________________________\n",
      "dense_13 (Dense)             multiple                  5136859   \n",
      "=================================================================\n",
      "Total params: 10,294,630\n",
      "Trainable params: 10,294,534\n",
      "Non-trainable params: 96\n",
      "_________________________________________________________________\n"
     ]
    },
    {
     "data": {
      "text/plain": [
       "10294630"
      ]
     },
     "execution_count": 81,
     "metadata": {},
     "output_type": "execute_result"
    }
   ],
   "source": [
    "model = MyModel()\n",
    "model.compile(loss      = tf.keras.losses.BinaryCrossentropy(),\n",
    "              optimizer = {\"theta\":tf.keras.optimizers.SGD(0.2),\n",
    "                           \"phi\"  :tf.keras.optimizers.SGD(0.2)}\n",
    "             )\n",
    "model.build(input_shape=model.inp_shape)\n",
    "model.summary() \n",
    "model.count_params()"
   ]
  },
  {
   "cell_type": "markdown",
   "id": "c17775ed-537b-41f6-a6b0-82e10e1376c1",
   "metadata": {},
   "source": [
    "最後のdense二つは、並列になるはずなので、何かおかしい気がする。（改善ずみ）"
   ]
  },
  {
   "cell_type": "code",
   "execution_count": 82,
   "id": "da58fc01-d5a6-44ed-ba57-da2cbe7fa935",
   "metadata": {},
   "outputs": [],
   "source": [
    "x_train = np.load(\"data.npy\")\n",
    "x_train = np.expand_dims(x_train, axis=4)\n",
    "t_train = np.load(\"theta.npy\")\n",
    "# t_train = np.expand_dims(t_train, axis=2)\n",
    "p_train = np.load(\"phi.npy\")\n",
    "# p_train = np.expand_dims(p_train, axis=2)\n",
    "\n",
    "x_train = np.array(x_train)\n",
    "t_train = np.array(t_train)\n",
    "p_train = np.array(p_train)"
   ]
  },
  {
   "cell_type": "code",
   "execution_count": 83,
   "id": "7e2fbc6b-8c19-4225-94d6-46557aa10980",
   "metadata": {},
   "outputs": [
    {
     "name": "stdout",
     "output_type": "stream",
     "text": [
      "(361, 61, 61, 150, 1)\n",
      "(361, 91)\n",
      "(361, 91)\n"
     ]
    }
   ],
   "source": [
    "print(x_train.shape)\n",
    "print(t_train.shape)\n",
    "print(p_train.shape)"
   ]
  },
  {
   "cell_type": "markdown",
   "id": "6f89cbd0-ae4e-46c2-9832-34bde8a3cd33",
   "metadata": {},
   "source": [
    "今回から使用する正解ラベルは1度刻みで[-45,45]の範囲とした。"
   ]
  },
  {
   "cell_type": "markdown",
   "id": "96ad313e-467c-4901-99b7-d96ee59353ee",
   "metadata": {},
   "source": [
    "試しに推論を行ってみる。推論の結果は。。。"
   ]
  },
  {
   "cell_type": "code",
   "execution_count": 84,
   "id": "70ad3c1d-e68b-4626-858e-f426ed2f7d52",
   "metadata": {
    "tags": []
   },
   "outputs": [],
   "source": [
    "pred = model.predict(x_train)"
   ]
  },
  {
   "cell_type": "code",
   "execution_count": 89,
   "id": "fb4a5591-00e4-4187-9ae4-80f17653d34d",
   "metadata": {
    "tags": []
   },
   "outputs": [
    {
     "name": "stdout",
     "output_type": "stream",
     "text": [
      "(2, 361, 91)\n",
      "<class 'numpy.ndarray'>\n",
      "<class 'numpy.ndarray'>\n",
      "<class 'numpy.ndarray'>\n"
     ]
    }
   ],
   "source": [
    "print(np.array(pred).shape)\n",
    "\n",
    "print(type(x_train))\n",
    "print(type(p_train))\n",
    "print(type(t_train))"
   ]
  },
  {
   "cell_type": "markdown",
   "id": "6a0036e3-aa6b-4ba6-a13b-683bb71fd966",
   "metadata": {},
   "source": [
    "ちゃんと二つ出力されている。"
   ]
  },
  {
   "cell_type": "code",
   "execution_count": 80,
   "id": "88e00e12-7cdc-47cd-b0ce-ecbfbe366919",
   "metadata": {},
   "outputs": [
    {
     "ename": "TypeError",
     "evalue": "'NoneType' object is not callable",
     "output_type": "error",
     "traceback": [
      "\u001b[0;31m---------------------------------------------------------------------------\u001b[0m",
      "\u001b[0;31mTypeError\u001b[0m                                 Traceback (most recent call last)",
      "Input \u001b[0;32mIn [80]\u001b[0m, in \u001b[0;36m<cell line: 1>\u001b[0;34m()\u001b[0m\n\u001b[0;32m----> 1\u001b[0m \u001b[43mmodel\u001b[49m\u001b[38;5;241;43m.\u001b[39;49m\u001b[43mfit\u001b[49m\u001b[43m(\u001b[49m\u001b[43mx\u001b[49m\u001b[43m \u001b[49m\u001b[38;5;241;43m=\u001b[39;49m\u001b[43m \u001b[49m\u001b[43mx_train\u001b[49m\u001b[43m,\u001b[49m\u001b[43m \u001b[49m\u001b[43my\u001b[49m\u001b[43m \u001b[49m\u001b[38;5;241;43m=\u001b[39;49m\u001b[43m \u001b[49m\u001b[43m{\u001b[49m\u001b[38;5;124;43m\"\u001b[39;49m\u001b[38;5;124;43mtheta\u001b[39;49m\u001b[38;5;124;43m\"\u001b[39;49m\u001b[43m:\u001b[49m\u001b[43mt_train\u001b[49m\u001b[43m,\u001b[49m\u001b[43m \u001b[49m\u001b[38;5;124;43m\"\u001b[39;49m\u001b[38;5;124;43mphi\u001b[39;49m\u001b[38;5;124;43m\"\u001b[39;49m\u001b[43m:\u001b[49m\u001b[43mp_train\u001b[49m\u001b[43m}\u001b[49m\u001b[43m)\u001b[49m\n",
      "File \u001b[0;32m~/.pyenv/versions/anaconda3-2021.11/lib/python3.9/site-packages/tensorflow/python/keras/engine/training.py:1100\u001b[0m, in \u001b[0;36mModel.fit\u001b[0;34m(self, x, y, batch_size, epochs, verbose, callbacks, validation_split, validation_data, shuffle, class_weight, sample_weight, initial_epoch, steps_per_epoch, validation_steps, validation_batch_size, validation_freq, max_queue_size, workers, use_multiprocessing)\u001b[0m\n\u001b[1;32m   1093\u001b[0m \u001b[38;5;28;01mwith\u001b[39;00m trace\u001b[38;5;241m.\u001b[39mTrace(\n\u001b[1;32m   1094\u001b[0m     \u001b[38;5;124m'\u001b[39m\u001b[38;5;124mtrain\u001b[39m\u001b[38;5;124m'\u001b[39m,\n\u001b[1;32m   1095\u001b[0m     epoch_num\u001b[38;5;241m=\u001b[39mepoch,\n\u001b[1;32m   1096\u001b[0m     step_num\u001b[38;5;241m=\u001b[39mstep,\n\u001b[1;32m   1097\u001b[0m     batch_size\u001b[38;5;241m=\u001b[39mbatch_size,\n\u001b[1;32m   1098\u001b[0m     _r\u001b[38;5;241m=\u001b[39m\u001b[38;5;241m1\u001b[39m):\n\u001b[1;32m   1099\u001b[0m   callbacks\u001b[38;5;241m.\u001b[39mon_train_batch_begin(step)\n\u001b[0;32m-> 1100\u001b[0m   tmp_logs \u001b[38;5;241m=\u001b[39m \u001b[38;5;28;43mself\u001b[39;49m\u001b[38;5;241;43m.\u001b[39;49m\u001b[43mtrain_function\u001b[49m\u001b[43m(\u001b[49m\u001b[43miterator\u001b[49m\u001b[43m)\u001b[49m\n\u001b[1;32m   1101\u001b[0m   \u001b[38;5;28;01mif\u001b[39;00m data_handler\u001b[38;5;241m.\u001b[39mshould_sync:\n\u001b[1;32m   1102\u001b[0m     context\u001b[38;5;241m.\u001b[39masync_wait()\n",
      "File \u001b[0;32m~/.pyenv/versions/anaconda3-2021.11/lib/python3.9/site-packages/tensorflow/python/eager/def_function.py:828\u001b[0m, in \u001b[0;36mFunction.__call__\u001b[0;34m(self, *args, **kwds)\u001b[0m\n\u001b[1;32m    826\u001b[0m tracing_count \u001b[38;5;241m=\u001b[39m \u001b[38;5;28mself\u001b[39m\u001b[38;5;241m.\u001b[39mexperimental_get_tracing_count()\n\u001b[1;32m    827\u001b[0m \u001b[38;5;28;01mwith\u001b[39;00m trace\u001b[38;5;241m.\u001b[39mTrace(\u001b[38;5;28mself\u001b[39m\u001b[38;5;241m.\u001b[39m_name) \u001b[38;5;28;01mas\u001b[39;00m tm:\n\u001b[0;32m--> 828\u001b[0m   result \u001b[38;5;241m=\u001b[39m \u001b[38;5;28;43mself\u001b[39;49m\u001b[38;5;241;43m.\u001b[39;49m\u001b[43m_call\u001b[49m\u001b[43m(\u001b[49m\u001b[38;5;241;43m*\u001b[39;49m\u001b[43margs\u001b[49m\u001b[43m,\u001b[49m\u001b[43m \u001b[49m\u001b[38;5;241;43m*\u001b[39;49m\u001b[38;5;241;43m*\u001b[39;49m\u001b[43mkwds\u001b[49m\u001b[43m)\u001b[49m\n\u001b[1;32m    829\u001b[0m   compiler \u001b[38;5;241m=\u001b[39m \u001b[38;5;124m\"\u001b[39m\u001b[38;5;124mxla\u001b[39m\u001b[38;5;124m\"\u001b[39m \u001b[38;5;28;01mif\u001b[39;00m \u001b[38;5;28mself\u001b[39m\u001b[38;5;241m.\u001b[39m_experimental_compile \u001b[38;5;28;01melse\u001b[39;00m \u001b[38;5;124m\"\u001b[39m\u001b[38;5;124mnonXla\u001b[39m\u001b[38;5;124m\"\u001b[39m\n\u001b[1;32m    830\u001b[0m   new_tracing_count \u001b[38;5;241m=\u001b[39m \u001b[38;5;28mself\u001b[39m\u001b[38;5;241m.\u001b[39mexperimental_get_tracing_count()\n",
      "File \u001b[0;32m~/.pyenv/versions/anaconda3-2021.11/lib/python3.9/site-packages/tensorflow/python/eager/def_function.py:855\u001b[0m, in \u001b[0;36mFunction._call\u001b[0;34m(self, *args, **kwds)\u001b[0m\n\u001b[1;32m    852\u001b[0m   \u001b[38;5;28mself\u001b[39m\u001b[38;5;241m.\u001b[39m_lock\u001b[38;5;241m.\u001b[39mrelease()\n\u001b[1;32m    853\u001b[0m   \u001b[38;5;66;03m# In this case we have created variables on the first call, so we run the\u001b[39;00m\n\u001b[1;32m    854\u001b[0m   \u001b[38;5;66;03m# defunned version which is guaranteed to never create variables.\u001b[39;00m\n\u001b[0;32m--> 855\u001b[0m   \u001b[38;5;28;01mreturn\u001b[39;00m \u001b[38;5;28;43mself\u001b[39;49m\u001b[38;5;241;43m.\u001b[39;49m\u001b[43m_stateless_fn\u001b[49m\u001b[43m(\u001b[49m\u001b[38;5;241;43m*\u001b[39;49m\u001b[43margs\u001b[49m\u001b[43m,\u001b[49m\u001b[43m \u001b[49m\u001b[38;5;241;43m*\u001b[39;49m\u001b[38;5;241;43m*\u001b[39;49m\u001b[43mkwds\u001b[49m\u001b[43m)\u001b[49m  \u001b[38;5;66;03m# pylint: disable=not-callable\u001b[39;00m\n\u001b[1;32m    856\u001b[0m \u001b[38;5;28;01melif\u001b[39;00m \u001b[38;5;28mself\u001b[39m\u001b[38;5;241m.\u001b[39m_stateful_fn \u001b[38;5;129;01mis\u001b[39;00m \u001b[38;5;129;01mnot\u001b[39;00m \u001b[38;5;28;01mNone\u001b[39;00m:\n\u001b[1;32m    857\u001b[0m   \u001b[38;5;66;03m# Release the lock early so that multiple threads can perform the call\u001b[39;00m\n\u001b[1;32m    858\u001b[0m   \u001b[38;5;66;03m# in parallel.\u001b[39;00m\n\u001b[1;32m    859\u001b[0m   \u001b[38;5;28mself\u001b[39m\u001b[38;5;241m.\u001b[39m_lock\u001b[38;5;241m.\u001b[39mrelease()\n",
      "\u001b[0;31mTypeError\u001b[0m: 'NoneType' object is not callable"
     ]
    }
   ],
   "source": [
    "model.fit(x = x_train, y = {\"theta\":t_train, \"phi\":p_train})"
   ]
  },
  {
   "cell_type": "markdown",
   "id": "71ddb8b2-ce4c-4706-8e8d-d623815a8082",
   "metadata": {},
   "source": [
    "うまくいかない。\n",
    "\n",
    "諦めた。\n",
    "\n",
    "Functional APIを使用する事でもっと簡単に実装できるらしいので、そちらで実行する。"
   ]
  },
  {
   "cell_type": "code",
   "execution_count": null,
   "id": "eefb0230-1e36-430a-9135-4f4c9ae0d461",
   "metadata": {},
   "outputs": [],
   "source": []
  }
 ],
 "metadata": {
  "kernelspec": {
   "display_name": "Python 3 (ipykernel)",
   "language": "python",
   "name": "python3"
  },
  "language_info": {
   "codemirror_mode": {
    "name": "ipython",
    "version": 3
   },
   "file_extension": ".py",
   "mimetype": "text/x-python",
   "name": "python",
   "nbconvert_exporter": "python",
   "pygments_lexer": "ipython3",
   "version": "3.9.12"
  }
 },
 "nbformat": 4,
 "nbformat_minor": 5
}
