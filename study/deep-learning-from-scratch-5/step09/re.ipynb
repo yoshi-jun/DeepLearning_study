{
 "cells": [
  {
   "cell_type": "markdown",
   "id": "97138890-e11f-402d-b056-082d139fbe28",
   "metadata": {},
   "source": [
    "# モデルの改良"
   ]
  },
  {
   "cell_type": "markdown",
   "id": "2c476511-d020-4ec2-9cf1-2bfd856014a4",
   "metadata": {},
   "source": [
    "前回の結果をみると、手書き文字の精度として低い。\n",
    "\n",
    "参考までに前回の結果を提示する。"
   ]
  },
  {
   "cell_type": "code",
   "execution_count": 2,
   "id": "45824a7c-94de-46a8-b1da-93fde5472ef7",
   "metadata": {},
   "outputs": [
    {
     "name": "stdout",
     "output_type": "stream",
     "text": [
      " 19%|███████▊                                  | 87/469 [02:34<11:32,  1.81s/it]^C\n",
      " 19%|███████▊                                  | 87/469 [02:35<11:21,  1.78s/it]\n",
      "Traceback (most recent call last):\n",
      "  File \"/Users/yoshidajunichi/Documents/DeepLearning_study/study/deep-learning-from-scratch-5/step09/diffusion_model.py\", line 202, in <module>\n",
      "    noise_pred = model(x_noisy, t)\n",
      "  File \"/Users/yoshidajunichi/.pyenv/versions/anaconda3-2021.11/lib/python3.9/site-packages/torch/nn/modules/module.py\", line 1511, in _wrapped_call_impl\n",
      "    return self._call_impl(*args, **kwargs)\n",
      "  File \"/Users/yoshidajunichi/.pyenv/versions/anaconda3-2021.11/lib/python3.9/site-packages/torch/nn/modules/module.py\", line 1520, in _call_impl\n",
      "    return forward_call(*args, **kwargs)\n",
      "  File \"/Users/yoshidajunichi/Documents/DeepLearning_study/study/deep-learning-from-scratch-5/step09/diffusion_model.py\", line 104, in forward\n",
      "    x = torch.cat([x, x1], dim=1)\n",
      "KeyboardInterrupt\n"
     ]
    }
   ],
   "source": [
    "!python3 diffusion_model.py"
   ]
  },
  {
   "cell_type": "code",
   "execution_count": null,
   "id": "a0911e66-2ca3-4a41-b335-a4723f674bd8",
   "metadata": {},
   "outputs": [],
   "source": []
  }
 ],
 "metadata": {
  "kernelspec": {
   "display_name": "Python 3 (ipykernel)",
   "language": "python",
   "name": "python3"
  },
  "language_info": {
   "codemirror_mode": {
    "name": "ipython",
    "version": 3
   },
   "file_extension": ".py",
   "mimetype": "text/x-python",
   "name": "python",
   "nbconvert_exporter": "python",
   "pygments_lexer": "ipython3",
   "version": "3.9.12"
  }
 },
 "nbformat": 4,
 "nbformat_minor": 5
}
