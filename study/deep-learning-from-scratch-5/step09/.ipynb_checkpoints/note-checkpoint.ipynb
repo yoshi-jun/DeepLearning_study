{
 "cells": [
  {
   "cell_type": "markdown",
   "id": "99469b7a-ab1f-474f-b4ee-7bb9a22f8990",
   "metadata": {},
   "source": [
    "# 9 拡散モデルの実装"
   ]
  },
  {
   "cell_type": "markdown",
   "id": "9a2623d4-5109-4fc3-83ed-107c945142af",
   "metadata": {},
   "source": [
    "前回は、拡散モデルの理論について学んだ。\n",
    "\n",
    "拡散モデルでは、U-netと呼ばれるモデルが良く使用されている。本章では、U-netについて説明し、その後に実装を行う。次に、時刻データを効率良く処理するための「正弦波位置エンコーディング」について学ぶ。その後、ガウスノイズを追加する拡散過程を確かめながら実装し、最後にMNISTデータセットを使って拡散モデルの学習を行う。"
   ]
  },
  {
   "cell_type": "markdown",
   "id": "30426fda-63de-4a55-98c4-36a5dbc8d217",
   "metadata": {},
   "source": [
    "## 9.1 U-Net"
   ]
  },
  {
   "cell_type": "markdown",
   "id": "e7c037c1-1a79-443a-9b39-9c22b7f0a682",
   "metadata": {},
   "source": [
    "前回述べたように、拡散モデルで使用されるネットワークはノイズを予測する。数式では$\\epsilon_\\boldsymbol{\\theta}(\\boldsymbol{x}_t,t)$と表すことができる。\n",
    "\n",
    "このニューラルネットワークへの入力は、ノイズが追加されたデータ$x_t$と時刻(ノイズを加えた回数）$t$の二つが入力される。ここでは、$t$を省略したニューラルネットワークの実装をする。\n",
    "\n",
    "入力がノイズが追加されたデータ$\\boldsymbol{x}_t$のみの場合、ニューラルネットワークは$\\epsilon_\\boldsymbol{\\theta}(\\boldsymbol{x}_t)$と表すことがきでる。このニューラルネットワークは入力と出力の形状が同じである。AutoEncoder, FCN, U-netなどが例に挙げられるが、拡散モデルでは、U-Netがよく用いられる。"
   ]
  },
  {
   "cell_type": "markdown",
   "id": "d5adcfc2-d338-4ec4-b65c-be5e98e12a9a",
   "metadata": {},
   "source": [
    "### 9.1.1 U-Netとは"
   ]
  },
  {
   "cell_type": "markdown",
   "id": "cf7d0637-5372-4a29-8752-423ca6691755",
   "metadata": {},
   "source": [
    "U-Netは、セマンティックセグメンテーションのために開発されたモデルである。セマンティックセグメンテーションとは、各ピクセルに対して特定のラベル付けを行うタスクである。医療分野で言うと、CTデータから臓器の判別を行う等に使用される。また自動運転では、人、信号、前方車両を区別するために用いられる。\n",
    "\n",
    "U-Netへの入力は(C, H, W)の形状の画像データである。ここで、CはRGBの３チャンネルを意味する。H,Wは高さと幅をそれぞれ意味する。出力は(D, H, W)としてD=Cとして、入出力のチャンネル数を同じに設定する。U-netで行う処理は、前半の縮小ステージと拡大ステージに分けられる。縮小を行うステージをダウンサンプリング層、拡大を行う層をアップサンプリング層と呼ばれる。\n",
    "\n",
    "U-Netの重要な特徴は、スキップ接続です。"
   ]
  },
  {
   "cell_type": "markdown",
   "id": "d3e8fa10-c9f7-42e6-8a0c-4b49a568c801",
   "metadata": {},
   "source": [
    "### 9.1.2 U-Netの実装"
   ]
  },
  {
   "cell_type": "markdown",
   "id": "a3b0501d-e933-4b9e-95eb-76cc73bfec36",
   "metadata": {},
   "source": [
    "$1\\times 28\\times 28$ のMNISTを想定した、実装を行う。\n",
    "\n",
    "ConvBlockクラスを実装する。"
   ]
  },
  {
   "cell_type": "code",
   "execution_count": 1,
   "id": "525bbfa2-967b-4f6e-beaf-eb69fac656b5",
   "metadata": {},
   "outputs": [],
   "source": [
    "import torch\n",
    "from torch import nn\n",
    "\n",
    "\n",
    "class ConvBlock(nn.Module):                         # Conv Blockの作成\n",
    "    def __init__(self, in_ch, out_ch):              # コンストラクタの定義\n",
    "        super().__init__()\n",
    "        self.convs = nn.Sequential(                 # nn.sequential を使用して作成\n",
    "            nn.Conv2d(in_ch, out_ch, 3, padding=1), # Conv を使用\n",
    "            nn.BatchNorm2d(out_ch),                 # batch正規化\n",
    "            nn.ReLU(),                              # 活性関数\n",
    "            nn.Conv2d(out_ch, out_ch, 3, padding=1),# 二層目のconv\n",
    "            nn.BatchNorm2d(out_ch),                 # batch正規化\n",
    "            nn.ReLU()                               # 活性関数\n",
    "        )\n",
    "\n",
    "    def forward(self, x):\n",
    "        return self.convs(x)                        # convsの中身をこれ一度で作用させることがきる。"
   ]
  },
  {
   "cell_type": "code",
   "execution_count": 2,
   "id": "4fe11b29-9053-4c2a-b0f9-ab911e54aa4a",
   "metadata": {},
   "outputs": [],
   "source": [
    "class UNet(nn.Module):                          # U-Netクラスを実装\n",
    "    def __init__(self, in_ch=1):                # コンストラクタの実装\n",
    "        super().__init__()\n",
    "\n",
    "        self.down1 = ConvBlock(in_ch, 64)       # ConvBlockを使用し作成\n",
    "        self.down2 = ConvBlock(64, 128)\n",
    "        self.bot1 = ConvBlock(128, 256)\n",
    "        self.up2 = ConvBlock(128 + 256, 128)\n",
    "        self.up1 = ConvBlock(128 + 64, 64)\n",
    "        self.out = nn.Conv2d(64, in_ch, 1)      # 畳み込み演算\n",
    "\n",
    "        self.maxpool = nn.MaxPool2d(2)          # maxpooling の計算\n",
    "        self.upsample = nn.Upsample(scale_factor=2, mode='bilinear') # upsamplingの初期化\n",
    "\n",
    "    def forward(self, x):\n",
    "        x1 = self.down1(x)            # Conv block\n",
    "        x = self.maxpool(x1)          # 縮小を行う\n",
    "        x2 = self.down2(x)            # Conv block\n",
    "        x = self.maxpool(x2)          # 縮小\n",
    "\n",
    "        x = self.bot1(x)              # Conv block \n",
    "\n",
    "        x = self.upsample(x)          # バイリニア補完による拡大\n",
    "        x = torch.cat([x, x2], dim=1) # 接続\n",
    "        x = self.up2(x)               # Conv block\n",
    "        x = self.upsample(x)          # upsampleを使った拡大\n",
    "        x = torch.cat([x, x1], dim=1) # 接続\n",
    "        x = self.up1(x)               # Conv block\n",
    "        x = self.out(x)               # 畳み込み\n",
    "        return x"
   ]
  },
  {
   "cell_type": "markdown",
   "id": "215fc60a-eeda-4f33-b6cd-9b3e436786fc",
   "metadata": {},
   "source": [
    "実際に実行すると次のようになる。"
   ]
  },
  {
   "cell_type": "code",
   "execution_count": 3,
   "id": "d8e814f0-95fe-4616-8aa1-db6d86a60dab",
   "metadata": {},
   "outputs": [
    {
     "name": "stdout",
     "output_type": "stream",
     "text": [
      "torch.Size([10, 1, 28, 28])\n"
     ]
    }
   ],
   "source": [
    "model = UNet()\n",
    "x = torch.randn(10, 1, 28, 28)  # dummy input\n",
    "y = model(x)\n",
    "print(y.shape)"
   ]
  },
  {
   "cell_type": "markdown",
   "id": "3a1471b7-1fc5-4531-ba00-1d4b8926a4ef",
   "metadata": {},
   "source": [
    "foward 部分の各処理における形状を確認する。"
   ]
  },
  {
   "cell_type": "code",
   "execution_count": 4,
   "id": "4ac94ba7-b0ac-423e-8c79-cd488522e615",
   "metadata": {},
   "outputs": [
    {
     "name": "stdout",
     "output_type": "stream",
     "text": [
      "down1(x)            torch.Size([10, 64, 28, 28])\n",
      "maxpool(x1)         torch.Size([10, 64, 14, 14])\n",
      "down2(x)            torch.Size([10, 128, 14, 14])\n",
      "maxpool(x2)         torch.Size([10, 128, 7, 7])\n",
      "bot1(x)             torch.Size([10, 256, 7, 7])\n",
      "upsample(x)         torch.Size([10, 256, 14, 14])\n",
      "cat([x, x2], dim=1) torch.Size([10, 384, 14, 14])\n",
      "up2(x)              torch.Size([10, 128, 14, 14])\n",
      "upsample(x)         torch.Size([10, 128, 28, 28])\n",
      "cat([x, x1], dim=1) torch.Size([10, 192, 28, 28])\n",
      "up1(x)              torch.Size([10, 64, 28, 28])\n",
      "out(x)              torch.Size([10, 1, 28, 28])\n"
     ]
    }
   ],
   "source": [
    "x1 = model.down1(x)\n",
    "print(\"down1(x)           \",x1.shape)\n",
    "x = model.maxpool(x1)\n",
    "print(\"maxpool(x1)        \",x.shape)\n",
    "x2 = model.down2(x)           \n",
    "print(\"down2(x)           \",x2.shape)\n",
    "x = model.maxpool(x2)         \n",
    "print(\"maxpool(x2)        \",x.shape)\n",
    "x = model.bot1(x)              \n",
    "print(\"bot1(x)            \",x.shape)\n",
    "x = model.upsample(x)         \n",
    "print(\"upsample(x)        \",x.shape)\n",
    "x = torch.cat([x, x2], dim=1)\n",
    "print(\"cat([x, x2], dim=1)\",x.shape)\n",
    "x = model.up2(x)              \n",
    "print(\"up2(x)             \",x.shape)\n",
    "x = model.upsample(x)         \n",
    "print(\"upsample(x)        \",x.shape)\n",
    "x = torch.cat([x, x1], dim=1)\n",
    "print(\"cat([x, x1], dim=1)\",x.shape)\n",
    "x = model.up1(x)              \n",
    "print(\"up1(x)             \",x.shape)\n",
    "x = model.out(x)              \n",
    "print(\"out(x)             \",x.shape)"
   ]
  },
  {
   "cell_type": "markdown",
   "id": "f54e3829-3086-4604-8795-0d72a448e247",
   "metadata": {},
   "source": [
    "これで、一旦時刻を含まないUNetが完成した。次に、時刻を入力として与えるように拡張していく。"
   ]
  },
  {
   "cell_type": "markdown",
   "id": "73a498c2-f14f-44ab-b8d4-115003808523",
   "metadata": {},
   "source": [
    "## 9.2 正弦波位置エンコーディング"
   ]
  },
  {
   "cell_type": "markdown",
   "id": "c96170da-875f-46c6-a6aa-00855f6e7988",
   "metadata": {},
   "source": [
    "前節では、$x_t$を処理するU-Netを実装した。ここで、時刻$t$は整数である。拡散モデルでは、時刻$t$のエンコーディングにおいて**正弦波位置エンコーディング**が使用される。"
   ]
  },
  {
   "cell_type": "markdown",
   "id": "4a16da88-1040-408c-9fad-c42af8a4586d",
   "metadata": {},
   "source": [
    "### 9.2.1 正弦波位置エンコーディングとは"
   ]
  },
  {
   "cell_type": "markdown",
   "id": "6515ab8d-138e-4320-b763-528b09008339",
   "metadata": {},
   "source": [
    "正弦波位置エンコーディングは「Attention is All You Need」のTransformerで使用されたことで、有名になった。\n",
    "\n",
    "位置情報とは、系列データの各要素の出現位置のことである。正弦波位置エンコーディングは、整数$t$をベクトル$\\boldsymbol{v}$へ変換する。変換後のベクトル$\\boldsymbol{v}$の次元数を$D$とすると、その$i$番目の要素は次の式で表される。\n",
    "\n",
    "$$\\boldsymbol{v}_i = \\left\\{ \\begin{array}{ll} \\sin(\\frac{t}{10000^{\\frac{i}{D}}}) & i\\%2 = 0 \\\\ \\cos(\\frac{t}{10000^{\\frac{i}{D}}}) & i\\%2 = 1 \\end{array} \\right.$$\n",
    "\n",
    "位置情報の相対的な差異や周期的なパターンが明確に表現でき、モデルは系列データの中の相対一の関係性をより効果的に学習できる。\n",
    "\n",
    "一応、どのようなデータが出るかを確認する。"
   ]
  },
  {
   "cell_type": "code",
   "execution_count": 5,
   "id": "dad44996-c9de-4209-b191-2774d84a558a",
   "metadata": {},
   "outputs": [],
   "source": [
    "def pos_encord(t,D = 100):\n",
    "    lis = []\n",
    "    for i in range(D):\n",
    "        theta = t / ((10000)**(i/D))\n",
    "        if t % 2 == 0:\n",
    "            lis.append(np.sin(theta))\n",
    "        else:\n",
    "            lis.append(np.cos(theta))\n",
    "    return lis"
   ]
  },
  {
   "cell_type": "code",
   "execution_count": 6,
   "id": "e69d701c-6968-4bdd-852b-38de8b7bafec",
   "metadata": {},
   "outputs": [
    {
     "data": {
      "image/png": "[encoded data removed]",
      "text/plain": [
       "<Figure size 432x288 with 1 Axes>"
      ]
     },
     "metadata": {
      "needs_background": "light"
     },
     "output_type": "display_data"
    }
   ],
   "source": [
    "import numpy as np\n",
    "import matplotlib.pyplot as plt\n",
    "\n",
    "lis = []\n",
    "\n",
    "for t in range(8):\n",
    "    v = pos_encord(t)\n",
    "    plt.plot(v,label = str(t))\n",
    "\n",
    "plt.show()"
   ]
  },
  {
   "cell_type": "markdown",
   "id": "a2f599af-4a39-4f05-947e-8a07276a1b6a",
   "metadata": {},
   "source": [
    "### 9.2.2 正弦波位置エンコーディングの実装 "
   ]
  },
  {
   "cell_type": "markdown",
   "id": "822fa7a1-1982-468c-80d7-b5316ba39ee4",
   "metadata": {},
   "source": [
    "正弦波位置エンコーディングの実装を行う。\n",
    "\n",
    "はじめに、一つのデータをエンコードする関数_pos_encoding()を実装する。次に、バッチデータを処理する関数pos_encoding()と言う名前で実装する。"
   ]
  },
  {
   "cell_type": "code",
   "execution_count": 7,
   "id": "a8d60974-1a90-44c5-8e36-bd57770ebeec",
   "metadata": {},
   "outputs": [],
   "source": [
    "import torch\n",
    "import math\n",
    "\n",
    "def _pos_encoding(time_idx, output_dim, device='cpu'):\n",
    "    t, D = time_idx, output_dim\n",
    "    v = torch.zeros(D, device=device)\n",
    "\n",
    "    i = torch.arange(0, D, device=device)             # [0,1...,D-1]の行列を作る\n",
    "    div_term = torch.exp(i / D * math.log(10000))\n",
    "\n",
    "    v[0::2] = torch.sin(t / div_term[0::2])           # スライス法:０から始まり、1飛ばしの全ての要素を指定(偶数)\n",
    "    v[1::2] = torch.cos(t / div_term[1::2])           # 上と同様に1から始まり、1鳥羽市の全ての要素を指定(奇数)\n",
    "    return v"
   ]
  },
  {
   "cell_type": "code",
   "execution_count": 8,
   "id": "2acb3cee-2ccd-461f-a6ed-d791ed51d300",
   "metadata": {},
   "outputs": [
    {
     "name": "stdout",
     "output_type": "stream",
     "text": [
      "torch.Size([16])\n"
     ]
    }
   ],
   "source": [
    "v = _pos_encoding(1, 16)\n",
    "print(v.shape)"
   ]
  },
  {
   "cell_type": "markdown",
   "id": "6403fd06-12a9-4a9d-b5b5-004e9017305e",
   "metadata": {},
   "source": [
    "次にバッチデータを処理する正弦波位置エンコーディングの実装を行う。ここでは、わかりやすさを優先して、for文を利用して次のように実装する。"
   ]
  },
  {
   "cell_type": "code",
   "execution_count": 9,
   "id": "e158453d-167d-4414-970e-358b981dd200",
   "metadata": {},
   "outputs": [],
   "source": [
    "def pos_encoding(timesteps, output_dim, device='cpu'):\n",
    "    batch_size = len(timesteps)                                # timestepsはテンソルを意味する\n",
    "    device = timesteps.device\n",
    "    v = torch.zeros(batch_size, output_dim, device=device)     # バッチ分を格納するためのもの\n",
    "    for i in range(batch_size):\n",
    "        v[i] = _pos_encoding(timesteps[i], output_dim, device) # 先ほど作成した関数を用いる\n",
    "    return v"
   ]
  },
  {
   "cell_type": "code",
   "execution_count": 10,
   "id": "ba30d159-9383-451a-a13a-b28ebaf95694",
   "metadata": {},
   "outputs": [
    {
     "name": "stdout",
     "output_type": "stream",
     "text": [
      "torch.Size([3, 16])\n"
     ]
    }
   ],
   "source": [
    "v = pos_encoding(torch.tensor([1, 2, 3]), 16)\n",
    "print(v.shape)"
   ]
  },
  {
   "cell_type": "markdown",
   "id": "76cc2a9f-2bcd-4f7f-a554-58cceebb6e47",
   "metadata": {},
   "source": [
    "### 9.2.3 U-Netに組み込む"
   ]
  },
  {
   "cell_type": "markdown",
   "id": "ae57cce1-09ec-4261-9fea-43b8c9b2a3d8",
   "metadata": {},
   "source": [
    "U-Netに正弦波位置エンコーディングを組み込む。ConvBlockクラスに正弦波位置エンコーディングを取り入れる。\n",
    "\n",
    "そのために、新しいConvBlockを導入する。"
   ]
  },
  {
   "cell_type": "code",
   "execution_count": 11,
   "id": "d2697bf0-fcf0-41b9-a2dc-f790ae333021",
   "metadata": {},
   "outputs": [],
   "source": [
    "class ConvBlock(nn.Module):\n",
    "    def __init__(self, in_ch, out_ch, time_embed_dim): # コンストラクタ\n",
    "        super().__init__()\n",
    "        self.convs = nn.Sequential(                    # convs\n",
    "            nn.Conv2d(in_ch, out_ch, 3, padding=1),    # 畳み込み\n",
    "            nn.BatchNorm2d(out_ch),                    # バッチ正規化\n",
    "            nn.ReLU(),                                 # 活性化関数\n",
    "            nn.Conv2d(out_ch, out_ch, 3, padding=1),   # 畳み込み\n",
    "            nn.BatchNorm2d(out_ch),                    # バッチ正規化\n",
    "            nn.ReLU()                                  # 活性化関数\n",
    "        )\n",
    "        self.mlp = nn.Sequential(                      # mlp\n",
    "            nn.Linear(time_embed_dim, in_ch),          # 線型変換\n",
    "            nn.ReLU(),                                 # 非線形変換\n",
    "            nn.Linear(in_ch, in_ch)                    # 線形変換\n",
    "        )\n",
    "\n",
    "    def forward(self, x, v):\n",
    "        N, C, _, _ = x.shape                           # shapeの一部を使用\n",
    "        v = self.mlp(v)                                # positional encodeing\n",
    "        v = v.view(N, C, 1, 1)                         # 形状の変更\n",
    "        y = self.convs(x + v)                          # 畳み込みにencodeingの情報を加える\n",
    "        return y"
   ]
  },
  {
   "cell_type": "markdown",
   "id": "d2d68c9e-1176-4e89-a9fd-13bd9793778b",
   "metadata": {},
   "source": [
    "上記ConvBlockを用いたUNetを作成する。"
   ]
  },
  {
   "cell_type": "code",
   "execution_count": 12,
   "id": "e4ee52c4-cb80-49a6-b09f-177234e1cc76",
   "metadata": {},
   "outputs": [],
   "source": [
    "class UNet(nn.Module):                                             # UNetの実装を行う      \n",
    "    def __init__(self, in_ch=1, time_embed_dim=100):         \n",
    "        super().__init__()\n",
    "        self.time_embed_dim = time_embed_dim                       # 各層を定義\n",
    "\n",
    "        self.down1 = ConvBlock(in_ch, 64, time_embed_dim)      \n",
    "        self.down2 = ConvBlock(64, 128, time_embed_dim)\n",
    "        self.bot1  = ConvBlock(128, 256, time_embed_dim)\n",
    "        self.up2   = ConvBlock(128 + 256, 128, time_embed_dim)\n",
    "        self.up1   = ConvBlock(128 + 64, 64, time_embed_dim)\n",
    "        self.out   = nn.Conv2d(64, in_ch, 1)\n",
    "\n",
    "        self.maxpool = nn.MaxPool2d(2)\n",
    "        self.upsample = nn.Upsample(scale_factor=2, mode='bilinear')\n",
    "\n",
    "    def forward(self, x, timesteps):                                # forward関数\n",
    "        v  = pos_encoding(timesteps, self.time_embed_dim, x.device) # 前回と同じ\n",
    "\n",
    "        x1 = self.down1(x, v)\n",
    "        x  = self.maxpool(x1)\n",
    "        x2 = self.down2(x, v)\n",
    "        x  = self.maxpool(x2)\n",
    "\n",
    "        x  = self.bot1(x, v)\n",
    "\n",
    "        x  = self.upsample(x)\n",
    "        x  = torch.cat([x, x2], dim=1)\n",
    "        x  = self.up2(x, v)\n",
    "        x  = self.upsample(x)\n",
    "        x  = torch.cat([x, x1], dim=1)\n",
    "        x  = self.up1(x, v)\n",
    "        x  = self.out(x)\n",
    "        return x"
   ]
  },
  {
   "cell_type": "markdown",
   "id": "1d6fb5b7-1084-44d9-b6ec-e7c2405ba950",
   "metadata": {},
   "source": [
    "拡散モデルで使用するニューラルネットワークの実装はこれで完成です。"
   ]
  },
  {
   "cell_type": "markdown",
   "id": "dd45d68c-a58d-4271-bc03-7405f63ef080",
   "metadata": {},
   "source": [
    "## 9.3 拡散過程"
   ]
  },
  {
   "cell_type": "markdown",
   "id": "2a2a67f8-d046-4063-b6ea-e23108b51c78",
   "metadata": {},
   "source": [
    "次に、拡散過程の実装を行う。\n",
    "\n",
    "まずは、$q(\\boldsymbol{x}_t|\\boldsymbol{x}_{t-1})$の実装から始めます。"
   ]
  },
  {
   "cell_type": "markdown",
   "id": "01861543-5fa3-4ef9-9452-379bfcbd2c35",
   "metadata": {
    "tags": []
   },
   "source": [
    "### 9.3.1 $q(\\boldsymbol{x}_t|\\boldsymbol{x}_{t-1})$からのサンプリング"
   ]
  },
  {
   "cell_type": "markdown",
   "id": "0b01e2cb-51d8-4aca-83e8-ceda491da498",
   "metadata": {},
   "source": [
    "拡散モデル$q(\\boldsymbol{x}_t|\\boldsymbol{x}_{t-1})$は次の式で表される。\n",
    "\n",
    "$$ q(\\boldsymbol{x}_t|\\boldsymbol{x}_{t-1}) = \\mathcal{N}(\\boldsymbol{x}_t;\\sqrt{1-\\beta_t}\\boldsymbol{x}_{t-1},\\beta_t\\boldsymbol{I})$$\n",
    "\n",
    "$q(\\boldsymbol{x}_t|\\boldsymbol{t-1})$からのサンプリングは変数変換トリックを用いて\n",
    "\n",
    "$$ \\epsilon\\sim\\mathcal{N}(\\boldsymbol{0},\\boldsymbol{I})\\\\\n",
    "\\boldsymbol{x}_t = \\sqrt{1-\\beta_t}\\boldsymbol{x}_{t-1}+\\sqrt{\\beta_t}\\epsilon$$\n",
    "\n",
    "ダミーデータを使って、上式を実装する。"
   ]
  },
  {
   "cell_type": "code",
   "execution_count": 13,
   "id": "3a12c692-582b-40e2-8294-d75dac3bba2f",
   "metadata": {},
   "outputs": [],
   "source": [
    "x = torch.randn(3, 64, 64)\n",
    "T = 1000\n",
    "betas = torch.linspace(0.0001, 0.02, T)\n",
    "\n",
    "for t in range(T):\n",
    "    beta = betas[t]\n",
    "    eps = torch.randn_like(x)                             # xと同じ形状のガウスノイズ\n",
    "    x = torch.sqrt(1 - beta) * x + torch.sqrt(beta) * eps\n"
   ]
  },
  {
   "cell_type": "code",
   "execution_count": 14,
   "id": "9dfb576f-6f2b-40b3-ae05-ece0f016619b",
   "metadata": {},
   "outputs": [
    {
     "name": "stdout",
     "output_type": "stream",
     "text": [
      "torch.Size([3, 64, 64])\n"
     ]
    }
   ],
   "source": [
    "print(x.shape)"
   ]
  },
  {
   "cell_type": "code",
   "execution_count": 15,
   "id": "68944961-7ae7-4b85-bb9d-0b38cfc82892",
   "metadata": {},
   "outputs": [
    {
     "data": {
      "image/png": "[encoded data removed]",
      "text/plain": [
       "<Figure size 432x288 with 1 Axes>"
      ]
     },
     "metadata": {
      "needs_background": "light"
     },
     "output_type": "display_data"
    }
   ],
   "source": [
    "plt.hist(x[0,0:64,:])\n",
    "plt.show()"
   ]
  },
  {
   "cell_type": "markdown",
   "id": "6874f82c-d2cf-41e6-ba6a-bd22ebc243fe",
   "metadata": {},
   "source": [
    "分布を見ると、ガウスノイズであることが確認できる。"
   ]
  },
  {
   "cell_type": "markdown",
   "id": "67dc6904-266c-4247-b63e-0a34ae792608",
   "metadata": {},
   "source": [
    "### 9.3.2 画像に対する拡散過程"
   ]
  },
  {
   "cell_type": "markdown",
   "id": "4baf87b7-424f-4207-8024-3c11167e81df",
   "metadata": {},
   "source": [
    "続いて、実際の画像データに対して拡散過程の実装を行う。"
   ]
  },
  {
   "cell_type": "code",
   "execution_count": null,
   "id": "3e155e21-cbca-487b-8070-9104322c3b21",
   "metadata": {},
   "outputs": [],
   "source": [
    "import os\n",
    "import numpy as np\n",
    "import matplotlib.pyplot as plt\n",
    "import torch\n",
    "import torchvision.transforms as transforms\n",
    "\n",
    "# current_dir = os.path.dirname(os.path.abspath(__file__))\n",
    "file_path = os.path.join('flower.png')\n",
    "image = plt.imread(file_path)\n",
    "print(image.shape,type(image))\n",
    "\n",
    "preprocess = transforms.ToTensor()\n",
    "x = preprocess(image)\n",
    "print(x.shape)"
   ]
  },
  {
   "cell_type": "markdown",
   "id": "97628a9f-6f12-4cc9-a59a-41ed7ff36230",
   "metadata": {},
   "source": [
    "はじめに、画像の入力について行う。\n",
    "\n",
    "入力する画像はそのままでは、使用することができない。ndarrayからtensorに変換することで、NeuralNetに作用させることがある。\n",
    "\n",
    "ToTensorでは、ndarrayやPILをtensorに変換する。また、さらに次の変換も行う。\n",
    "\n",
    "* 画像のピクセル値の範囲を[0:255]から[0.0:1.0]にスケーリングする\n",
    "* 画像の次元を(H, W, C)から(C, H, W)に変換する\n",
    "\n",
    "この二つの操作を行う。\n",
    "\n",
    "実際に画像を出力する際にはこれと逆の操作を行う。"
   ]
  },
  {
   "cell_type": "code",
   "execution_count": null,
   "id": "f814f11a-3cb2-4163-ad1b-26efd0563e22",
   "metadata": {},
   "outputs": [],
   "source": [
    "def reverse_to_img(x):\n",
    "    x = x * 255\n",
    "    x = x.clamp(0, 255)\n",
    "    x = x.to(torch.uint8)\n",
    "    to_pil = transforms.ToPILImage()\n",
    "    return to_pil(x)\n",
    "print(reverse_to_img(x), type(reverse_to_img(x)))"
   ]
  },
  {
   "cell_type": "markdown",
   "id": "069f1581-3250-4e85-9089-870c01161faf",
   "metadata": {},
   "source": [
    "tensorからPIL形式に変換されていることがわかる。\n",
    "\n",
    "それでは、画像データに対して、拡散過程を行う。"
   ]
  },
  {
   "cell_type": "code",
   "execution_count": null,
   "id": "86a0e2e6-91d3-4a2c-a044-5a0bea9b5fd8",
   "metadata": {},
   "outputs": [],
   "source": [
    "T = 1000\n",
    "beta_start = 0.0001\n",
    "beta_end = 0.02\n",
    "betas = torch.linspace(beta_start, beta_end, T)\n",
    "imgs = []\n",
    "\n",
    "for t in range(T):\n",
    "    if t % 100 == 0:\n",
    "        img = reverse_to_img(x)                           # 画像に変換\n",
    "        imgs.append(img)                                  # imgsにPIL形式を追加\n",
    "\n",
    "    beta = betas[t]                                       # 時刻tにおけるbetaを取得\n",
    "    eps = torch.randn_like(x)                             # xと同じ形状のガウス分布を生成\n",
    "    x = torch.sqrt(1 - beta) * x + torch.sqrt(beta) * eps # 元画像を1-beta倍してbeta倍したノイズを加算\n",
    "\n",
    "# show imgs\n",
    "plt.figure(figsize=(15, 6))\n",
    "for i, img in enumerate(imgs[:10]):\n",
    "    plt.subplot(2, 5, i + 1)\n",
    "    plt.imshow(img)\n",
    "    plt.title(f'Noise: {i * 100}')\n",
    "    plt.axis('off')\n",
    "plt.show()\n"
   ]
  },
  {
   "cell_type": "markdown",
   "id": "1347bed8-34c3-44cf-9f38-3566a2495eb4",
   "metadata": {},
   "source": [
    "徐々にノイズが追加され、最終的には完全なノイズになっているように感じる。"
   ]
  },
  {
   "cell_type": "markdown",
   "id": "3e4da3d7-6d1d-4554-8064-49fb9b7f973b",
   "metadata": {},
   "source": [
    "### 9.3.3 $q(\\boldsymbol{x}_t|\\boldsymbol{x}_0)$からのサンプリング"
   ]
  },
  {
   "cell_type": "markdown",
   "id": "072a6994-1818-4e1b-9c98-12ad032c2925",
   "metadata": {},
   "source": [
    "続いて、$q(\\boldsymbol{x}_t|\\boldsymbol{x}_0)$からのサンプリング処理を実装する。これは、次のとおり解析的に表すことができる。\n",
    "\n",
    "* ハイパーパラメータの関係式\n",
    "$$ \\alpha_t = 1-\\beta_t$$\n",
    "$$ \\bar{\\alpha}_t = \\alpha_t\\alpha_{t-1}\\cdots\\alpha_1$$\n",
    "\n",
    "* 確率分布:$q(\\boldsymbol{x}_t|\\boldsymbol{x}_0)$\n",
    "\n",
    "$$q(\\boldsymbol{x}_t|\\boldsymbol{x}_0) = \\mathcal{N}(\\boldsymbol{x}_t;\\sqrt{\\bar{\\alpha}_t}\\boldsymbol{x}_0,(1-\\bar{\\alpha}_t)\\boldsymbol{I})$$\n",
    "\n",
    "* $q(\\boldsymbol{x}_t|\\boldsymbol{x}_0)$からのサンプリング\n",
    "\n",
    "$$\\epsilon\\sim\\mathcal{N}(\\boldsymbol{N},\\boldsymbol{I})\\\\\n",
    "\\boldsymbol{x}_t = \\sqrt{\\bar{\\alpha}_t}\\boldsymbol{x}_0+\\sqrt{1-\\bar{\\alpha}_t}\\epsilon$$\n",
    "\n",
    "ここでは、$\\bar{\\alpha}_t=\\alpha_t\\alpha_{t-1}\\cdots\\alpha_1$を計算する必要がある。これは、torch.comprod()を使用することで計算することができる。"
   ]
  },
  {
   "cell_type": "code",
   "execution_count": null,
   "id": "636b6082-32f0-403c-8ca2-733e77cba37d",
   "metadata": {},
   "outputs": [],
   "source": [
    "import torch\n",
    "\n",
    "x = torch.tensor([1, 2, 3, 4])\n",
    "output = torch.cumprod(x, dim=0)\n",
    "print(output)"
   ]
  },
  {
   "cell_type": "markdown",
   "id": "d198546b-cd80-4845-84c0-e9ddd044fa53",
   "metadata": {},
   "source": [
    "出力の結果はそれぞれの要素までの積になっていることがわかる。\n",
    "\n",
    "これを利用して、$q(\\boldsymbol{x}_t|\\boldsymbol{x}_0)$からのサンプリングを実装する。"
   ]
  },
  {
   "cell_type": "code",
   "execution_count": null,
   "id": "96000f6c-4661-4d14-a2f6-8e5c61b93746",
   "metadata": {},
   "outputs": [],
   "source": [
    "file_path = os.path.join('flower.png')\n",
    "img = plt.imread(file_path)\n",
    "x = preprocess(img)\n",
    "\n",
    "T = 1000\n",
    "beta_start = 0.0001\n",
    "beat_end   = 0.02\n",
    "betas = torch.linspace(beta_start, beta_end, T)\n",
    "\n",
    "def add_noise(x_0, t, betas):\n",
    "    T = len(betas)\n",
    "    assert t >= 1 and t <= T                     # 引数tが1以上T以下であるかを確認\n",
    "    t_idx = t - 1                                # tのインデックスを作成\n",
    "\n",
    "    alphas = 1 - betas                           \n",
    "    alpha_bars = torch.cumprod(alphas, dim=0)    # alphaの行列においてt以前の要素の積を計算\n",
    "    alpha_bar = alpha_bars[t_idx]                # 時刻tにおけるalphaを格納\n",
    "\n",
    "    eps = torch.randn_like(x_0)                  # x_0と同じ形状のガウス分布を作成\n",
    "    x_t = torch.sqrt(alpha_bar) * x_0 + torch.sqrt(1 - alpha_bar) * eps # x_tに乱数を加える\n",
    "    return x_t\n",
    "\n",
    "t = 100\n",
    "x_t = add_noise(x, t, betas)\n",
    "\n",
    "img = reverse_to_img(x_t)\n",
    "plt.imshow(img)\n",
    "plt.title(f'Noise: {t}')\n",
    "plt.axis('off')\n",
    "plt.show()"
   ]
  },
  {
   "cell_type": "markdown",
   "id": "758cb80b-833c-4370-998c-c8790b5ac547",
   "metadata": {},
   "source": [
    "これにより、ループを使用せずに100番目のノイズが加えられたデータを作成することができた。"
   ]
  },
  {
   "cell_type": "markdown",
   "id": "55b1ba2d-3c46-4a2a-b479-06a0a5778ae2",
   "metadata": {},
   "source": [
    "### 9.3.4 Diffuserクラスの実装"
   ]
  },
  {
   "cell_type": "markdown",
   "id": "0c63a674-d340-4f52-bf96-e1e3b3838b49",
   "metadata": {},
   "source": [
    "最後に、ここで実装した拡散過程のコードをクラスにまとめる。\n",
    "\n",
    "クラス名はDiffuserクラスとする。\n",
    "\n",
    "* **GPUへの対応**:設定に応じてCPUもしくはGPU上で動作させる\n",
    "* **バッチデータ**:データの形状は(C, H, W)ではなく(N, C, H, W)のデータを扱う\n",
    "\n",
    "コードは次のとおりである"
   ]
  },
  {
   "cell_type": "code",
   "execution_count": null,
   "id": "a276807e-0029-43f9-a054-f5962bbb7650",
   "metadata": {},
   "outputs": [],
   "source": [
    "class Diffuser:\n",
    "    def __init__(self, num_timesteps=1000, beta_start=0.0001, beta_end=0.02, device='cpu'):\n",
    "        self.num_timesteps = num_timesteps\n",
    "        self.device = device\n",
    "        self.betas = torch.linspace(beta_start, beta_end, num_timesteps, device=device)\n",
    "        self.alphas = 1 - self.betas\n",
    "        self.alpha_bars = torch.cumprod(self.alphas, dim=0)\n",
    "\n",
    "    def add_noise(self, x_0, t):\n",
    "        T = self.num_timesteps\n",
    "        assert (t >= 1).all() and (t <= T).all()                    # 1<t and t<Tの確認\n",
    "\n",
    "        t_idx = t - 1                                               # alpha_bars[0] is for t=1\n",
    "        alpha_bar = self.alpha_bars[t_idx]                          # (N,)\n",
    "        N = alpha_bar.size(0)\n",
    "        alpha_bar = alpha_bar.view(N, 1, 1, 1)                      # (N, 1, 1, 1)に変形\n",
    "\n",
    "        noise = torch.randn_like(x_0, device=self.device)\n",
    "        x_t = torch.sqrt(alpha_bar) * x_0 + torch.sqrt(1 - alpha_bar) * noise\n",
    "        return x_t, noise\n"
   ]
  },
  {
   "cell_type": "markdown",
   "id": "6feccb0a-7922-4228-8b3d-e93621afe712",
   "metadata": {},
   "source": [
    "## 9.4 データ生成"
   ]
  },
  {
   "cell_type": "markdown",
   "id": "d51bdf94-17f2-47f7-a8e3-6ff523ff51f4",
   "metadata": {},
   "source": [
    "データ生成を行うためのメソッドをDiffuserクラスに実装する。\n",
    "\n",
    "拡散モデルのデータ生成は次のアルゴリズムで表される。\n",
    "\n",
    "\n",
    "1. $\\boldsymbol{x}_T\\sim\\mathcal{N}(\\boldsymbol{0},\\boldsymbol{I})$\n",
    "2. for $t$ in $[T,\\cdots,1]$:\n",
    "3.    $\\epsilon\\sim\\mathcal{N}(\\boldsymbol{0},\\boldsymbol{I})$\n",
    "4.    if $t=1$ then $\\epsilon=0$\n",
    "5.    $\\sigma_q(t) = \\sqrt{\\frac{(1-\\alpha_t)(1-\\bar{\\alpha}_{t-1})} {1-\\bar{\\alpha}_t}}$\n",
    "6.    $\\boldsymbol{x}_{t-1} = \\frac{1}{\\sqrt{\\alpha_t}} \\left( \\boldsymbol{x}_t - \\frac{1 - \\alpha_t}{\\sqrt{1 - \\bar{\\alpha}_t}} \\, \\epsilon_\\boldsymbol{\\theta}(\\boldsymbol{x}_t, t) \\right)+\\sigma_q(t)\\epsilon$\n",
    "7. return $\\boldsymbol{x}_0$\n",
    "\n",
    "これを、Diffusionクラスに組み込む\n"
   ]
  },
  {
   "cell_type": "markdown",
   "id": "249a2e80-91de-4e70-9070-c34845d71e7d",
   "metadata": {},
   "source": [
    "### 9.4.1 ワンステップのデノイズ処理"
   ]
  },
  {
   "cell_type": "markdown",
   "id": "c4f281a3-26d0-40ac-a992-7b815c1fa537",
   "metadata": {},
   "source": [
    "上記のforループ中の処理を行うメソッドを実装する。メソッド名はdenoise(self, model, x, t)である。xの形状は（N, C, H, W)であり、tは(N,)とする。"
   ]
  },
  {
   "cell_type": "code",
   "execution_count": null,
   "id": "4803b217-3944-4049-bed9-9bae534090b8",
   "metadata": {},
   "outputs": [],
   "source": [
    "class Diffuser:\n",
    "    def __init__(self, num_timesteps=1000, beta_start=0.0001, beta_end=0.02, device='cpu'):\n",
    "        self.num_timesteps = num_timesteps\n",
    "        self.device = device\n",
    "        self.betas = torch.linspace(beta_start, beta_end, num_timesteps, device=device)\n",
    "        self.alphas = 1 - self.betas\n",
    "        self.alpha_bars = torch.cumprod(self.alphas, dim=0)\n",
    "\n",
    "    def add_noise(self, x_0, t):\n",
    "        T = self.num_timesteps\n",
    "        assert (t >= 1).all() and (t <= T).all()                    # 1<t and t<Tの確認\n",
    "\n",
    "        t_idx = t - 1                                               # alpha_bars[0] is for t=1\n",
    "        alpha_bar = self.alpha_bars[t_idx]                          # (N,)\n",
    "        N = alpha_bar.size(0)\n",
    "        alpha_bar = alpha_bar.view(N, 1, 1, 1)                      # (N, 1, 1, 1)に変形\n",
    "\n",
    "        noise = torch.randn_like(x_0, device=self.device)\n",
    "        x_t = torch.sqrt(alpha_bar) * x_0 + torch.sqrt(1 - alpha_bar) * noise\n",
    "        return x_t, noise\n",
    "    \n",
    "    def denoise(self, model, x, t):\n",
    "        T = self.num_timesteps\n",
    "        assert (t >= 1).all() and (t <= T).all()\n",
    "\n",
    "        t_idx = t - 1  # alphas[0] is for t=1\n",
    "        alpha = self.alphas[t_idx]\n",
    "        alpha_bar = self.alpha_bars[t_idx]\n",
    "        alpha_bar_prev = self.alpha_bars[t_idx-1]\n",
    "\n",
    "        N = alpha.size(0)\n",
    "        alpha = alpha.view(N, 1, 1, 1)\n",
    "        alpha_bar = alpha_bar.view(N, 1, 1, 1)\n",
    "        alpha_bar_prev = alpha_bar_prev.view(N, 1, 1, 1)\n",
    "\n",
    "        model.eval()                                                 # モデルを評価モードへ変更する\n",
    "        with torch.no_grad():                                        # バックプロパゲーションが不要な場合に使用し、メモリ使用量を削減できる\n",
    "            eps = model(x, t)\n",
    "        model.train()                                                # モデルを学習モードへ変更\n",
    "\n",
    "        noise = torch.randn_like(x, device=self.device)\n",
    "        noise[t == 1] = 0                                            # t=１の場合にTrue,それ以外はFalseとなる。\n",
    "\n",
    "        mu = (x - ((1-alpha) / torch.sqrt(1-alpha_bar)) * eps) / torch.sqrt(alpha)\n",
    "        std = torch.sqrt((1-alpha) * (1-alpha_bar_prev) / (1-alpha_bar))\n",
    "        return mu + noise * std"
   ]
  },
  {
   "cell_type": "markdown",
   "id": "bb4879d5-494b-41e1-b629-270cc3170040",
   "metadata": {},
   "source": [
    "### 9.4.2 データ生成の実装"
   ]
  },
  {
   "cell_type": "markdown",
   "id": "88bf8e1d-da29-4ecf-a348-bff6d29164ff",
   "metadata": {},
   "source": [
    "拡散モデルによって画像を生成するメソッドを実装する。\n",
    "\n",
    "sample(self, model, x_shape=(20, 1, 28, 28))として実装する。"
   ]
  },
  {
   "cell_type": "code",
   "execution_count": null,
   "id": "2f7940b4-f564-486b-927a-c108af554f31",
   "metadata": {},
   "outputs": [],
   "source": [
    "from tqdm import tqdm\n",
    "\n",
    "class Diffuser:\n",
    "    def __init__(self, num_timesteps=1000, beta_start=0.0001, beta_end=0.02, device='cpu'):\n",
    "        self.num_timesteps = num_timesteps\n",
    "        self.device = device\n",
    "        self.betas = torch.linspace(beta_start, beta_end, num_timesteps, device=device)\n",
    "        self.alphas = 1 - self.betas\n",
    "        self.alpha_bars = torch.cumprod(self.alphas, dim=0)\n",
    "\n",
    "    def add_noise(self, x_0, t):\n",
    "        T = self.num_timesteps\n",
    "        assert (t >= 1).all() and (t <= T).all()                    # 1<t and t<Tの確認\n",
    "\n",
    "        t_idx = t - 1                                               # alpha_bars[0] is for t=1\n",
    "        alpha_bar = self.alpha_bars[t_idx]                          # (N,)\n",
    "        N = alpha_bar.size(0)\n",
    "        alpha_bar = alpha_bar.view(N, 1, 1, 1)                      # (N, 1, 1, 1)に変形\n",
    "\n",
    "        noise = torch.randn_like(x_0, device=self.device)\n",
    "        x_t = torch.sqrt(alpha_bar) * x_0 + torch.sqrt(1 - alpha_bar) * noise\n",
    "        return x_t, noise\n",
    "    \n",
    "    def denoise(self, model, x, t):\n",
    "        T = self.num_timesteps\n",
    "        assert (t >= 1).all() and (t <= T).all()\n",
    "\n",
    "        t_idx = t - 1  # alphas[0] is for t=1\n",
    "        alpha = self.alphas[t_idx]\n",
    "        alpha_bar = self.alpha_bars[t_idx]\n",
    "        alpha_bar_prev = self.alpha_bars[t_idx-1]\n",
    "\n",
    "        N = alpha.size(0)\n",
    "        alpha = alpha.view(N, 1, 1, 1)\n",
    "        alpha_bar = alpha_bar.view(N, 1, 1, 1)\n",
    "        alpha_bar_prev = alpha_bar_prev.view(N, 1, 1, 1)\n",
    "\n",
    "        model.eval()\n",
    "        with torch.no_grad():\n",
    "            eps = model(x, t)\n",
    "        model.train()\n",
    "\n",
    "        noise = torch.randn_like(x, device=self.device)\n",
    "        noise[t == 1] = 0  # no noise at t=1\n",
    "\n",
    "        mu = (x - ((1-alpha) / torch.sqrt(1-alpha_bar)) * eps) / torch.sqrt(alpha)\n",
    "        std = torch.sqrt((1-alpha) * (1-alpha_bar_prev) / (1-alpha_bar))\n",
    "        return mu + noise * std\n",
    "\n",
    "    def reverse_to_img(self, x):\n",
    "        x = x * 255\n",
    "        x = x.clamp(0, 255)\n",
    "        x = x.to(torch.uint8)\n",
    "        x = x.cpu()\n",
    "        to_pil = transforms.ToPILImage()\n",
    "        return to_pil(x)\n",
    "\n",
    "    def sample(self, model, x_shape=(20, 1, 28, 28)):\n",
    "        batch_size = x_shape[0]\n",
    "        x = torch.randn(x_shape, device=self.device)\n",
    "\n",
    "        for i in tqdm(range(self.num_timesteps, 0, -1)):                            # 逆順のイテレータを作理、プログレスバーを作成\n",
    "            t = torch.tensor([i] * batch_size, device=self.device, dtype=torch.long)\n",
    "            x = self.denoise(model, x, t)                                           # denoiseメソッドをfor文中で繰り返し呼び出す\n",
    "\n",
    "        images = [self.reverse_to_img(x[i]) for i in range(batch_size)]             # tensorからPIL形式に変更\n",
    "        return images"
   ]
  },
  {
   "cell_type": "markdown",
   "id": "7b69720c-c1bc-4dda-b141-cd710d882829",
   "metadata": {},
   "source": [
    "### 9.5 拡散モデルの学習"
   ]
  },
  {
   "cell_type": "markdown",
   "id": "f42c8dd6-533c-460c-a7a1-9de614832545",
   "metadata": {},
   "source": [
    "importとハイパーパラメータの設定のコードを示す。"
   ]
  },
  {
   "cell_type": "code",
   "execution_count": null,
   "id": "f07f7c26-621b-4467-9af9-b682f8d9aefe",
   "metadata": {},
   "outputs": [],
   "source": [
    "import math\n",
    "import torch\n",
    "import torchvision\n",
    "import matplotlib.pyplot as plt\n",
    "from torchvision import transforms\n",
    "from torch.utils.data import DataLoader\n",
    "from torch.optim import Adam\n",
    "import torch.nn.functional as F\n",
    "from torch import nn\n",
    "from tqdm import tqdm\n",
    "\n",
    "\n",
    "img_size = 28\n",
    "batch_size = 128\n",
    "num_timesteps = 1000\n",
    "epochs = 10\n",
    "lr = 1e-3\n",
    "device = 'cuda' if torch.cuda.is_available() else 'cpu'\n",
    "\n",
    "\n",
    "def show_images(images, rows=2, cols=10):\n",
    "    fig = plt.figure(figsize=(cols, rows))\n",
    "    i = 0\n",
    "    for r in range(rows):\n",
    "        for c in range(cols):\n",
    "            fig.add_subplot(rows, cols, i + 1)\n",
    "            plt.imshow(images[i], cmap='gray')\n",
    "            plt.axis('off')\n",
    "            i += 1\n",
    "    plt.show()\n",
    "    "
   ]
  },
  {
   "cell_type": "markdown",
   "id": "d51721a7-baf1-4d78-9520-c13556051086",
   "metadata": {},
   "source": [
    "deviceは、gpu, cpuを設定することができ、show_imagesは生成した画像を表示するために用いる。"
   ]
  },
  {
   "cell_type": "code",
   "execution_count": null,
   "id": "e8e52481-e9d8-4d08-b758-00fbb2307bc1",
   "metadata": {},
   "outputs": [],
   "source": [
    "preprocess = transforms.ToTensor()\n",
    "dataset = torchvision.datasets.MNIST(root='./data', download=True, transform=preprocess)\n",
    "dataloader = DataLoader(dataset, batch_size=batch_size, shuffle=True)\n",
    "\n",
    "diffuser = Diffuser(num_timesteps, device=device)\n",
    "model = UNet()\n",
    "model.to(device)\n",
    "optimizer = Adam(model.parameters(), lr=lr)"
   ]
  },
  {
   "cell_type": "markdown",
   "id": "d1977a40-2e4f-4e47-b681-1b1fe670aefb",
   "metadata": {},
   "source": [
    "データセット、データローダを準備する。した。DiffuserとUNetクラス、オプティマイザを次に用意する。"
   ]
  },
  {
   "cell_type": "code",
   "execution_count": null,
   "id": "bc1442fc-0331-4b6a-aa4f-b2b5fc5963b1",
   "metadata": {
    "tags": []
   },
   "outputs": [],
   "source": [
    "\n",
    "losses = []\n",
    "for epoch in range(epochs):\n",
    "    loss_sum = 0.0\n",
    "    cnt = 0\n",
    "\n",
    "    # generate samples every epoch ===================\n",
    "    # images = diffuser.sample(model)\n",
    "    # show_images(images)\n",
    "    # ================================================\n",
    "\n",
    "    for images, labels in tqdm(dataloader):\n",
    "        optimizer.zero_grad()\n",
    "        x = images.to(device)\n",
    "        t = torch.randint(1, num_timesteps+1, (len(x),), device=device)\n",
    "\n",
    "        x_noisy, noise = diffuser.add_noise(x, t)\n",
    "        noise_pred = model(x_noisy, t)\n",
    "        loss = F.mse_loss(noise, noise_pred)\n",
    "\n",
    "        loss.backward()\n",
    "        optimizer.step()\n",
    "\n",
    "        loss_sum += loss.item()\n",
    "        cnt += 1\n",
    "\n",
    "    loss_avg = loss_sum / cnt\n",
    "    losses.append(loss_avg)\n",
    "    print(f'Epoch {epoch} | Loss: {loss_avg}')\n",
    "\n",
    "# plot losses\n",
    "plt.plot(losses)\n",
    "plt.xlabel('Epoch')\n",
    "plt.ylabel('Loss')\n",
    "plt.show()\n",
    "\n",
    "# generate samples\n",
    "images = diffuser.sample(model)\n",
    "show_images(images)"
   ]
  },
  {
   "cell_type": "markdown",
   "id": "cc512be2-cb1c-4b71-a5e8-5d95559ad90a",
   "metadata": {},
   "source": [
    "### 9.5.2 学習結果"
   ]
  },
  {
   "cell_type": "markdown",
   "id": "700453f2-7715-4699-ad16-b998707a8484",
   "metadata": {},
   "source": [
    "学習結果を見るとlossが徐々に減少していることがわかる。"
   ]
  },
  {
   "cell_type": "code",
   "execution_count": null,
   "id": "679d7617-5216-433f-8180-0d8c6ab71d7b",
   "metadata": {},
   "outputs": [],
   "source": []
  }
 ],
 "metadata": {
  "kernelspec": {
   "display_name": "Python 3 (ipykernel)",
   "language": "python",
   "name": "python3"
  },
  "language_info": {
   "codemirror_mode": {
    "name": "ipython",
    "version": 3
   },
   "file_extension": ".py",
   "mimetype": "text/x-python",
   "name": "python",
   "nbconvert_exporter": "python",
   "pygments_lexer": "ipython3",
   "version": "3.9.12"
  }
 },
 "nbformat": 4,
 "nbformat_minor": 5
}
