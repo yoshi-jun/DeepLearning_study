{
 "cells": [
  {
   "cell_type": "markdown",
   "id": "8c9535f0-b626-4e8e-9fd3-da081465e62f",
   "metadata": {},
   "source": [
    "# 10　拡散モデルの応用"
   ]
  },
  {
   "cell_type": "markdown",
   "id": "01aa5ca5-f246-48c7-83f5-3e77e958959b",
   "metadata": {},
   "source": [
    "拡散モデルのアプリケーションには、テキストから画像を生成するサービスStable Diffusion, Midjourneyがある。本ステップでは、条件付き拡散モデルの原理と実装を行う。その後、最先端の画像生成AIがどのような要素技術を用いているかについて説明する。"
   ]
  },
  {
   "cell_type": "markdown",
   "id": "cb9f775a-5b51-40c4-b9b1-492179feefdf",
   "metadata": {},
   "source": [
    "## 10.1 条件付き拡散モデル"
   ]
  },
  {
   "cell_type": "markdown",
   "id": "9040217c-2186-446a-8710-e82be5746d3d",
   "metadata": {},
   "source": [
    "step9で紹介していた拡散モデルでは、MNISTの手書き文字の画像のデータ$\\boldsymbol{x}$の確率$p(\\boldsymbol{x})$をモデル化してきた。このモデルから生成される数字はランダムであった。実用的には、生成する数字を指定したい。そのため条件付き確率$p(\\boldsymbol{x}|y)$をモデル化することが望まれる。これは、$y$を入力として指定することで任意の数字を出力できるようになることを意味する。\n",
    "\n",
    "条件$y$は数字だけではなく、テキスト、画像、ラベル等が考えられる。yを低解像度の画像とすると、高解像度の画像へ変換するという使い方も考えられる。これは、超解像(Super-resolution imaging)と呼ばれる。\n",
    "\n",
    "本節では、$y$をラベルとした例を扱う。具体的には、MNISTの数字ラベルを与えると、そのラベルに対応する画像を生成するモデルを実装する。"
   ]
  },
  {
   "cell_type": "markdown",
   "id": "63a85ddd-3ede-4b77-a378-a05e32e148e3",
   "metadata": {},
   "source": [
    "### 10.1.1 拡散モデルに条件を追加する"
   ]
  },
  {
   "cell_type": "markdown",
   "id": "bfc05043-6abd-4d8e-bb64-badf0d43a9fb",
   "metadata": {},
   "source": [
    "拡散モデルでは、ニューラルネットワークに何を推論させるかによって二つに分けることができた。\n",
    "\n",
    "具体的には元の画像$\\boldsymbol{x}$を推論するネットワーク$\\boldsymbol{\\mu}_\\theta(\\boldsymbol{x}_t,t)$と、元の画像にどのようなノイズ$\\epsilon$が追加されているかを推論する$\\boldsymbol{\\epsilon}_\\theta(\\boldsymbol{x}_t,t)$の二つである。\n",
    "\n",
    "ここでは、$\\boldsymbol{\\mu}_\\theta(\\boldsymbol{x}_t,t)$をモデル化する場合を考える。この時$p_\\theta(\\boldsymbol{x}_{t-1}|\\boldsymbol{x}_t)$は\n",
    "\n",
    "$$p_\\theta(\\boldsymbol{x}_{t-1}|\\boldsymbol{x}_t) = \\mathcal{N}(\\boldsymbol{x}_{t-1};\\boldsymbol{\\mu}_\\theta(\\boldsymbol{x}_t,t),\\sigma^2_q(t)\\boldsymbol{I})$$\n",
    "\n",
    "と表すことができる。生成過程で生成されるデータ$\\boldsymbol{x}_0$は次の式で表される。\n",
    "\n",
    "$$p_\\theta(\\boldsymbol{x}_0) = \\int p_\\theta(\\boldsymbol{x}_0,\\boldsymbol{x}_1, \\cdots,\\boldsymbol{x}_T)d\\boldsymbol{x}_1\\cdots d\\boldsymbol{x}_T\\\\\n",
    "= \\int p_\\theta(\\boldsymbol{x}_0|\\boldsymbol{x}_1)\\cdots p_\\theta(\\boldsymbol{x}_{T-1}|\\boldsymbol{x}_T)p(\\boldsymbol{x}_T)d\\boldsymbol{x}_1\\cdots d\\boldsymbol{x}_T$$\n",
    "\n",
    "ここで、$p(\\boldsymbol{x}_T)=\\mathcal{N}(\\boldsymbol{x}_T,\\boldsymbol{0},\\boldsymbol{I})$です。条件付きの拡散モデルを作成するためには、$p_\\theta(\\boldsymbol{x}_0)$から$p_\\theta(\\boldsymbol{x}_0|y)$をモデル化する必要がある。これを数式で表すと\n",
    "\n",
    "$$p_\\theta(\\boldsymbol{x}_0| y) = \\int p_\\theta(\\boldsymbol{x}_0|\\boldsymbol{x}_1,y)\\cdots p_\\theta(\\boldsymbol{x}_{T-1}|\\boldsymbol{x}_T,y)p(\\boldsymbol{x}_T)d\\boldsymbol{x}_1\\cdots d\\boldsymbol{x}_T$$\n",
    "\n",
    "である。ここで$p_\\theta(\\boldsymbol{x}_{t-1}|\\boldsymbol{x}_t,y)$は次の式で表される。\n",
    "\n",
    "$$p_\\theta(\\boldsymbol{x}_{T-1}|\\boldsymbol{x}_T,y) = \\mathcal{N}(\\boldsymbol{x}_{t-1};\\boldsymbol{\\mu}_\\theta(\\boldsymbol{x}_{t},t,y),\\sigma^2_q(t)\\boldsymbol{I})$$\n",
    "\n",
    "前回までのニューラルネットワークと比較して、引数に$y$を追加した。これにより、条件付き拡散モデルへと進化させることができる。これは、ノイズを予測する場合も同様である。"
   ]
  },
  {
   "cell_type": "markdown",
   "id": "aa8351a3-9ff4-47b0-b112-2561e76779be",
   "metadata": {},
   "source": [
    "### 10.1.2 条件付き拡散モデルの実装"
   ]
  },
  {
   "cell_type": "markdown",
   "id": "fd552b48-bb12-4589-9fc3-66f8c0e3cc14",
   "metadata": {},
   "source": [
    "前回、ノイズを推論させる拡散モデルを実装した。ニューラルネットワークは$\\epsilon_\\theta(\\boldsymbol{x}_t,t)$で表すことができた。$t$は整数であり、正弦波位置エンコーディングによってベクトルへ変換されている。整数$y$は埋め込み層によってベクトルに変換し、$t$の正弦波位置エンコーディング後のベクトルと足し合わせる。"
   ]
  },
  {
   "cell_type": "code",
   "execution_count": 1,
   "id": "3f9c0c88-5038-4dd6-9e8b-9f4cd866cd9e",
   "metadata": {
    "jupyter": {
     "source_hidden": true
    },
    "tags": []
   },
   "outputs": [],
   "source": [
    "import math\n",
    "import torch\n",
    "import torchvision\n",
    "import matplotlib.pyplot as plt\n",
    "from torchvision import transforms\n",
    "from torch.utils.data import DataLoader\n",
    "from torch.optim import Adam\n",
    "import torch.nn.functional as F\n",
    "from torch import nn\n",
    "from tqdm import tqdm\n",
    "\n",
    "\n",
    "img_size = 28\n",
    "batch_size = 128\n",
    "num_timesteps = 1000\n",
    "epochs = 10\n",
    "lr = 1e-3\n",
    "device = 'cuda' if torch.cuda.is_available() else 'cpu'\n",
    "\n",
    "\n",
    "def show_images(images, labels=None, rows=2, cols=10):\n",
    "    fig = plt.figure(figsize=(cols, rows))\n",
    "    i = 0\n",
    "    for r in range(rows):\n",
    "        for c in range(cols):\n",
    "            ax = fig.add_subplot(rows, cols, i + 1)\n",
    "            plt.imshow(images[i], cmap='gray')\n",
    "            if labels is not None:\n",
    "                ax.set_xlabel(labels[i].item())\n",
    "            ax.get_xaxis().set_ticks([])\n",
    "            ax.get_yaxis().set_ticks([])\n",
    "            i += 1\n",
    "    plt.tight_layout()\n",
    "    plt.show()\n",
    "\n",
    "def _pos_encoding(time_idx, output_dim, device='cpu'):\n",
    "    t, D = time_idx, output_dim\n",
    "    v = torch.zeros(D, device=device)\n",
    "\n",
    "    i = torch.arange(0, D, device=device)\n",
    "    div_term = torch.exp(i / D * math.log(10000))\n",
    "\n",
    "    v[0::2] = torch.sin(t / div_term[0::2])\n",
    "    v[1::2] = torch.cos(t / div_term[1::2])\n",
    "    return v\n",
    "\n",
    "def pos_encoding(timesteps, output_dim, device='cpu'):\n",
    "    batch_size = len(timesteps)\n",
    "    device = timesteps.device\n",
    "    v = torch.zeros(batch_size, output_dim, device=device)\n",
    "    for i in range(batch_size):\n",
    "        v[i] = _pos_encoding(timesteps[i], output_dim, device)\n",
    "    return v\n",
    "\n",
    "class ConvBlock(nn.Module):\n",
    "    def __init__(self, in_ch, out_ch, time_embed_dim):\n",
    "        super().__init__()\n",
    "        self.convs = nn.Sequential(\n",
    "            nn.Conv2d(in_ch, out_ch, 3, padding=1),\n",
    "            nn.BatchNorm2d(out_ch),\n",
    "            nn.ReLU(),\n",
    "            nn.Conv2d(out_ch, out_ch, 3, padding=1),\n",
    "            nn.BatchNorm2d(out_ch),\n",
    "            nn.ReLU()\n",
    "        )\n",
    "        self.mlp = nn.Sequential(\n",
    "            nn.Linear(time_embed_dim, in_ch),\n",
    "            nn.ReLU(),\n",
    "            nn.Linear(in_ch, in_ch)\n",
    "        )\n",
    "\n",
    "    def forward(self, x, v):\n",
    "        N, C, _, _ = x.shape\n",
    "        v = self.mlp(v)\n",
    "        v = v.view(N, C, 1, 1)\n",
    "        y = self.convs(x + v)\n",
    "        return y"
   ]
  },
  {
   "cell_type": "code",
   "execution_count": 3,
   "id": "0f49f1e8-494f-46f9-be0d-ee5af6fda1c3",
   "metadata": {},
   "outputs": [],
   "source": [
    "class UNetCond(nn.Module):\n",
    "    def __init__(self, in_ch=1, time_embed_dim=100, num_labels=None):\n",
    "        super().__init__()\n",
    "        self.time_embed_dim = time_embed_dim\n",
    "\n",
    "        self.down1 = ConvBlock(in_ch, 64, time_embed_dim)\n",
    "        self.down2 = ConvBlock(64, 128, time_embed_dim)\n",
    "        self.bot1 = ConvBlock(128, 256, time_embed_dim)\n",
    "        self.up2 = ConvBlock(128 + 256, 128, time_embed_dim)\n",
    "        self.up1 = ConvBlock(128 + 64, 64, time_embed_dim)\n",
    "        self.out = nn.Conv2d(64, in_ch, 1)\n",
    "\n",
    "        self.maxpool = nn.MaxPool2d(2)\n",
    "        self.upsample = nn.Upsample(scale_factor=2, mode='bilinear')\n",
    "\n",
    "        if num_labels is not None:\n",
    "            self.label_emb = nn.Embedding(num_labels, time_embed_dim) # Embeddingにnum_labelsを追加\n",
    "\n",
    "    def forward(self, x, timesteps, labels=None):                     # 引数にlabelsを追加\n",
    "        t = pos_encoding(timesteps, self.time_embed_dim)\n",
    "\n",
    "        if labels is not None:\n",
    "            t += self.label_emb(labels)                               # tにlabel_embを加算\n",
    "\n",
    "        x1 = self.down1(x, t)\n",
    "        x = self.maxpool(x1)\n",
    "        x2 = self.down2(x, t)\n",
    "        x = self.maxpool(x2)\n",
    "\n",
    "        x = self.bot1(x, t)\n",
    "\n",
    "        x = self.upsample(x)\n",
    "        x = torch.cat([x, x2], dim=1)\n",
    "        x = self.up2(x, t)\n",
    "        x = self.upsample(x)\n",
    "        x = torch.cat([x, x1], dim=1)\n",
    "        x = self.up1(x, t)\n",
    "        x = self.out(x)\n",
    "        return x"
   ]
  },
  {
   "cell_type": "markdown",
   "id": "34ce4d6d-fb73-4fa5-9956-d63c939c25fc",
   "metadata": {},
   "source": [
    "Embeddingの部分に注目して出力を確認する。これが手書き数字の値を決定している。"
   ]
  },
  {
   "cell_type": "code",
   "execution_count": 11,
   "id": "6c0ec3c2-a49b-442e-80d4-fef03c608310",
   "metadata": {},
   "outputs": [],
   "source": [
    "num_labels = 10\n",
    "time_embed_dim = 100\n",
    "label_emb = nn.Embedding(num_labels, time_embed_dim)"
   ]
  },
  {
   "cell_type": "code",
   "execution_count": 12,
   "id": "3e3a9b92-d9fb-48bd-bd5e-779d81f196e6",
   "metadata": {},
   "outputs": [
    {
     "name": "stdout",
     "output_type": "stream",
     "text": [
      "tensor([[-0.3896,  1.1123,  0.9307,  0.3349, -0.2713, -0.3485, -1.1203,  0.5766,\n",
      "         -1.2830, -0.3313,  1.6956,  0.7882, -0.2091, -0.8048,  0.3506,  2.1834,\n",
      "         -0.0487,  0.9770,  1.7430, -0.2563, -0.1012, -0.5818, -0.3538,  0.8146,\n",
      "          0.9782,  0.5937, -0.0201, -0.0656, -0.6486, -0.7390, -0.2083, -0.3120,\n",
      "         -1.2620, -1.3790, -1.8251,  1.6967, -0.0241, -0.7487, -0.7505,  0.6648,\n",
      "         -0.1880,  0.0441, -1.0572,  0.1717,  1.0148,  0.2308, -0.3934,  2.1088,\n",
      "         -0.9388,  1.2334, -0.6523,  1.0498,  1.3397,  0.6260,  0.8719, -1.0713,\n",
      "          1.2195, -0.0438, -1.5392,  1.8688,  0.7639, -0.3071,  0.5465,  0.2327,\n",
      "          0.8251, -0.5636,  0.2071, -0.6061, -1.1885, -0.6177, -1.1619,  2.3519,\n",
      "          0.5280,  1.1632,  0.7988, -0.9506,  2.1676,  0.6789,  0.6584,  0.2839,\n",
      "         -1.1406,  0.4309,  0.7147, -0.0608, -1.2424,  1.0533,  1.9169, -0.9534,\n",
      "         -0.6954, -0.4649,  1.0802,  0.2017, -0.3689, -0.9281, -0.9740, -0.6272,\n",
      "         -0.0430,  0.0191, -1.9121, -0.3230]], grad_fn=<EmbeddingBackward0>)\n"
     ]
    }
   ],
   "source": [
    "label_idx = torch.tensor([3])\n",
    "embedding = label_emb(label_idx)\n",
    "print(embedding)"
   ]
  },
  {
   "cell_type": "markdown",
   "id": "f9319e0a-ccec-4458-91e0-eed6c3115495",
   "metadata": {},
   "source": [
    "time_embed_dimで指定した長さのtensorであることがわかる。それぞれの数字における値を見てみると"
   ]
  },
  {
   "cell_type": "code",
   "execution_count": 18,
   "id": "cefcb96d-bba0-4850-b56a-9b913c988aca",
   "metadata": {},
   "outputs": [
    {
     "data": {
      "image/png": "[encoded data removed]",
      "text/plain": [
       "<Figure size 432x288 with 1 Axes>"
      ]
     },
     "metadata": {
      "needs_background": "light"
     },
     "output_type": "display_data"
    }
   ],
   "source": [
    "for i in range(10):\n",
    "    label = label_emb(torch.tensor([i]))\n",
    "    plt.plot(label[0].detach().numpy(), label=str(i))\n",
    "\n",
    "plt.legend()\n",
    "plt.show()"
   ]
  },
  {
   "cell_type": "markdown",
   "id": "d9ef018a-8742-49a5-98f4-f6f25cad1e6a",
   "metadata": {},
   "source": [
    "かなりグチャグチャ。初期値はランダムに設定され学習によってこれは最適化されていくようだ。\n",
    "\n",
    "次にDiffueserモデルの改変部分についてみていく。"
   ]
  },
  {
   "cell_type": "code",
   "execution_count": 20,
   "id": "b3c38d7d-c276-427b-8035-ebac0d8fd068",
   "metadata": {},
   "outputs": [],
   "source": [
    "class Diffuser:\n",
    "    def __init__(self, num_timesteps=1000, beta_start=0.0001, beta_end=0.02, device='cpu'):\n",
    "        self.num_timesteps = num_timesteps\n",
    "        self.device = device\n",
    "        self.betas = torch.linspace(beta_start, beta_end, num_timesteps, device=device)\n",
    "        self.alphas = 1 - self.betas\n",
    "        self.alpha_bars = torch.cumprod(self.alphas, dim=0)\n",
    "\n",
    "    def add_noise(self, x_0, t):\n",
    "        T = self.num_timesteps\n",
    "        assert (t >= 1).all() and (t <= T).all()\n",
    "\n",
    "        t_idx = t - 1  # alpha_bars[0] is for t=1\n",
    "        alpha_bar = self.alpha_bars[t_idx]  # (N,)\n",
    "        alpha_bar = alpha_bar.view(alpha_bar.size(0), 1, 1, 1)  # (N, 1, 1, 1)\n",
    "\n",
    "        noise = torch.randn_like(x_0, device=self.device)\n",
    "        x_t = torch.sqrt(alpha_bar) * x_0 + torch.sqrt(1 - alpha_bar) * noise\n",
    "        return x_t, noise\n",
    "\n",
    "    def denoise(self, model, x, t, labels): #noiseを除去する際に引数labelsを要求\n",
    "        T = self.num_timesteps\n",
    "        assert (t >= 1).all() and (t <= T).all()\n",
    "\n",
    "        t_idx = t - 1  # alphas[0] is for t=1\n",
    "        alpha = self.alphas[t_idx]\n",
    "        alpha_bar = self.alpha_bars[t_idx]\n",
    "        alpha_bar_prev = self.alpha_bars[t_idx-1]\n",
    "\n",
    "        N = alpha.size(0)\n",
    "        alpha = alpha.view(N, 1, 1, 1)\n",
    "        alpha_bar = alpha_bar.view(N, 1, 1, 1)\n",
    "        alpha_bar_prev = alpha_bar_prev.view(N, 1, 1, 1)\n",
    "\n",
    "        model.eval()\n",
    "        with torch.no_grad():\n",
    "            eps = model(x, t, labels)  # modelにlabelsを渡す\n",
    "        model.train()\n",
    "\n",
    "        noise = torch.randn_like(x, device=self.device)\n",
    "        noise[t == 1] = 0  # no noise at t=1\n",
    "\n",
    "        mu = (x - ((1-alpha) / torch.sqrt(1-alpha_bar)) * eps) / torch.sqrt(alpha)\n",
    "        std = torch.sqrt((1-alpha) * (1-alpha_bar_prev) / (1-alpha_bar))\n",
    "        return mu + noise * std\n",
    "\n",
    "    def reverse_to_img(self, x):\n",
    "        x = x * 255\n",
    "        x = x.clamp(0, 255)\n",
    "        x = x.to(torch.uint8)\n",
    "        x = x.cpu()\n",
    "        to_pil = transforms.ToPILImage()\n",
    "        return to_pil(x)\n",
    "\n",
    "    def sample(self, model, x_shape=(20, 1, 28, 28), labels=None):\n",
    "        batch_size = x_shape[0]\n",
    "        x = torch.randn(x_shape, device=self.device)\n",
    "        if labels is None: #labelsを作成\n",
    "            labels = torch.randint(0, 10, (len(x),), device=self.device)# 0-9までの数字をxと同じだけ作成\n",
    "\n",
    "        for i in tqdm(range(self.num_timesteps, 0, -1)):\n",
    "            t = torch.tensor([i] * batch_size, device=self.device, dtype=torch.long)\n",
    "            x = self.denoise(model, x, t, labels) #label を入力\n",
    "\n",
    "        images = [self.reverse_to_img(x[i]) for i in range(batch_size)]\n",
    "        return images, labels\n"
   ]
  },
  {
   "cell_type": "markdown",
   "id": "214ec4fb-2352-41ff-b07c-b324e9dd74d9",
   "metadata": {},
   "source": [
    "コードの変更点をまとめると次のようになる。\n",
    "\n",
    "1. UnetCond(num_labels=10) 10クラスの条件付き拡散モデルを作成\n",
    "2. labels.to(device) ラベルデータをdevice上に用意\n",
    "3. model(x_noisy, t, label) モデルにlabelsも与えて学習を行う"
   ]
  },
  {
   "cell_type": "code",
   "execution_count": null,
   "id": "0890f29d-59ea-434d-8fd4-af356e105e02",
   "metadata": {},
   "outputs": [],
   "source": [
    "preprocess = transforms.ToTensor()\n",
    "dataset = torchvision.datasets.MNIST(root='./data', download=True, transform=preprocess)\n",
    "dataloader = DataLoader(dataset, batch_size=batch_size, shuffle=True)\n",
    "\n",
    "diffuser = Diffuser(num_timesteps, device=device)\n",
    "model = UNetCond(num_labels=10)\n",
    "model.to(device)\n",
    "optimizer = Adam(model.parameters(), lr=lr)\n",
    "\n",
    "losses = []\n",
    "for epoch in range(epochs):\n",
    "    loss_sum = 0.0\n",
    "    cnt = 0\n",
    "\n",
    "    # generate samples every epoch ===================\n",
    "    #images, labels = diffuser.sample(model)\n",
    "    #show_images(images, labels)\n",
    "    # ================================================\n",
    "\n",
    "    for images, labels in tqdm(dataloader):\n",
    "        optimizer.zero_grad()\n",
    "        x = images.to(device)\n",
    "        labels = labels.to(device)\n",
    "        t = torch.randint(1, num_timesteps+1, (len(x),), device=device)\n",
    "\n",
    "        x_noisy, noise = diffuser.add_noise(x, t)\n",
    "        noise_pred = model(x_noisy, t, labels)\n",
    "        loss = F.mse_loss(noise, noise_pred)\n",
    "\n",
    "        loss.backward()\n",
    "        optimizer.step()\n",
    "\n",
    "        loss_sum += loss.item()\n",
    "        cnt += 1\n",
    "\n",
    "    loss_avg = loss_sum / cnt\n",
    "    losses.append(loss_avg)\n",
    "    print(f'Epoch {epoch} | Loss: {loss_avg}')\n",
    "\n",
    "# plot losses\n",
    "plt.plot(losses)\n",
    "plt.xlabel('Epoch')\n",
    "plt.ylabel('Loss')\n",
    "plt.show()\n",
    "\n",
    "# generate samples\n",
    "images, labels = diffuser.sample(model)\n",
    "show_images(images, labels)"
   ]
  },
  {
   "cell_type": "markdown",
   "id": "b0d53ba7-eff8-466c-bfbc-c844bf6c38e5",
   "metadata": {},
   "source": [
    "## 10.2 スコア関数"
   ]
  },
  {
   "cell_type": "markdown",
   "id": "2854d401-a928-4493-bc79-a3df4fe012ee",
   "metadata": {},
   "source": [
    "前節では単純な条件付き拡散モデルを実装した。与えられた条件が無視される場合も考えられる。これを防ぐためにガイダンスという手法を用いる。与えられた条件をより強調して取り入れる仕組みである。\n",
    "\n",
    "ここでは、ガイダンスを理解する前提としてスコア関数について説明する。"
   ]
  },
  {
   "cell_type": "markdown",
   "id": "04c1f6fd-ad10-4f47-8cc8-e21c33de3a87",
   "metadata": {},
   "source": [
    "### 10.2.1 スコア関数とは"
   ]
  },
  {
   "cell_type": "markdown",
   "id": "224636e8-266d-4bca-9bc7-541b04eccb3f",
   "metadata": {},
   "source": [
    "拡散モデルを実装するにあたり、精度が高いという理由からニューラルネットワークには加えられるノイズを推論させた。つまり、教師データとしてノイズ$\\epsilon$を使用した。この$\\epsilon$について次の式が成り立つ。\n",
    "\n",
    "$$ \\epsilon\\approx -\\sqrt{1-\\bar{\\alpha_t}}\\nabla_{\\boldsymbol{x}_t}\\log p(\\boldsymbol{x}_t)$$\n",
    "\n",
    "$\\nabla_{\\boldsymbol{x}_t}\\log p(\\boldsymbol{x}_t)$は対数尤度の入力$\\boldsymbol{x}_t$に関する勾配を意味し、スコア関数、スコアなどと呼ばれる。\n",
    "\n",
    "ここで、$\\epsilon$は対数尤度の勾配と比較してマイナスの定数倍だけ異なっていることがわかる。これから$-\\frac{1}{\\sqrt{1-\\bar{\\alpha_t}}}\\epsilon$を教師データとするニューラルネットワークも考えることができる。\n",
    "\n",
    "ニューラルネットワーク$S_\\theta(\\boldsymbol{x}_t,t)$はスコアの近似値である$-\\frac{1}{\\sqrt{1-\\bar{\\alpha_t}}}\\epsilon$を推論する。このように、スコアをモデル化する手法をスコアベースと呼ぶ。これまでの対数尤度を最大化させるモデルは尤度ベースモデルと呼ばれる。"
   ]
  },
  {
   "cell_type": "markdown",
   "id": "6de8c11b-8f69-4940-a70c-42e8ea2834ac",
   "metadata": {},
   "source": [
    "### 10.2.2 式$\\epsilon\\approx -\\sqrt{1-\\bar{\\alpha_t}}\\nabla_{\\boldsymbol{x}_t}\\log p(\\boldsymbol{x}_t)$の証明"
   ]
  },
  {
   "cell_type": "markdown",
   "id": "f6a850bc-e98f-4f56-bdc0-c28cf995e6f0",
   "metadata": {},
   "source": [
    "ここでは、ノイズが先に紹介した式で近似できることを証明する。\n",
    "\n",
    "時刻$t$のノイズデータ$\\boldsymbol{x}_t$は元のデータ$\\boldsymbol{x}_t$を用いて次の正規分布から生成される。\n",
    "\n",
    "$$q(\\boldsymbol{x}_t|\\boldsymbol{x}_0)=\\mathcal{N}(\\boldsymbol{x}_t;\\sqrt{\\bar{\\alpha_t}}\\boldsymbol{x}_0,(1-\\bar{\\alpha_t})\\boldsymbol{I})$$\n",
    "\n",
    "変数変換トリックを用いて$\\boldsymbol{x}_t$のサンプルは次の式で得られる。\n",
    "\n",
    "$$\\epsilon\\sim\\mathcal{N}(\\boldsymbol{0},\\boldsymbol{I})\\\\\n",
    "\\boldsymbol{x}_t = \\sqrt{\\bar{\\alpha}}\\boldsymbol{x}_0+\\sqrt{1-\\bar{\\alpha_t}}\\epsilon$$\n",
    "\n",
    "次にTweedieの公式を用いる。Tweedieの公式は$\\boldsymbol{x}\\sim\\mathcal{N}(\\boldsymbol{x};\\mu,\\Sigma)$によってサンプル$\\boldsymbol{x}$が得られる時に次の式が成り立つというものである。\n",
    "\n",
    "$$ \\mathbb{E}[\\mu | \\boldsymbol{x}] = \\boldsymbol{x} + \\Sigma\\nabla_x\\log p(\\boldsymbol{x})$$\n",
    "\n",
    "これを$\\boldsymbol{x}_t$のサンプリングする正規分布の式に当てはめると次のように表すことができる。\n",
    "\n",
    "$$\\mathbb{E}[\\sqrt{\\bar{\\alpha_t}}\\boldsymbol{x}_0|\\boldsymbol{x}_t] = \\boldsymbol{x}_t + (1-\\bar{\\alpha}_t)\\boldsymbol{I}\\nabla_x\\log p(\\boldsymbol{x}_t)\\\\\n",
    " = \\boldsymbol{x}_t + (1-\\bar{\\alpha}_t)\\nabla_x\\log p(\\boldsymbol{x}_t)$$\n",
    " \n",
    "続いて、$\\boldsymbol{x}_t = \\sqrt{\\bar{\\alpha}}\\boldsymbol{x}_0+\\sqrt{1-\\bar{\\alpha_t}}\\epsilon$を用いて式を展開すると\n",
    "\n",
    "$$ \\mathbb{E}[\\sqrt{\\bar{\\alpha_t}}\\boldsymbol{x}_0|\\boldsymbol{x}_t] = \\boldsymbol{x}_t + (1-\\bar{\\alpha}_t)\\nabla_x\\log p(\\boldsymbol{x}_t)\\\\\n",
    "\\Leftrightarrow \\mathbb{E}[\\boldsymbol{x}_t-\\sqrt{1-\\bar{\\alpha_t}}\\epsilon|\\boldsymbol{x}_t] = \\boldsymbol{x}_t + (1-\\bar{\\alpha}_t)\\nabla_x\\log p(\\boldsymbol{x}_t)\\\\\n",
    "\\Leftrightarrow \\mathbb{E}[\\boldsymbol{x}_t|\\boldsymbol{x}_t]-\\mathbb{E}[\\sqrt{1-\\bar{\\alpha_t}}\\epsilon|\\boldsymbol{x}_t] = \\boldsymbol{x}_t + (1-\\bar{\\alpha}_t)\\nabla_x\\log p(\\boldsymbol{x}_t)\\\\\n",
    "\\Leftrightarrow \\boldsymbol{x}_t-\\sqrt{1-\\bar{\\alpha_t}}\\mathbb{E}[\\epsilon|\\boldsymbol{x}_t] = \\boldsymbol{x}_t + (1-\\bar{\\alpha}_t)\\nabla_x\\log p(\\boldsymbol{x}_t)\\\\\n",
    "\\Leftrightarrow \\sqrt{1-\\bar{\\alpha_t}}\\mathbb{E}[\\epsilon|\\boldsymbol{x}_t] = (1-\\bar{\\alpha}_t)\\nabla_x\\log p(\\boldsymbol{x}_t)\\\\\n",
    "$$\n",
    "\n",
    "よって\n",
    "\n",
    "$$\\mathbb{E}[\\epsilon|\\boldsymbol{x}_t] = \\sqrt{1-\\bar{\\alpha_t}}\\nabla_x\\log p(\\boldsymbol{x}_t)$$\n",
    "\n",
    "と表される。期待値をモンテカルロ法を用いて近似すると\n",
    "\n",
    "$\\epsilon\\approx -\\sqrt{1-\\bar{\\alpha_t}}\\nabla_{\\boldsymbol{x}_t}\\log p(\\boldsymbol{x}_t)$\n",
    "\n",
    "の式が得られる。"
   ]
  },
  {
   "cell_type": "markdown",
   "id": "13f40086-c6b4-4086-b6eb-340f56620732",
   "metadata": {},
   "source": [
    "## 10.3 分類器ガイダンス"
   ]
  },
  {
   "cell_type": "markdown",
   "id": "2c17f1ab-9102-4083-87bb-91e76962cae8",
   "metadata": {},
   "source": [
    "拡散モデルをスコアの観点で観察しガイダンスの手法を導出する。\n",
    "\n",
    "ガイダンスは主に、分類器ガイダンスと分類器なしガイダンスの二つに分けられる。まず分類器ガイダンスから説明する。"
   ]
  },
  {
   "cell_type": "markdown",
   "id": "47e0cc62-5329-4e86-913e-9f5315531be2",
   "metadata": {},
   "source": [
    "### 10.3.1 分類器とは"
   ]
  },
  {
   "cell_type": "markdown",
   "id": "445013fd-5053-47f0-84d0-5b1e391b67d9",
   "metadata": {},
   "source": [
    "分類器ガイダンスとは、分類器をつかいデータ生成をガイドする方法（そのままやん。）\n",
    "\n",
    "分類器とはデータを分類するニューラルネットワークを指す。MNISTを例とすると手書き文字から数字を当てるネットワークである。このニューラルネットワークを利用することで、通常の拡散モデルを条件付き拡散モデルに変えることができる。ここで、2点押さえておく必要がある。\n",
    "\n",
    "* 拡散モデルは、スコア$\\nabla_{\\boldsymbol{x}_t}\\log p(\\boldsymbol{x}_t)$を予測するニューラルネットワークで実現できる\n",
    "* 条件付き拡散モデルは、条件付き確率のスコア$\\nabla_{\\boldsymbol{x}_t}\\log p(\\boldsymbol{x}_t|y)$を予測するニューラルネットワークで実現できる\n",
    "\n",
    "つまりあえて証明はしないが条件付き確率モデルにおいても、スコアを適用することができるという前提で話を進める。"
   ]
  },
  {
   "cell_type": "markdown",
   "id": "e6ce0bcf-71a3-427e-bf58-c2401d9e8db2",
   "metadata": {},
   "source": [
    "### 10.3.2 分類器ガイダンスの導出"
   ]
  },
  {
   "cell_type": "markdown",
   "id": "81179dd9-f3fc-405e-a161-36cb930a9ce0",
   "metadata": {},
   "source": [
    "まずは、条件付き確率の$p(\\boldsymbol{x}|y)$をベイズの定理より\n",
    "\n",
    "$$p(\\boldsymbol{x}_t|y) = \\frac{p(\\boldsymbol{x}_t)p(y|\\boldsymbol{x}_t)}{p(y)}$$\n",
    "\n",
    "と表す。次に$\\boldsymbol{x}_t$に関する勾配を求める。\n",
    "$$\\nabla_{\\boldsymbol{x}_t}\\log p(\\boldsymbol{x}_t|y) = \\nabla_{\\boldsymbol{x}_t}\\log \\left(\\frac{p(\\boldsymbol{x}_t)p(y|\\boldsymbol{x}_t)}{p(y)}\\right)\\\\\n",
    "= \\nabla_{\\boldsymbol{x}_t}\\log p(\\boldsymbol{x}_t) + \\nabla_{\\boldsymbol{x}_t}\\log p(y|\\boldsymbol{x}_t)-\\nabla_{\\boldsymbol{x}_t}\\log p(y)\\\\\n",
    "= \\nabla_{\\boldsymbol{x}_t}\\log p(\\boldsymbol{x}_t) + \\nabla_{\\boldsymbol{x}_t}\\log p(y|\\boldsymbol{x}_t)\n",
    "$$\n",
    "\n",
    "ここで$\\nabla_{\\boldsymbol{x}_t}$は$\\boldsymbol{x}_t$に関する勾配であるため、$\\nabla_{\\boldsymbol{x}_t}\\log p(y)$はゼロである。結果得られた式はスコアと分類器の対数尤度の勾配になっている。\n",
    "\n",
    "第一項はスコアを予測する$s_\\theta(\\boldsymbol{x}_t,t)$によって計算できる。第二項は分類器であるニューラルネットワークを用いて計算できる。\n",
    "\n",
    "これら二つの計算を行うことで条件付き拡散モデルのスコアを表すことができる。\n",
    "\n",
    "$\\nabla_{\\boldsymbol{x}_t}\\log p(y|\\boldsymbol{x}_t)$は現在の$\\boldsymbol{x}_t$においてクラス$y$の対数尤度を最も高める方向を示す。その方向に従って更新することで、画像はクラス$y$へ分類される確率がさらに高くなる。\n",
    "\n",
    "分類器ガイダンスは条件付きスコアをスコアと分類器の和で表すことである。通常分類器の対数尤度の購買に重み$\\gamma$を取り入れ分類器の効果を調整できるようにする。つまり\n",
    "$$\\nabla_{\\boldsymbol{x}_t}\\log p(\\boldsymbol{x}_t|y) = \\nabla_{\\boldsymbol{x}_t}\\log p(\\boldsymbol{x}_t) + \\gamma\\nabla_{\\boldsymbol{x}_t}\\log p(y|\\boldsymbol{x}_t)\n",
    "$$\n",
    "\n",
    "と表される。$\\gamma$の値が大きいほど条件$y$をより強調して取り入れることになる。上式をニューラルネットワークと分類器を用いてかくと\n",
    "\n",
    "$$ \\nabla_{\\boldsymbol{x}_t}\\log p(\\boldsymbol{x}_t|y) \\approx s_\\theta(\\boldsymbol{x}_t,t)+\\gamma\\nabla_{\\boldsymbol{x}_t}\\log p_\\phi(y|\\boldsymbol{x}_t)$$\n",
    "と表される。\n",
    "\n",
    "これを図に表すと図10-10のようになる。"
   ]
  },
  {
   "cell_type": "markdown",
   "id": "510f577b-03a0-4ee3-bcec-c62fbc8114a8",
   "metadata": {},
   "source": [
    "## 10.4 分類器なしガイダンス"
   ]
  },
  {
   "cell_type": "markdown",
   "id": "45d7c09f-5168-43b6-8aa7-a031db437c3b",
   "metadata": {},
   "source": [
    "先に紹介した分類器ガイダンスでは、分類器を別途用意する必要がある。つまり、事前に分類を行うネットワークを作成する必要があるという問題点がある。それを解決したものが分類器なしガイダンスである。"
   ]
  },
  {
   "cell_type": "markdown",
   "id": "dd34daab-475a-4b72-9fef-dc9c8a618573",
   "metadata": {},
   "source": [
    "### 10.4.1 分類器なしガイダンスの理論"
   ]
  },
  {
   "cell_type": "markdown",
   "id": "912eba2a-32b2-4443-b984-93201a2d6673",
   "metadata": {},
   "source": [
    "分類器を必要としないガイダンスは先の章で得た分類器ガイダンスにおけるスコアの式を展開することで導くことができる。\n",
    "\n",
    "$$\\nabla_{\\boldsymbol{x}_t}\\log p(\\boldsymbol{x}_t|y)\\\\\n",
    "= \\nabla_{\\boldsymbol{x}_t}\\log p(\\boldsymbol{x}_t) + \\gamma\\nabla_{\\boldsymbol{x}_t}\\log p(y|\\boldsymbol{x}_t)\\\\\n",
    "=\\nabla_{\\boldsymbol{x}_t}\\log p(\\boldsymbol{x}_t) + \\gamma\\nabla_{\\boldsymbol{x}_t}\\log \\frac{p(\\boldsymbol{x}_t|y)p(y)}{p(\\boldsymbol{x}_t)}\\\\\n",
    "=\\nabla_{\\boldsymbol{x}_t}\\log p(\\boldsymbol{x}_t) + \\gamma\\left(\\nabla_{\\boldsymbol{x}_t}\\log p(\\boldsymbol{x}_t|y)+ \\nabla_{\\boldsymbol{x}_t}\\log p(y) - \\nabla_{\\boldsymbol{x}_t}\\log p(\\boldsymbol{x}_t)\\right)\\\\\n",
    "= \\nabla_{\\boldsymbol{x}_t}\\log p(\\boldsymbol{x}_t) + \\gamma \\left(\\nabla_{\\boldsymbol{x}_t}\\log p(\\boldsymbol{x}_t|y)- \\nabla_{\\boldsymbol{x}_t}\\log p(\\boldsymbol{x}_t)\\right)\n",
    "$$\n",
    "\n",
    "最終的に得られた式から分類器なしガイダンスを導出することができる。この式は、$\\nabla_{\\boldsymbol{x}_t}\\log p(\\boldsymbol{x}_t)$の点から$\\nabla_{\\boldsymbol{x}_t}\\log p(\\boldsymbol{x}_t|y)$の方向へ$\\gamma$倍の距離だけ進むことを意味する。\n",
    "二つの勾配が意味するものは、条件なしのスコアと条件付きのスコアである。これらは二つのニューラルネットワークによって推定できる。条件なしのスコア推定器を$s_{\\theta_1}(\\boldsymbol{x}_t,t)$、条件付きのスコア推定器を$s_{\\theta_1}(\\boldsymbol{x}_t,t,y)$とする。\n",
    "\n",
    "二つのモデルが必要になると考えるが、一つの条件付きスコア推定器を使用して次のようにモデル化することができる。\n",
    "\n",
    "* 条件なしのスコア推定器：$s_\\theta(\\boldsymbol{x}_t,t,\\o)$\n",
    "* 条件付きのスコア推定器：$s_\\theta(\\boldsymbol{x}_t,t,y)$\n",
    "\n",
    "$\\o$の場合は入力を0べくとるとする。これにより、何も情報を持たないようにする。以上により、分類器なしガイダンスは、数式では次のように表される。\n",
    "\n",
    "$$\\nabla_{\\boldsymbol{x}_t}\\log p(\\boldsymbol{x}_t|y)\\approx s_\\theta(\\boldsymbol{x}_t,t,\\o)+\\gamma(\\s_\\theta(\\boldsymbol{x}_t,t,y)-s_\\theta(\\boldsymbol{x}_t,t,\\o))$$\n",
    "\n",
    "ここでは、スコア関数を推定するニューラルネットを例に話を進めたが、ノイズはスコアの定数倍で表すことができるため同じ仕組みになる。"
   ]
  },
  {
   "cell_type": "markdown",
   "id": "43467bd3-51a8-4763-ac10-fb9685a3e547",
   "metadata": {},
   "source": [
    "### 10.4.2 分類器なしガイダンスの実装"
   ]
  },
  {
   "cell_type": "markdown",
   "id": "7f80c47f-c4b2-4758-983f-3f950ff0ef0a",
   "metadata": {},
   "source": [
    "10.1で作成したコードを一部改変することで、分類気なしガイダンスを実装する。"
   ]
  },
  {
   "cell_type": "code",
   "execution_count": 21,
   "id": "e72cf768-b538-4fd9-b41e-cac37998a865",
   "metadata": {},
   "outputs": [],
   "source": [
    "class UNetCond(nn.Module):\n",
    "    def __init__(self, in_ch=1, time_embed_dim=100, num_labels=None):\n",
    "        super().__init__()\n",
    "        self.time_embed_dim = time_embed_dim\n",
    "\n",
    "        self.down1 = ConvBlock(in_ch, 64, time_embed_dim)\n",
    "        self.down2 = ConvBlock(64, 128, time_embed_dim)\n",
    "        self.bot1 = ConvBlock(128, 256, time_embed_dim)\n",
    "        self.up2 = ConvBlock(128 + 256, 128, time_embed_dim)\n",
    "        self.up1 = ConvBlock(128 + 64, 64, time_embed_dim)\n",
    "        self.out = nn.Conv2d(64, in_ch, 1)\n",
    "\n",
    "        self.maxpool = nn.MaxPool2d(2)\n",
    "        self.upsample = nn.Upsample(scale_factor=2, mode='bilinear')\n",
    "\n",
    "        if num_labels is not None:\n",
    "            self.label_emb = nn.Embedding(num_labels, time_embed_dim)\n",
    "\n",
    "    def forward(self, x, timesteps, labels=None):\n",
    "        t = pos_encoding(timesteps, self.time_embed_dim)\n",
    "\n",
    "        if labels is not None:\n",
    "            t += self.label_emb(labels)\n",
    "\n",
    "        x1 = self.down1(x, t)\n",
    "        x = self.maxpool(x1)\n",
    "        x2 = self.down2(x, t)\n",
    "        x = self.maxpool(x2)\n",
    "\n",
    "        x = self.bot1(x, t)\n",
    "\n",
    "        x = self.upsample(x)\n",
    "        x = torch.cat([x, x2], dim=1)\n",
    "        x = self.up2(x, t)\n",
    "        x = self.upsample(x)\n",
    "        x = torch.cat([x, x1], dim=1)\n",
    "        x = self.up1(x, t)\n",
    "        x = self.out(x)\n",
    "        return x"
   ]
  },
  {
   "cell_type": "markdown",
   "id": "68c488fc-75d5-4b5d-9f56-ad0ccbcd6582",
   "metadata": {},
   "source": [
    "Unetにlabelが入力されない場合は何も行わない。そのため条件なしの処理に相当する。一方で条件をつけた場合は、条件アリの処理が行われていたことを10.1で確認できている。"
   ]
  },
  {
   "cell_type": "code",
   "execution_count": 23,
   "id": "03d60dc1-9f19-4e6d-af45-e4994ea8f6a4",
   "metadata": {},
   "outputs": [],
   "source": [
    "class Diffuser:\n",
    "    def __init__(self, num_timesteps=1000, beta_start=0.0001, beta_end=0.02, device='cpu'):\n",
    "        self.num_timesteps = num_timesteps\n",
    "        self.device = device\n",
    "        self.betas = torch.linspace(beta_start, beta_end, num_timesteps, device=device)\n",
    "        self.alphas = 1 - self.betas\n",
    "        self.alpha_bars = torch.cumprod(self.alphas, dim=0)\n",
    "\n",
    "    def add_noise(self, x_0, t):\n",
    "        T = self.num_timesteps\n",
    "        assert (t >= 1).all() and (t <= T).all()\n",
    "\n",
    "        t_idx = t - 1  # alpha_bars[0] is for t=1\n",
    "        alpha_bar = self.alpha_bars[t_idx]  # (N,)\n",
    "        alpha_bar = alpha_bar.view(alpha_bar.size(0), 1, 1, 1)  # (N, 1, 1, 1)\n",
    "\n",
    "        noise = torch.randn_like(x_0, device=self.device)\n",
    "        x_t = torch.sqrt(alpha_bar) * x_0 + torch.sqrt(1 - alpha_bar) * noise\n",
    "        return x_t, noise\n",
    "\n",
    "    def denoise(self, model, x, t, labels, gamma):\n",
    "        T = self.num_timesteps\n",
    "        assert (t >= 1).all() and (t <= T).all()\n",
    "\n",
    "        t_idx = t - 1  # alphas[0] is for t=1\n",
    "        alpha = self.alphas[t_idx]\n",
    "        alpha_bar = self.alpha_bars[t_idx]\n",
    "        alpha_bar_prev = self.alpha_bars[t_idx-1]\n",
    "\n",
    "        N = alpha.size(0)\n",
    "        alpha = alpha.view(N, 1, 1, 1)\n",
    "        alpha_bar = alpha_bar.view(N, 1, 1, 1)\n",
    "        alpha_bar_prev = alpha_bar_prev.view(N, 1, 1, 1)\n",
    "\n",
    "        model.eval()\n",
    "        with torch.no_grad():\n",
    "            eps = model(x, t, labels)\n",
    "            eps_uncond = model(x, t)\n",
    "            eps = eps_uncond + gamma * (eps - eps_uncond)#epsを推論する式, gammaはハイパーパラメータ\n",
    "        model.train()\n",
    "\n",
    "        noise = torch.randn_like(x, device=self.device)\n",
    "        noise[t == 1] = 0  # no noise at t=1\n",
    "\n",
    "        mu = (x - ((1-alpha) / torch.sqrt(1-alpha_bar)) * eps) / torch.sqrt(alpha)\n",
    "        std = torch.sqrt((1-alpha) * (1-alpha_bar_prev) / (1-alpha_bar))\n",
    "        return mu + noise * std\n",
    "\n",
    "    def reverse_to_img(self, x):\n",
    "        x = x * 255\n",
    "        x = x.clamp(0, 255)\n",
    "        x = x.to(torch.uint8)\n",
    "        x = x.cpu()\n",
    "        to_pil = transforms.ToPILImage()\n",
    "        return to_pil(x)\n",
    "\n",
    "    def sample(self, model, x_shape=(20, 1, 28, 28), labels=None, gamma=3.0):\n",
    "        batch_size = x_shape[0]\n",
    "        x = torch.randn(x_shape, device=self.device)\n",
    "        if labels is None:\n",
    "            labels = torch.randint(0, 10, (len(x),), device=self.device)\n",
    "\n",
    "        for i in tqdm(range(self.num_timesteps, 0, -1)):\n",
    "            t = torch.tensor([i] * batch_size, device=self.device, dtype=torch.long)\n",
    "            x = self.denoise(model, x, t, labels, gamma)\n",
    "\n",
    "        images = [self.reverse_to_img(x[i]) for i in range(batch_size)]\n",
    "        return images, labels\n"
   ]
  },
  {
   "cell_type": "markdown",
   "id": "8c49c6f1-a5b7-4c7c-8e22-32faa6b226ef",
   "metadata": {},
   "source": [
    "次に学習についてみる。"
   ]
  },
  {
   "cell_type": "code",
   "execution_count": null,
   "id": "40c2b3ce-10f7-435c-8d06-22020b8bc9d0",
   "metadata": {},
   "outputs": [],
   "source": [
    "preprocess = transforms.ToTensor()\n",
    "dataset = torchvision.datasets.MNIST(root='./data', download=True, transform=preprocess)\n",
    "dataloader = DataLoader(dataset, batch_size=batch_size, shuffle=True)\n",
    "\n",
    "diffuser = Diffuser(num_timesteps, device=device)\n",
    "model = UNetCond(num_labels=10)\n",
    "model.to(device)\n",
    "optimizer = Adam(model.parameters(), lr=lr)\n",
    "\n",
    "losses = []\n",
    "for epoch in range(epochs):\n",
    "    loss_sum = 0.0\n",
    "    cnt = 0\n",
    "\n",
    "    # generate samples every epoch ===================\n",
    "    #images, labels = diffuser.sample(model)\n",
    "    #show_images(images, labels)\n",
    "    # ================================================\n",
    "\n",
    "    for images, labels in tqdm(dataloader):\n",
    "        optimizer.zero_grad()\n",
    "        x = images.to(device)\n",
    "        labels = labels.to(device)\n",
    "        t = torch.randint(1, num_timesteps+1, (len(x),), device=device)\n",
    "\n",
    "        if np.random.random() < 0.1:#10%の確率でlabelをNoneにしている。これにより、条件なしを学習させる\n",
    "            labels = None\n",
    "\n",
    "        x_noisy, noise = diffuser.add_noise(x, t)\n",
    "        noise_pred = model(x_noisy, t, labels)\n",
    "        loss = F.mse_loss(noise, noise_pred)\n",
    "\n",
    "        loss.backward()\n",
    "        optimizer.step()\n",
    "\n",
    "        loss_sum += loss.item()\n",
    "        cnt += 1\n",
    "\n",
    "    loss_avg = loss_sum / cnt\n",
    "    losses.append(loss_avg)\n",
    "    print(f'Epoch {epoch} | Loss: {loss_avg}')\n",
    "\n",
    "# plot losses\n",
    "plt.plot(losses)\n",
    "plt.xlabel('Epoch')\n",
    "plt.ylabel('Loss')\n",
    "plt.show()\n",
    "\n",
    "# generate samples\n",
    "images, labels = diffuser.sample(model)\n",
    "show_images(images, labels)"
   ]
  },
  {
   "cell_type": "markdown",
   "id": "3399d5c6-ed84-4a14-96e9-d05fe06c8a60",
   "metadata": {},
   "source": [
    "## Stable Diffusion"
   ]
  },
  {
   "cell_type": "markdown",
   "id": "18eaa76e-37eb-4e96-abf6-a09f92762d49",
   "metadata": {},
   "source": [
    "これまで行ってきたものは、小さな拡散モデルを実装していた。実際に使用されているものの多くはかなり巨大でかついくつもの改善がなされている。\n",
    "\n",
    "Stable Diffusionはその一例で高精細な画像を生成することができる。コードと、学習後のパラメータが公開されているため、誰てでもコードを動かすことができる。"
   ]
  },
  {
   "cell_type": "markdown",
   "id": "1ea7ae8b-5cba-4c8f-875f-7f1d043887a8",
   "metadata": {},
   "source": [
    "### 10.5.1 Stable Diffusionの仕組み"
   ]
  },
  {
   "cell_type": "markdown",
   "id": "fc601a84-cdbc-46cc-97b4-c627a12453b6",
   "metadata": {},
   "source": [
    "Stable Diffusionは次の三つの特徴を持つ\n",
    "\n",
    "* 潜在空間：潜在空間で拡散モデルの処理を行う\n",
    "* CLIP：テキストのエンコーディングにCLIPというニューラルネットワークを使用する\n",
    "* Attention：Attentionを使用してU-netに条件を取り入れる\n",
    "\n",
    "**潜在空間**\n",
    "\n",
    "今回実装した拡散モデルでは、入力と出力は同じ要素数($28\\times 28$)であった。Stable Diffusionでは潜在変数の空間で拡散モデルの処理を行う。そのために、VAEを用いて画像から潜在変数へ変換を行う。これにより、次元数を小さくし拡散モデルで行う処理を削減することができる。生成する場合は、ノイズからスタートし潜在変数を拡散モデルで作成しVAEを用いて画像へ戻す。\n",
    "\n",
    "**CLIP**\n",
    "\n",
    "CLIPはテキストをベクトルに変換するネットワークである。CLIPは画像エンコーダとテキストエンコーダの二つから構成される。CLIPの学習は二つのエンコーダの出力の類似度を損失関数とする。類似度の計算にはコサイン類似度などを使用する。これにより、テキストと画像を同じベクトル空間で表現できるようにする。\n",
    "\n",
    "**Attention**\n",
    "\n",
    "拡散モデルのU-netにCLIPで作成されたベクトルを反映させる際にAttentionを用いる。この時、self-attentionではなくCross-Attentionを用いる。二つの入力データに対して類似度を計算し、その類似度を重みとして入力に乗じるというものである。\n",
    "\n",
    "以上がStable Diffusionの大まかな仕組みである。このStable-Diffusionに対して分類器なしガイダンスを用いてデータ生成を行うという使い方が多く見られる。"
   ]
  },
  {
   "cell_type": "markdown",
   "id": "2749752a-3806-4f55-88fd-1968b0b3da4d",
   "metadata": {},
   "source": [
    "### 10.5.2 Diffuserライブラリ"
   ]
  },
  {
   "cell_type": "markdown",
   "id": "cdc09c22-3c29-453a-a157-1ce2f3b6acb6",
   "metadata": {},
   "source": [
    "Hugging Faceが開発するDiffusersのライブラリを使用することで簡単にStable Diffusionを試すことができる。"
   ]
  },
  {
   "cell_type": "code",
   "execution_count": null,
   "id": "1c9f8dbc-516f-455d-92bc-f8b31bb68152",
   "metadata": {},
   "outputs": [],
   "source": []
  }
 ],
 "metadata": {
  "kernelspec": {
   "display_name": "Python 3 (ipykernel)",
   "language": "python",
   "name": "python3"
  },
  "language_info": {
   "codemirror_mode": {
    "name": "ipython",
    "version": 3
   },
   "file_extension": ".py",
   "mimetype": "text/x-python",
   "name": "python",
   "nbconvert_exporter": "python",
   "pygments_lexer": "ipython3",
   "version": "3.9.12"
  }
 },
 "nbformat": 4,
 "nbformat_minor": 5
}
