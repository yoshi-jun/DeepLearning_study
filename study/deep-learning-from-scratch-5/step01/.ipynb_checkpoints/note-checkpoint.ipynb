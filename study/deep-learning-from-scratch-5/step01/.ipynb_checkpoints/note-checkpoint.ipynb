{
 "cells": [
  {
   "cell_type": "markdown",
   "id": "0216edd8-f267-4016-9577-eb47df55a334",
   "metadata": {},
   "source": [
    "# Step 1 　正規分布"
   ]
  },
  {
   "cell_type": "markdown",
   "id": "19a1726a-9667-49a0-86ac-63038816b68c",
   "metadata": {
    "jp-MarkdownHeadingCollapsed": true,
    "tags": []
   },
   "source": [
    "## 1.1 確率の基礎"
   ]
  },
  {
   "cell_type": "markdown",
   "id": "4b781496-f0fb-406b-ac71-896e9974ac25",
   "metadata": {},
   "source": [
    "データから、断言できることは多くない。そこで、確率を使う。"
   ]
  },
  {
   "cell_type": "markdown",
   "id": "574caf2e-e977-4d6b-be9c-1a232df4ec69",
   "metadata": {
    "jp-MarkdownHeadingCollapsed": true,
    "tags": []
   },
   "source": [
    "### 1.1.1 確率変数と確率分布\n",
    "\n",
    "**確率変数** : とりえる値が確率的に決まる変数$x = (1,2,3,4,5,6)$\n",
    "\n",
    "$x$の確率変数を取る確率を$p（x）$と示す。\n",
    "\n",
    "**確率分布** : 起こりえる全ての値に対してその確率が示されたもの{$\\frac{1}{6},\\frac{1}{6},\\frac{1}{6},\\frac{1}{6},\\frac{1}{6},\\frac{1}{6}$}\n",
    "\n",
    "確率分布から得られた値を**観測値**,**観測データ**,**値**,**データ**、それらの集合を**サンプル**, **標本**と呼ぶ。\n",
    "\n",
    "サイコロの例のように確率分布が隔離変数に依らず一定のものを**一様分布**と呼ぶ。\n",
    "\n",
    "#### 確率分布の満たす条件\n",
    "$N$個の離散値${x_1, x_2, \\cdots, x_N}$をとる確率変数$x$について考える。\n",
    "\n",
    "1. 各値の発生する確率は全て$0$以上$1$以下\n",
    "$$ 0 \\leq p(x_k) \\leq 1 (k=1,2,\\cdots,N) $$\n",
    "\n",
    "2. 全ての確率の和は1\n",
    "$$ \\sum_{k=1}^{N}p(x_k) = 1$$"
   ]
  },
  {
   "cell_type": "markdown",
   "id": "42c59340-75ac-4316-9820-94b2fb95d879",
   "metadata": {
    "tags": []
   },
   "source": [
    "### 1.1.2 確率分布の種類"
   ]
  },
  {
   "cell_type": "markdown",
   "id": "a78da39f-1fe2-4f4a-acbc-2540b750a1d4",
   "metadata": {
    "tags": []
   },
   "source": [
    "確率変数の値に注目すると、**離散型確率分布**, **連続型確率分布** の二つに分けることができる。連続型確率分布は、**確率密度関数**とも呼ばれる。\n",
    "\n",
    "連続型確率分布の場合、$p(x)$は確率ではなく、確率密度と表現する。連続型の確率は確率密度関数のある区間の面積に対応する。\n",
    "\n",
    "#### 連続型確率分布の満たす条件\n",
    "\n",
    "1. 全てのxにおいて\n",
    "$$p(x) \\geq 0$$\n",
    "\n",
    "2. 全区間における確率密度の積分(確率の和)は１\n",
    "$$ \\int^\\infty_{-\\infty} p(x)dx = 1$$ "
   ]
  },
  {
   "cell_type": "markdown",
   "id": "f2aada35-1933-421d-9961-d1855508f796",
   "metadata": {
    "tags": []
   },
   "source": [
    "### 1.1.3 期待値と分散"
   ]
  },
  {
   "cell_type": "markdown",
   "id": "994b8d0c-176f-4256-bff1-d987aa4bf4b7",
   "metadata": {
    "tags": []
   },
   "source": [
    "#### 期待値 \n",
    "一回の観測で得られる確率変数の平均値, $\\mathbb{E}[x] (=\\mu)$\n",
    "\n",
    "##### 離散型確率分布\n",
    "$$ \\mathbb{E}[x] = \\sum^N_{k=1}x_kp(x_k) $$\n",
    "\n",
    "##### 連続型確率分布の場合\n",
    "$$ \\mathbb{E}[x] = \\int^\\infty_{-\\infty} xp(x)dx $$\n",
    "\n",
    "#### 分散\n",
    "分散$\\rm{Var[x]}(=\\sigma^2)$の計算方法は、確率変数$x$と期待値$\\mu$の差の２乗を計算し、その期待値を求める。\n",
    "\n",
    "##### 離散型確率分布\n",
    "$$\\rm{Var[x]} = \\mathbb{E}[(x-\\mu)^2]= \\sum^N_{k=1}(x_k - \\mu)^2p(x_k)$$\n",
    "##### 連続型確率分布\n",
    "$$\\rm{Var[x]} = \\mathbb{E}[(x-\\mu)^2]=　\\int^\\infty_{-\\infty} (x-\\mu)^2p(x)dx $$\n",
    "\n",
    "#### 実際に手を動かす\n",
    "\n",
    "６面のサイコロを例に期待値、分散、標準偏差について計算する。\n",
    "\n",
    "$$\\mu = 1\\cdot \\frac{1}{6}+2\\cdot \\frac{1}{6}+3\\cdot \\frac{1}{6}+4\\cdot \\frac{1}{6}+5\\cdot \\frac{1}{6}+6\\cdot \\frac{1}{6} = 3.5$$\n",
    "\n",
    "$$\\sigma^2 = (1 - 3.5)^2\\cdot \\frac{1}{6}+(2 - 3.5)^2\\cdot \\frac{1}{6}+(3 - 3.5)^2\\cdot \\frac{1}{6}+(4 - 3.5)^2\\cdot \\frac{1}{6}+(5 - 3.5)^2\\cdot \\frac{1}{6}+(6 - 3.5)^2\\cdot \\frac{1}{6}=2.916\\cdots$$\n",
    "\n",
    "$$\\sigma=\\sqrt{2.916\\cdots} = 1.707\\cdots$$"
   ]
  },
  {
   "cell_type": "markdown",
   "id": "92d6f56e-229e-4928-a343-c2fe29321865",
   "metadata": {
    "jp-MarkdownHeadingCollapsed": true,
    "tags": []
   },
   "source": [
    "##　1.2 正規分布"
   ]
  },
  {
   "cell_type": "markdown",
   "id": "68184e30-f4de-4550-94db-59c01b9c5977",
   "metadata": {},
   "source": [
    "確率分布には、一様分布、二項分布など有名なものがあるが、中でも一番重要なものが**正規分布**である。別名ガウス分布と呼ばれる。"
   ]
  },
  {
   "cell_type": "markdown",
   "id": "c2b5052c-7c60-4122-a327-36032fcf826b",
   "metadata": {
    "tags": []
   },
   "source": [
    "### 1.2.1 正規分布の確率密度関数\n",
    "\n",
    "正規分布は連続型の確率分布であり、確率変数$x$が平均$\\mu$標準偏差$\\sigma$の場合\n",
    "$$p(x)=\\frac{1}{\\sqrt{2\\pi}\\sigma}e^{-\\frac{(x-\\mu)^2}{2\\sigma^2}}=\\frac{1}{\\sqrt{2\\pi}\\sigma}\\exp(-\\frac{(x-\\mu)^2}{2\\sigma^2})$$\n",
    "\n",
    "確率密度関数の形状はパラメータ$\\mu$, $\\sigma$によって決まり、\n",
    "$$p(x;\\mu,\\sigma)= \\frac{1}{\\sqrt{2\\pi}\\sigma}\\exp(-\\frac{(x-\\mu)^2}{2\\sigma^2})$$\n",
    "\n",
    "と表すことができる。セミコロンの左側が確率変数、セミコロンの右側はパラメータなどの確率変数以外を示す。\n",
    "\n",
    "正規分布は特別な確率分布であり、$\\mathcal{N}$の表記を使うこともあり\n",
    "$$\\mathcal{N}(x;\\mu,\\sigma)=\\frac{1}{\\sqrt{2\\pi}\\sigma}\\exp(-\\frac{(x-\\mu)^2}{2\\sigma^2})$$\n",
    "\n",
    "と表される。"
   ]
  },
  {
   "cell_type": "markdown",
   "id": "56d0ff65-b8b0-42b7-93e8-4e198e5fa146",
   "metadata": {},
   "source": [
    "### 1.2.2 正規分布のコード"
   ]
  },
  {
   "cell_type": "markdown",
   "id": "ebb95b2d-b723-448f-9f7b-8d07c16c4e84",
   "metadata": {},
   "source": [
    "正規分布のコードを記述する。"
   ]
  },
  {
   "cell_type": "code",
   "execution_count": 2,
   "id": "e138a9a3-5bb7-4352-95cd-491c4089c580",
   "metadata": {},
   "outputs": [],
   "source": [
    "import numpy as np\n",
    "import matplotlib.pyplot as plt\n",
    "\n",
    "def normal(x, mu=0, sigma=1):\n",
    "    y = 1 / (np.sqrt(2 * np.pi) * sigma) * np.exp(-(x - mu)**2 / (2 * sigma**2))\n",
    "    return y"
   ]
  },
  {
   "cell_type": "code",
   "execution_count": 5,
   "id": "f2c6b054-a0e7-4c16-a859-9e25321fdaae",
   "metadata": {},
   "outputs": [
    {
     "name": "stdout",
     "output_type": "stream",
     "text": [
      "0.3989422804014327\n"
     ]
    }
   ],
   "source": [
    "x = 0\n",
    "p = normal(x)\n",
    "print(p)"
   ]
  },
  {
   "cell_type": "markdown",
   "id": "fa9f0bde-d585-468b-86f8-83a5a7c950ad",
   "metadata": {},
   "source": [
    "これを可視化する"
   ]
  },
  {
   "cell_type": "code",
   "execution_count": 7,
   "id": "d6436ea9-751b-4820-8675-940d09b5d2f4",
   "metadata": {},
   "outputs": [
    {
     "data": {
      "image/png": "[encoded data removed]",
      "text/plain": [
       "<Figure size 432x288 with 1 Axes>"
      ]
     },
     "metadata": {
      "needs_background": "light"
     },
     "output_type": "display_data"
    }
   ],
   "source": [
    "x = np.linspace(-5, 5, 100)\n",
    "y = normal(x)\n",
    "\n",
    "plt.plot(x,y)\n",
    "plt.xlabel(\"x\")\n",
    "plt.xlabel(\"y\")\n",
    "plt.title(\"Normal dist\")\n",
    "plt.grid()\n",
    "plt.show()"
   ]
  },
  {
   "cell_type": "markdown",
   "id": "b98bea78-3af7-4008-9447-63245c2357df",
   "metadata": {},
   "source": [
    "平均($\\mu$)が0で標準偏差($\\sigma$)が１の正規分布であり、釣鐘型(Bell Curve)と呼ばれる形状をしている"
   ]
  },
  {
   "cell_type": "markdown",
   "id": "daa5a48d-6ae4-4b50-9264-4c25d6ea40a4",
   "metadata": {},
   "source": [
    "#### 1.2.3 パラメータの役割"
   ]
  },
  {
   "cell_type": "markdown",
   "id": "e64cab59-24e5-467c-bd38-bb5b62011c18",
   "metadata": {},
   "source": [
    "正規分布には平均($\\mu$)、標準偏差($\\sigma$)の二つのパラメータがある。パラメータの値を変化させ形状の変化を見る\n",
    "\n",
    "##### $\\mu$を変化させた場合"
   ]
  },
  {
   "cell_type": "code",
   "execution_count": 14,
   "id": "672e9b56-57ae-425c-8786-869ac5a7aa5b",
   "metadata": {},
   "outputs": [
    {
     "data": {
      "image/png": "[encoded data removed]",
      "text/plain": [
       "<Figure size 432x288 with 1 Axes>"
      ]
     },
     "metadata": {
      "needs_background": "light"
     },
     "output_type": "display_data"
    }
   ],
   "source": [
    "x = np.linspace(-10, 10, 1000)\n",
    "\n",
    "y0 = normal(x, mu=-3)\n",
    "y1 = normal(x, mu=0)\n",
    "y2 = normal(x, mu=5)\n",
    "\n",
    "plt.plot(x, y0, label='$\\mu$=-3')\n",
    "plt.plot(x, y1, label='$\\mu$=0')\n",
    "plt.plot(x, y2, label='$\\mu$=5')\n",
    "plt.legend()\n",
    "plt.grid()\n",
    "plt.xlabel('x')\n",
    "plt.ylabel('y')\n",
    "plt.title(\"$\\mu$\")\n",
    "plt.show()"
   ]
  },
  {
   "cell_type": "markdown",
   "id": "ac910412-9b8f-47b8-af3a-67ce9946ec69",
   "metadata": {},
   "source": [
    "確率密度の最大値を取る位置が異なる。$\\mu=0$の場合はピークは0、$\\mu=-3$の場合はピークは-3となっており、ピークは平均$\\mu$の位置になる。\n",
    "\n",
    "##### $\\sigma$を変化させた場合"
   ]
  },
  {
   "cell_type": "code",
   "execution_count": 15,
   "id": "72c60b8f-3281-4649-a4cb-adb2c73fb623",
   "metadata": {},
   "outputs": [
    {
     "data": {
      "image/png": "[encoded data removed]",
      "text/plain": [
       "<Figure size 432x288 with 1 Axes>"
      ]
     },
     "metadata": {
      "needs_background": "light"
     },
     "output_type": "display_data"
    }
   ],
   "source": [
    "x = np.linspace(-10, 10, 1000)\n",
    "\n",
    "y0 = normal(x, mu=0, sigma=0.5)\n",
    "y1 = normal(x, mu=0, sigma=1)\n",
    "y2 = normal(x, mu=0, sigma=2)\n",
    "\n",
    "plt.plot(x, y0, label='$\\sigma$=0.5')\n",
    "plt.plot(x, y1, label='$\\sigma$=1')\n",
    "plt.plot(x, y2, label='$\\sigma$=2')\n",
    "plt.legend()\n",
    "plt.grid()\n",
    "plt.xlabel('x')\n",
    "plt.ylabel('y')\n",
    "plt.title(\"$\\sigma$\")\n",
    "plt.show()"
   ]
  },
  {
   "cell_type": "markdown",
   "id": "0dcab196-b4cf-44d4-b65e-a0200342a3b9",
   "metadata": {},
   "source": [
    "標準偏差$\\sigma$を変化させた場合、山の形状が変化し、標準偏差を大きくすればするほど山は低く左右に広がる。"
   ]
  },
  {
   "cell_type": "markdown",
   "id": "8cf25fbd-b963-4e90-abed-e2590c0f316f",
   "metadata": {
    "jp-MarkdownHeadingCollapsed": true,
    "tags": []
   },
   "source": [
    "## 1.3 中心極限定理"
   ]
  },
  {
   "cell_type": "markdown",
   "id": "e1fc6189-c8b8-4b0f-aed6-28f81c60593f",
   "metadata": {},
   "source": [
    "正規分布が最も重要な確率分布である理由は、**中心極限定理**により説明できる。"
   ]
  },
  {
   "cell_type": "markdown",
   "id": "d8a752af-6976-4dbe-b4c0-c4f8e591cd90",
   "metadata": {
    "tags": []
   },
   "source": [
    "### 1.3.1 中心極限定理とは"
   ]
  },
  {
   "cell_type": "markdown",
   "id": "5168beca-0b0d-4d1c-9e43-27397485633e",
   "metadata": {},
   "source": [
    "ある確率分布$p(x)$から独立に生成された$N$個のデータを$\\{x^{(1)},x^{(2)},\\cdots,x^{(N)}\\}$とすると、その**サンプル平均(標本平均)** は次の式で表される。\n",
    "\n",
    "$$ \\bar x = \\frac{x^{(1)}+x^{(2)}+\\cdots+x^{(N)}}{N} $$\n",
    "\n",
    "任意の確率分布元の確率密度関数$p(x)$が平均$\\mu$、分散$\\sigma^2$の確率分布とする。その確率密度関数のサンプル平均$\\bar x$の分布について調べると、平均が$\\mu$,分散が$\\frac{\\sigma^2}{N}$の正規分布に近づく。"
   ]
  },
  {
   "cell_type": "markdown",
   "id": "60b1fd39-85ac-4bab-a38b-c2275996ae30",
   "metadata": {},
   "source": [
    "### 1.3.2 中心極限定理の実験"
   ]
  },
  {
   "cell_type": "markdown",
   "id": "f151f852-0a7f-4267-bbbf-bb14a1aeeb50",
   "metadata": {},
   "source": [
    "中心極限定理を実験によって確認する。例として、一様分布からサンプル平均を計算する。"
   ]
  },
  {
   "cell_type": "code",
   "execution_count": 37,
   "id": "804f9bc5-1842-4e02-82df-a6f3b44f484d",
   "metadata": {},
   "outputs": [
    {
     "data": {
      "image/png": "[encoded data removed]",
      "text/plain": [
       "<Figure size 432x288 with 1 Axes>"
      ]
     },
     "metadata": {
      "needs_background": "light"
     },
     "output_type": "display_data"
    },
    {
     "name": "stdout",
     "output_type": "stream",
     "text": [
      "mean =  0.3536285629695906\n"
     ]
    }
   ],
   "source": [
    "N = 3\n",
    "\n",
    "xs = []\n",
    "for n in range(N):\n",
    "    x = np.random.rand()\n",
    "    xs.append(x)\n",
    "\n",
    "plt.hist(xs)\n",
    "plt.show()\n",
    "\n",
    "print(\"mean = \",np.mean(xs))"
   ]
  },
  {
   "cell_type": "markdown",
   "id": "dd2d6722-3548-4d23-984e-bc1d2a96e59f",
   "metadata": {},
   "source": [
    "サンプル数を$1,2,4,10$と変化させた場合について、サンプル平均を計算する。"
   ]
  },
  {
   "cell_type": "code",
   "execution_count": 31,
   "id": "4f24d2ef-3d87-4daf-9d33-c40f31f68002",
   "metadata": {},
   "outputs": [
    {
     "data": {
      "image/png": "[encoded data removed]",
      "text/plain": [
       "<Figure size 432x288 with 1 Axes>"
      ]
     },
     "metadata": {
      "needs_background": "light"
     },
     "output_type": "display_data"
    },
    {
     "data": {
      "image/png": "[encoded data removed]",
      "text/plain": [
       "<Figure size 432x288 with 1 Axes>"
      ]
     },
     "metadata": {
      "needs_background": "light"
     },
     "output_type": "display_data"
    },
    {
     "data": {
      "image/png": "[encoded data removed]",
      "text/plain": [
       "<Figure size 432x288 with 1 Axes>"
      ]
     },
     "metadata": {
      "needs_background": "light"
     },
     "output_type": "display_data"
    },
    {
     "data": {
      "image/png": "[encoded data removed]",
      "text/plain": [
       "<Figure size 432x288 with 1 Axes>"
      ]
     },
     "metadata": {
      "needs_background": "light"
     },
     "output_type": "display_data"
    }
   ],
   "source": [
    "x_means = []\n",
    "for N in [1,2,4,10]:\n",
    "    for _ in range(10000):\n",
    "        xs = []\n",
    "        for i in range(N):\n",
    "            x = np.random.rand()\n",
    "            xs.append(x)\n",
    "        mean = np.mean(xs)\n",
    "        x_means.append(mean)\n",
    "\n",
    "    # plot\n",
    "    plt.hist(x_means, bins='auto', density=True)\n",
    "    plt.title(f'N={N}')\n",
    "    plt.xlabel('x')\n",
    "    plt.ylabel('Probability Density')\n",
    "    plt.xlim(-0.05, 1.05)\n",
    "    plt.ylim(0, 5)\n",
    "    plt.show()"
   ]
  },
  {
   "cell_type": "markdown",
   "id": "afb159f5-69a2-42fb-8280-6616cf2ca291",
   "metadata": {
    "tags": []
   },
   "source": [
    "## 1.4 サンプル和の確率分布"
   ]
  },
  {
   "cell_type": "markdown",
   "id": "1a7422a4-e9f8-4ac9-b703-7322ea32fb45",
   "metadata": {},
   "source": [
    "サンプルの和は次の式で表される。\n",
    "\n",
    "$$s=x^{(1)}+x^{(2)}+\\cdots +x^{(N)}$$\n",
    "\n",
    "サンプル和がどのような分布に近づくか考える。"
   ]
  },
  {
   "cell_type": "markdown",
   "id": "ca54a354-5f8c-4c39-81ba-0152ebc7d7f7",
   "metadata": {},
   "source": [
    "### 1.4.1 サンプル和の期待値と分散"
   ]
  },
  {
   "cell_type": "markdown",
   "id": "2f1a00b2-2dd5-4fa5-bfb8-b514613f4377",
   "metadata": {},
   "source": [
    "サンプル和は$s=N\\bar x$であり、サンプル平均$\\bar x$を$N$倍したものである。つまり、正規分布を$N$倍した分布に近づく。期待値$\\mathbb{E}[N\\bar x]$は次のように表すことができる。\n",
    "\n",
    "$$\\mathbb{E}[N\\bar x]= \\int Nxp(x)dx = N \\int xp(x)dx = N\\mathbb{E}[\\bar x]$$\n",
    "\n",
    "つまり、$\\rm{Var}[\\bar x]$は次のように表される。\n",
    "\n",
    "$$\\rm{Var}[N\\bar x] = \\mathbb{E}[(N\\bar x -N\\mu)^2 = \\mathbb{E}[N^2(\\bar x -\\mu)^2]=N^2\\mathbb{E}[(\\bar x -\\mu)^2]=N^2\\rm{Var}[\\bar x]=N^2\\frac{\\sigma^2}{N}=N\\sigma^2$$\n",
    "\n",
    "これにより、サンプル和sの分布は、平均$N\\mu$,分散$N\\sigma^2$の正規分布に近づくことがわかる。"
   ]
  },
  {
   "cell_type": "markdown",
   "id": "52b959c4-3e67-4f0d-a066-89f5f4bb2f6f",
   "metadata": {},
   "source": [
    "### 1.4.2 コードで確かめる"
   ]
  },
  {
   "cell_type": "markdown",
   "id": "aa1c13b8-8477-4fa2-80e6-18152a6bd9eb",
   "metadata": {},
   "source": [
    "一様分布の平均$\\mu$は$\\frac{1}{2}$であり、分散$\\sigma^2$は\n",
    "\n",
    "$$ \\rm{Var}[x] = \\int^1_0(x-\\frac{1}{2})^2dx = \\frac{1}{12}[4x^3-6x^2+3]^1_0 = \\frac{1}{12} $$\n",
    "\n",
    "である。つまり、サンプル和の平均は$\\frac{N}{2}$であり、分散は$\\frac{N}{12}$になるはずである。"
   ]
  },
  {
   "cell_type": "code",
   "execution_count": 36,
   "id": "27d35962-0b20-4bd2-ab45-b248dd868ac8",
   "metadata": {},
   "outputs": [
    {
     "data": {
      "image/png": "[encoded data removed]",
      "text/plain": [
       "<Figure size 432x288 with 1 Axes>"
      ]
     },
     "metadata": {
      "needs_background": "light"
     },
     "output_type": "display_data"
    }
   ],
   "source": [
    "x_means = []\n",
    "N = 5\n",
    "\n",
    "for _ in range(10000):\n",
    "    xs = []\n",
    "    for i in range(N):\n",
    "        x = np.random.rand()\n",
    "        xs.append(x)\n",
    "    mean = np.sum(xs)\n",
    "    x_means.append(mean)\n",
    "\n",
    "# normal distribution\n",
    "def normal(x, mu=0, sigma=1):\n",
    "    y = 1 / (np.sqrt(2 * np.pi) * sigma) * np.exp(-(x - mu)**2 / (2 * sigma**2))\n",
    "    return y\n",
    "x_norm = np.linspace(-5, 5, 1000)\n",
    "mu = 0.5 * N\n",
    "sigma = np.sqrt(1 / 12 * N)\n",
    "y_norm = normal(x_norm, mu, sigma)\n",
    "\n",
    "# plot\n",
    "plt.hist(x_means, bins='auto', density=True)\n",
    "plt.plot(x_norm, y_norm)\n",
    "plt.title(f'N={N}')\n",
    "plt.xlim(-1, 6)\n",
    "plt.grid()\n",
    "plt.show()"
   ]
  },
  {
   "cell_type": "markdown",
   "id": "3c61abb5-c6af-4065-bfd7-652a72add6eb",
   "metadata": {},
   "source": [
    "オレンジ色で描画した線は、予想したサンプル和の正規分布を示している。よく一致していることが確認できる。"
   ]
  },
  {
   "cell_type": "markdown",
   "id": "8c1c3cb8-f6da-4d6e-9a22-cd803c6c7f57",
   "metadata": {
    "tags": []
   },
   "source": [
    "## 1.5 身の回りにある正規分布"
   ]
  },
  {
   "cell_type": "markdown",
   "id": "ad63c503-f3da-4fd1-898d-12d96001146c",
   "metadata": {},
   "source": [
    "身の回りにある正規分布について\n",
    "\n",
    "**測定誤差**\n",
    "\n",
    "測定誤差に$N$個の要因があり、それぞれ独立にランダムな誤差$\\epsilon^{(n)}$を与えると考える。\n",
    "\n",
    "真の値からの誤差はそれぞれの誤差の総和は\n",
    "$$\\epsilon=\\epsilon^{(1)}+\\epsilon^{(2)}+\\cdots+\\epsilon^{(N)}$$\n",
    "と表すことができる。Nが大きくなるにつれ誤差の総和は正規分布に近づく\n",
    "\n",
    "**製品のサイズ**\n",
    "\n",
    "同じ製品の重さを計測すると必ず一致せずにばらつきが生じる。製品が完成するまでの各工程で小さな違いが積み重なる。結果として製品のサイズは正規分布になる場合が多くあると言える。\n",
    "\n",
    "**身長**\n",
    "\n",
    "同じ年代、同じ性別の人の身長も正規分布で近似できることが知られている。身長を決める要因は複数あり、それらの影響がある程度独立して起こるとすれば身長は正規分布に近づくと考えられる。\n",
    "\n",
    "身の回りでは正規分布がよくみられ、数式としても取り扱いしやすいため機械学習や統計学の分野では多く使用されている。\n"
   ]
  },
  {
   "cell_type": "markdown",
   "id": "65282ad8-d542-4841-80f9-c2623f84e9bd",
   "metadata": {},
   "source": [
    "小話\n",
    "\n",
    "**MBTI**\n",
    "\n",
    "最近流行っている性格診断の一つ。採用活動で使用されていることもある。具体的には4つの観点で人を2つに分類する。例えば、外交的or内向的など。人の性格を16種類に分けそれぞれの性格についての特徴を判断する。\n",
    "\n",
    "性格を形成するものは親や環境など複数ありそれぞれが独立していると考えれば、人の性格は正規分布すると予想できる。つまり、外交的でも内向的でもない人が最も多いのではないか。それらを無理やり二つに分類すると一番のボリュームゾーンを無視することにつながるのではないか？と思っている。"
   ]
  },
  {
   "cell_type": "code",
   "execution_count": null,
   "id": "517cc3c8-5639-4c21-861f-e55ec77041cc",
   "metadata": {},
   "outputs": [],
   "source": []
  }
 ],
 "metadata": {
  "kernelspec": {
   "display_name": "Python 3 (ipykernel)",
   "language": "python",
   "name": "python3"
  },
  "language_info": {
   "codemirror_mode": {
    "name": "ipython",
    "version": 3
   },
   "file_extension": ".py",
   "mimetype": "text/x-python",
   "name": "python",
   "nbconvert_exporter": "python",
   "pygments_lexer": "ipython3",
   "version": "3.9.12"
  }
 },
 "nbformat": 4,
 "nbformat_minor": 5
}
