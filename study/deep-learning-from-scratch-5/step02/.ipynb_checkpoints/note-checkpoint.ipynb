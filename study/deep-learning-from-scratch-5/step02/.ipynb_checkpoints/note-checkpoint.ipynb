{
 "cells": [
  {
   "cell_type": "markdown",
   "id": "73d6c10a-cd98-4fa9-88c7-e4c9cdbf39b7",
   "metadata": {},
   "source": [
    "# ２ 最尤推定"
   ]
  },
  {
   "cell_type": "markdown",
   "id": "0b12253d-828b-4f01-a585-206b232ab62d",
   "metadata": {},
   "source": [
    "世の中にある分布に対して、正規分布に適合させることを最尤推定と呼ぶ。\n",
    "\n",
    "ここで学ぶ内容が生成モデルである。"
   ]
  },
  {
   "cell_type": "markdown",
   "id": "fd9dba3c-80fe-4bdc-a4bd-38f2004a9437",
   "metadata": {
    "jp-MarkdownHeadingCollapsed": true,
    "tags": []
   },
   "source": [
    "## 2.1生成モデルの概要"
   ]
  },
  {
   "cell_type": "markdown",
   "id": "6dd57c6e-2b17-436f-95a9-c3571c8e05e8",
   "metadata": {},
   "source": [
    "ここでは、生成モデルについて、何を目標にするのか？どのように作るのか？について説明をする。"
   ]
  },
  {
   "cell_type": "markdown",
   "id": "4e1f8e38-5972-4194-92bc-bb8891305ca7",
   "metadata": {},
   "source": [
    "### 2.1.1 生成モデルとは"
   ]
  },
  {
   "cell_type": "markdown",
   "id": "48d7a9e6-2c67-4157-9ad3-fb5422f28e28",
   "metadata": {},
   "source": [
    "生成モデルの目標は、あるデータ$x$の確率分布$p(x)$をモデルかすることである。この確率分布$p(x)$からサンプリングすることで、データ$x$を生成する。\n",
    "\n",
    "例えば、ある集団の身長の確率分布を「正規分布」として表すと、それは生成モデルである。\n",
    "\n",
    "生成モデルの目標は、集団の特徴をモデル化することである。正規分布では平均と、標準偏差を推定、推論することである。\n"
   ]
  },
  {
   "cell_type": "markdown",
   "id": "fd550e30-4f88-4d33-8692-b8c36c541ab9",
   "metadata": {},
   "source": [
    "### 2.1.2 母集団とサンプル"
   ]
  },
  {
   "cell_type": "markdown",
   "id": "392d15eb-7a31-41ef-80e1-841eab80c65e",
   "metadata": {},
   "source": [
    "母集団は、主に統計学で用いられる用語である。通常、母集団のサイズは膨大であることが多いため、限られたサンプルを用いて母集団に対して推定が行われる。\n",
    "\n",
    "可能であれば、母集団の確率分布$p_*(x)$を得たいが、母集団の全てを調査することは現実的に難しいため、サンプルをもとに真の確率分布を推定する。推定には二つのステップがある。\n",
    "\n",
    "1. モデル化:真の確率分布が、パラメータで調整可能な確率分布で近似されると仮定\n",
    "2. パラメータ推定:その確率分布がサンプルデータに合うようにパラメータを推定する"
   ]
  },
  {
   "cell_type": "markdown",
   "id": "733064b8-581c-4317-b8a2-ba5255c4b606",
   "metadata": {
    "jp-MarkdownHeadingCollapsed": true,
    "tags": []
   },
   "source": [
    "## 2.2 実データを使った生成モデルの実装"
   ]
  },
  {
   "cell_type": "markdown",
   "id": "8dfed923-c5fb-4c37-8282-7f1f4eadc53a",
   "metadata": {},
   "source": [
    "現実のデータを用いて生成モデルを実装する。使用するデータセットは、SOCR Dataと呼ばれる18歳の身長のデータが25,000件含まれている。（ただし、データは架空のもの）"
   ]
  },
  {
   "cell_type": "markdown",
   "id": "f36351cb-83d4-4a7d-ac4e-ef5a65de68c1",
   "metadata": {},
   "source": [
    "### 2.2.1 身長データセットの読み込み"
   ]
  },
  {
   "cell_type": "code",
   "execution_count": 15,
   "id": "d7d8aeb3-6626-40d2-b07f-0ee7068224a3",
   "metadata": {},
   "outputs": [
    {
     "name": "stdout",
     "output_type": "stream",
     "text": [
      "(25000,)\n"
     ]
    },
    {
     "data": {
      "image/png": "[encoded data removed]",
      "text/plain": [
       "<Figure size 432x288 with 1 Axes>"
      ]
     },
     "metadata": {
      "needs_background": "light"
     },
     "output_type": "display_data"
    }
   ],
   "source": [
    "import os\n",
    "import numpy as np\n",
    "import matplotlib.pyplot as plt\n",
    "path =  \"height.txt\"\n",
    "xs = np.loadtxt(path)\n",
    "print(xs.shape)\n",
    "\n",
    "plt.hist(xs, bins='auto', density=True)\n",
    "plt.xlabel('Height(cm)')\n",
    "plt.ylabel('Probability Density')\n",
    "plt.grid()\n",
    "plt.show()"
   ]
  },
  {
   "cell_type": "markdown",
   "id": "72d8c9d3-a108-4876-9260-58f9f49756fe",
   "metadata": {},
   "source": [
    "### 2.2.2 正規分布による生成モデル"
   ]
  },
  {
   "cell_type": "markdown",
   "id": "580cab17-99de-45e1-baba-c6b02fdf4a71",
   "metadata": {},
   "source": [
    "身長のデータを正規分布と仮定し、正規分布のパラメータを推定する。\n",
    "\n",
    "パラメータの推定方法の一つに最尤推定がある。これを用いて、平均と標準偏差を求める。"
   ]
  },
  {
   "cell_type": "code",
   "execution_count": 16,
   "id": "59bb470e-769e-4a05-9446-9db860490e4f",
   "metadata": {},
   "outputs": [
    {
     "name": "stdout",
     "output_type": "stream",
     "text": [
      "172.70250853667997\n",
      "4.830167473396299\n"
     ]
    }
   ],
   "source": [
    "mu = np.mean(xs)\n",
    "sigma = np.std(xs)\n",
    "\n",
    "print(mu)\n",
    "print(sigma)"
   ]
  },
  {
   "cell_type": "markdown",
   "id": "9cf49494-3bc8-4912-888d-ca57f85ef702",
   "metadata": {},
   "source": [
    "身長データの平均値、標準偏差はnumpyの関数を用いて計算することができる。\n",
    "\n",
    "求めたパラメータを使用して正規分布を描画する。"
   ]
  },
  {
   "cell_type": "code",
   "execution_count": 19,
   "id": "83a944f3-4621-4b69-a970-4161d3b7f921",
   "metadata": {},
   "outputs": [
    {
     "data": {
      "image/png": "[encoded data removed]",
      "text/plain": [
       "<Figure size 432x288 with 1 Axes>"
      ]
     },
     "metadata": {
      "needs_background": "light"
     },
     "output_type": "display_data"
    }
   ],
   "source": [
    "import os\n",
    "import numpy as np\n",
    "import matplotlib.pyplot as plt\n",
    "\n",
    "path = \"height.txt\"\n",
    "xs = np.loadtxt(path)\n",
    "\n",
    "mu = np.mean(xs)\n",
    "sigma = np.std(xs)\n",
    "\n",
    "# normal distribution\n",
    "def normal(x, mu=0, sigma=1):\n",
    "    y = 1 / (np.sqrt(2 * np.pi) * sigma) * np.exp(-(x - mu)**2 / (2 * sigma**2))\n",
    "    return y\n",
    "x = np.linspace(150, 190, 1000)\n",
    "y = normal(x, mu, sigma)\n",
    "\n",
    "# plot\n",
    "plt.hist(xs, bins='auto', density=True)\n",
    "plt.plot(x, y)\n",
    "plt.xlabel('Height(cm)')\n",
    "plt.ylabel('Probability Density')\n",
    "plt.grid()\n",
    "plt.show()"
   ]
  },
  {
   "cell_type": "markdown",
   "id": "df2da16e-d13e-4ca0-b1d9-417a5c0b9106",
   "metadata": {},
   "source": [
    "ヒストグラムと、正規分布が良く一致していることがわかる。"
   ]
  },
  {
   "cell_type": "markdown",
   "id": "18f76d1a-58c1-440f-8f7e-f01203400ad3",
   "metadata": {
    "jp-MarkdownHeadingCollapsed": true,
    "tags": []
   },
   "source": [
    "## 2.3 最尤推定の理論"
   ]
  },
  {
   "cell_type": "markdown",
   "id": "49ac0574-7448-4db0-a199-4ada83d5cb11",
   "metadata": {},
   "source": [
    "具体的には、$N$個の観測データ${x^{(1)},x^{(2)},\\cdots,x^{(N)}}$が得られた時、次の指揮に従ってパラメータを推定した。\n",
    "\n",
    "$$\\hat{\\mu} = \\frac{1}{N}\\sum^N_{n=1}x^{(n)}$$\n",
    "\n",
    "$$\\hat{\\sigma} = \\sqrt{\\frac{1}{N}\\sum^N_{n=1}(x^{(n)}-\\hat{\\mu})^2}$$\n",
    "\n",
    "正規分布の場合、平均と標準偏差にはハットをつけ、$\\hat{\\mu}, \\hat{\\sigma}$最尤推定によって、この式で求められることがわかる。"
   ]
  },
  {
   "cell_type": "markdown",
   "id": "ddc901ab-d550-4760-917d-ab93c8e0b275",
   "metadata": {},
   "source": [
    "### 2.3.1 尤度の最大化"
   ]
  },
  {
   "cell_type": "markdown",
   "id": "5451450f-53a7-497e-8972-d6a55efba5c2",
   "metadata": {},
   "source": [
    "正規分布に限定せずに、何らかのパラメータ$\\theta$によって分布が決定される確率分布$p(x;\\theta$について考える。\n",
    "\n",
    "サンプル$D=$が確率分布$p(x;\\theta)$に従って独立に生成されると仮定する。\n",
    "\n",
    "サンプル$D$が得られる確率密度$p(\\mathcal{D};\\theta)$は次の式で表される。\n",
    "\n",
    "$$p(\\mathcal{D};\\theta) = p(x^{(1)};\\theta)p(x^{(2)};\\theta)\\cdots p(x^{(N)};\\theta) = \\prod^N_{n=1}p(x^{(n)};\\theta)$$\n",
    "\n",
    "各データが独立に生成されるため、各データの確立の積として表すことができ、$\\theta$の関数とみなして次の式で定義することができる。\n",
    "\n",
    "$$L(\\theta)=p(\\mathcal{D};\\theta)$$\n",
    "\n",
    "この$L(\\theta)$を尤度または尤度関数と呼ぶこともある。本書では$p(\\mathcal{D};\\theta)$を尤度と呼ぶ。\n",
    "\n",
    "実際の最尤推定では、対数尤度$\\log_e p(\\mathcal{D};\\theta)$の最大化を行う。これは対数の性質\n",
    "\n",
    "$$ \\log ab = \\log a+ \\log b$$\n",
    "\n",
    "を使用することで計算が簡単になるためである。\n",
    "\n",
    "次に尤度を最大化する方法について述べるが、簡単な関数を例に最大値を求める方法を示す。"
   ]
  },
  {
   "cell_type": "markdown",
   "id": "21fa3303-133e-4221-bbe4-22f1b96062da",
   "metadata": {},
   "source": [
    "### 2.3.2 微分を使って最大値を探す"
   ]
  },
  {
   "cell_type": "markdown",
   "id": "90873909-cbbf-4830-b446-ec0094359eea",
   "metadata": {},
   "source": [
    "次の関数を対象に$y$を最大化する$x$を求める。\n",
    "\n",
    "$$y = -2x^2 + 3x +4$$\n",
    "\n",
    "$y$を$x$について微分すると\n",
    "\n",
    "$$\\frac{dy}{dx}=-4x+3$$\n",
    "\n",
    "となる。微分することで、各$x$での傾きを求めることができる。二次関数は放物線を描き、傾きが0の時に最小値を取ると\n",
    "\n",
    "$$\\frac{dy}{dx} = -4x+3 = 0$$\n",
    "\n",
    "これを解くと、$x= \\frac{3}{4}$において最大値$\\frac{41}{8}$となる。このように数式によって解が求められることを、解析的に解けるや、閉形式の解が得られるという。"
   ]
  },
  {
   "cell_type": "markdown",
   "id": "996a6efe-107f-4cbd-9a5e-c66b734d7231",
   "metadata": {},
   "source": [
    "### 2.3.3 正規分布の最尤推定"
   ]
  },
  {
   "cell_type": "markdown",
   "id": "b5645665-6a74-4e6a-b386-469bb55f9837",
   "metadata": {},
   "source": [
    "正規分布の確率密度関数は\n",
    "\n",
    "$$\\mathcal{N}(x;\\mu,\\sigma)=\\frac{1}{\\sqrt{2\\pi}\\sigma}\\exp(-\\frac{(x-\\mu)^2}{2\\sigma^2})$$\n",
    "\n",
    "と表すことができます。ここで、$N$個のデータからなるサンプル$\\mathcal{D}=\\{x^{(1)},x^{(2)},\\cdots,x^{(N)}\\}$が得られた時、尤度は\n",
    "\n",
    "$$p(\\mathcal{D};\\mu,\\sigma) = \\prod^N_{n=1} \\frac{1}{\\sqrt{2\\pi}\\sigma}\\exp(-\\frac{(x^{(n)}-\\mu)^2}{2\\sigma^2})$$\n",
    "\n",
    "と表される。そして、対数尤度は\n",
    "\n",
    "$$\\log p(\\mathcal{D};\\mu,\\sigma) = \\log \\prod^N_{n=1} \\frac{1}{\\sqrt{2\\pi}\\sigma}\\exp(-\\frac{(x^{(n)}-\\mu)^2}{2\\sigma^2})\\\\\n",
    "=\\log \\prod^N_{n=1} \\frac{1}{\\sqrt{2\\pi}}+\\log \\prod^N_{n=1\\sigma}\\exp(-\\frac{(x^{(n)}-\\mu)^2}{2\\sigma^2})\\\\\n",
    "=\\log \\left(\\frac{1}{\\sqrt{2\\pi}}\\right)^N + \\sum ^N_{n=1} -\\frac{(x^{(n)}-\\mu)^2}{2\\sigma^2}\\\\\n",
    "=-\\frac{N}{2}\\log 2\\pi \\sigma^2 - \\frac{1}{2\\sigma^2} \\sum ^N_{n=1} (x^{(n)}-\\mu)^2$$\n",
    "\n",
    "と表すことができる。対数尤度は$\\mu$の二次関数であることがわかる。係数が負であるため、傾きが０の場合に最大値を取ることがわかる。\n",
    "\n",
    "$$\\frac{\\partial \\log p(\\mathcal{D};\\mu, \\sigma)}{\\partial \\mu}=0\\\\\n",
    "\\frac{1}{2\\sigma^2} \\sum ^N_{n=1} (x^{(n)}-\\mu)^2 = 0 \\\\\n",
    "\\sum ^N_{n=1} x^{(n)}-\\mu)^2 =0\\\\\n",
    "\\sum ^N_{n=1} x^{(n)} = \\sum ^N_{n=1}\\mu\\\\ \n",
    "\\sum ^N_{n=1} x^{(n)} = N\\mu\n",
    "$$\n",
    "従って、\n",
    "$$\\mu = \\frac{1}{N}\\sum ^N_{n=1} (x^{(n)}$$\n",
    "\n",
    "ここでは、次のように$\\hat\\mu$を用いて\n",
    "\n",
    "$$\\hat\\mu = \\frac{1}{N}\\sum ^N_{n=1} (x^{(n)}$$\n",
    "\n",
    "と表す。正規分布の平均が$\\hat\\mu$の場合に対数尤度が最大となり、これはサンプル平均である。\n",
    "\n",
    "次に、標準偏差$\\sigma$について考える。$\\mu = \\hat\\mu$の場合に$\\sigma$を最大化する。\n",
    "\n",
    "$$\\log p(\\mathcal{D};\\hat\\mu,\\sigma)　=-　\\frac{N}{2}\\log 2\\pi \\sigma^2 - \\frac{1}{2\\sigma^2} \\sum ^N_{n=1} (x^{(n)}-\\hat\\mu)^2$$\n",
    "\n",
    "対数尤度を最大化する$\\sigma$の値を求めるため、$\\sigma$に関する微分は\n",
    "\n",
    "$$ \\frac{\\partial}{\\partial \\sigma} \\log p(\\mathcal{D};\\hat\\mu,\\sigma)　=-　\\frac{N}{2}\\frac{\\partial}{\\partial \\sigma} \\left(\\log 2\\pi \\sigma^2\\right) - \\frac{\\partial}{\\partial \\sigma} \\left(\\frac{1}{2\\sigma^2} \\sum ^N_{n=1} (x^{(n)}-\\hat\\mu)^2\\right)\\\\\n",
    "=-　\\frac{N}{2} \\frac{2}{\\sigma} - \\frac{1}{2}(-2)\\sigma^{-3}\\sum^N_{n=1} (x^{(n)}-\\hat\\mu)^2\\\\\n",
    "= -\\frac{N}{\\sigma}+\\sigma^{-3}\\sum ^N_{n=1} (x^{(n)}-\\hat\\mu)^2\n",
    "$$\n",
    "\n",
    "微分が０になる場合の$\\sigma$の値を求めると\n",
    "\n",
    "$$\\frac{N}{\\sigma} = \\sigma^{-3}\\sum ^N_{n=1} (x^{(n)}-\\hat\\mu)^2\\\\\n",
    "\\sigma^2 = \\frac{1}{N}\\sum ^N_{n=1} (x^{(n)}-\\hat\\mu)^2\\\\\n",
    "\\sigma = \\sqrt{\\frac{1}{N}\\sum ^N_{n=1} (x^{(n)}-\\hat\\mu)^2}$$\n",
    "\n",
    "ここで求めた分散を$\\hat\\sigma$を用いて\n",
    "\n",
    "$$\\hat\\sigma= \\sqrt{\\frac{1}{N}\\sum ^N_{n=1} (x^{(n)}-\\hat\\mu)^2}$$\n",
    "\n",
    "と表し、最尤推定より、最大の尤度となる場合の$\\mu,\\sigma$が$\\hat\\mu,\\hat\\sigma$であることが示された。"
   ]
  },
  {
   "cell_type": "markdown",
   "id": "da2d228e-4b8c-4bd4-8d18-99e2ce4ecf55",
   "metadata": {
    "jp-MarkdownHeadingCollapsed": true,
    "tags": []
   },
   "source": [
    "## 2.4 生成モデルの用途"
   ]
  },
  {
   "cell_type": "markdown",
   "id": "6f6a17ab-e5e8-400f-b9b1-4aab185d2052",
   "metadata": {},
   "source": [
    "先に実装した生成モデルでは、二つの手順によって生成モデルを作成した。\n",
    "\n",
    "1. モデル化: 身長データが正規分布と仮定する\n",
    "2. パラメータ推定:　最尤推定により、正規分布のパラメータを推定する。\n",
    "\n",
    "実際に書いたコードは"
   ]
  },
  {
   "cell_type": "code",
   "execution_count": 20,
   "id": "eac67c42-baf5-4521-b86a-49f1c21649b4",
   "metadata": {},
   "outputs": [
    {
     "name": "stdout",
     "output_type": "stream",
     "text": [
      "172.70250853667997\n",
      "4.830167473396299\n"
     ]
    }
   ],
   "source": [
    "import os\n",
    "import numpy as np\n",
    "import matplotlib.pyplot as plt\n",
    "\n",
    "path = \"height.txt\"\n",
    "xs = np.loadtxt(path)\n",
    "\n",
    "mu = np.mean(xs)\n",
    "sigma = np.std(xs)\n",
    "\n",
    "print(mu)\n",
    "print(sigma)"
   ]
  },
  {
   "cell_type": "markdown",
   "id": "f6e685c9-b430-48d9-91e5-4e0e857ef3d6",
   "metadata": {},
   "source": [
    "平均と、分散がわかり、正規分布が得られた。学習後の生成モデルの用途についてみていく。"
   ]
  },
  {
   "cell_type": "markdown",
   "id": "41392da6-b0c3-4e9e-8e63-5f71caa02a62",
   "metadata": {},
   "source": [
    "### 2.4.1 新しいデータの生成"
   ]
  },
  {
   "cell_type": "markdown",
   "id": "c3b52742-46c4-4a42-a7d7-5abc78af17bd",
   "metadata": {},
   "source": [
    "生成モデルを使用することで、新しいデータを生成することができる。\n",
    "\n",
    "numpyの正規分布にしたがう乱数を生成する関数np.random.normal(loc, scale, size)を使用することができる。\n",
    "\n",
    "locは平均、scaleは標準偏差に対応し、sizeは生成する個数に対応する。\n",
    "\n",
    "先に求めた平均と分散より、新しい身長データをサンプリングすることができる。"
   ]
  },
  {
   "cell_type": "code",
   "execution_count": 21,
   "id": "b5a510a7-4e2a-4949-bb08-b341fdee9500",
   "metadata": {},
   "outputs": [
    {
     "name": "stdout",
     "output_type": "stream",
     "text": [
      "[170.07786515]\n"
     ]
    }
   ],
   "source": [
    "sample = np.random.normal(mu,sigma,1)\n",
    "print(sample)"
   ]
  },
  {
   "cell_type": "markdown",
   "id": "4ec52d71-542a-4bf6-b1ee-2aa45c17cd15",
   "metadata": {},
   "source": [
    "続いて、10,000個のサンプリングを行い分布を確認する。"
   ]
  },
  {
   "cell_type": "code",
   "execution_count": 23,
   "id": "7587c3c2-48c4-44ba-b49f-a80b3c02c5a6",
   "metadata": {},
   "outputs": [
    {
     "data": {
      "image/png": "[encoded data removed]",
      "text/plain": [
       "<Figure size 432x288 with 1 Axes>"
      ]
     },
     "metadata": {
      "needs_background": "light"
     },
     "output_type": "display_data"
    }
   ],
   "source": [
    "import os\n",
    "import numpy as np\n",
    "import matplotlib.pyplot as plt\n",
    "\n",
    "\n",
    "path = \"height.txt\"\n",
    "xs = np.loadtxt(path)\n",
    "mu = np.mean(xs)\n",
    "sigma = np.std(xs)\n",
    "\n",
    "samples = np.random.normal(mu, sigma, 10000)\n",
    "\n",
    "plt.hist(xs, bins='auto', density=True, alpha=0.7, label='original')\n",
    "plt.hist(samples, bins='auto', density=True, alpha=0.7, label='generated')\n",
    "plt.xlabel('Height(cm)')\n",
    "plt.ylabel('Probability Density')\n",
    "plt.legend()\n",
    "plt.show()"
   ]
  },
  {
   "cell_type": "markdown",
   "id": "673b627a-b3b9-4ffd-891e-b67e334058ac",
   "metadata": {},
   "source": [
    "見ての通り、二つの分布の大部分は一致する。生成モデルは、観測データの特徴を捉えた新しいデータを作成することができた。\n",
    "\n",
    "広く知られているように、複雑な生成モデルとなれば、画像のような多次元データを生成することができる。\n",
    "\n",
    "そのためには、モデルを工夫し、大量のデータで学習を行う必要がある。\n",
    "\n",
    "つまり、生成モデルではモデル化をニューラルネットワークと仮定し、そのパラメータ推定を学習を通して行っていると理解できる。"
   ]
  },
  {
   "cell_type": "markdown",
   "id": "28c3c7ce-d1fa-4a14-898f-b8f052a0dd48",
   "metadata": {},
   "source": [
    "### 2.4.2 確率の計算"
   ]
  },
  {
   "cell_type": "markdown",
   "id": "527c1f10-edd7-41f7-909b-c30065889a6d",
   "metadata": {},
   "source": [
    "数値計算用のライブラリscipyを使用することで、確率密度関数から、確率を求めることができる。\n",
    "\n",
    "具体的に使用する関数は、norm.cdf(x, mu, sigma)であり、正規分布の平均と分散を入力することで、x以下の値である確率を計算する。"
   ]
  },
  {
   "cell_type": "code",
   "execution_count": 27,
   "id": "b2b43f53-253a-4c18-bb54-e8cd729fbf49",
   "metadata": {},
   "outputs": [
    {
     "name": "stdout",
     "output_type": "stream",
     "text": [
      "p(x <= 160): 0.004271406830855\n",
      "p(x > 180): 0.06541774339950823\n"
     ]
    }
   ],
   "source": [
    "import os\n",
    "import numpy as np\n",
    "from scipy.stats import norm\n",
    "\n",
    "path = 'height.txt'\n",
    "xs = np.loadtxt(path)\n",
    "mu = np.mean(xs)\n",
    "sigma = np.std(xs)\n",
    "\n",
    "p1 = norm.cdf(160, mu, sigma)\n",
    "print('p(x <= 160):', p1)\n",
    "\n",
    "p2 = norm.cdf(180, mu, sigma)\n",
    "print('p(x > 180):', 1-p2)"
   ]
  },
  {
   "cell_type": "markdown",
   "id": "b1d8b4e3-5610-4172-814b-7ad2fc6e08cf",
   "metadata": {
    "jp-MarkdownHeadingCollapsed": true,
    "tags": []
   },
   "source": [
    "## おまけ"
   ]
  },
  {
   "cell_type": "markdown",
   "id": "7b62eec2-6fca-4c4a-9c55-1c384a624126",
   "metadata": {},
   "source": [
    "課題点"
   ]
  },
  {
   "cell_type": "code",
   "execution_count": 44,
   "id": "6058e5d4-af41-4f6c-8000-a0b4c637b313",
   "metadata": {},
   "outputs": [
    {
     "ename": "NameError",
     "evalue": "name '__file__' is not defined",
     "output_type": "error",
     "traceback": [
      "\u001b[0;31m---------------------------------------------------------------------------\u001b[0m",
      "\u001b[0;31mNameError\u001b[0m                                 Traceback (most recent call last)",
      "Input \u001b[0;32mIn [44]\u001b[0m, in \u001b[0;36m<cell line: 1>\u001b[0;34m()\u001b[0m\n\u001b[0;32m----> 1\u001b[0m \u001b[38;5;28mprint\u001b[39m(\u001b[38;5;18;43m__file__\u001b[39;49m)  \u001b[38;5;66;03m#これが使用できない。\u001b[39;00m\n\u001b[1;32m      3\u001b[0m \u001b[38;5;66;03m#.pyで実行している場合、実行ファイルが存在するpathを取得している。\u001b[39;00m\n\u001b[1;32m      5\u001b[0m path \u001b[38;5;241m=\u001b[39m os\u001b[38;5;241m.\u001b[39mpath\u001b[38;5;241m.\u001b[39mjoin(os\u001b[38;5;241m.\u001b[39mpath\u001b[38;5;241m.\u001b[39mdirname(\u001b[38;5;18m__file__\u001b[39m), \u001b[38;5;124m'\u001b[39m\u001b[38;5;124mheight.txt\u001b[39m\u001b[38;5;124m'\u001b[39m)\n",
      "\u001b[0;31mNameError\u001b[0m: name '__file__' is not defined"
     ]
    }
   ],
   "source": [
    "print(__file__)  #これが使用できない。\n",
    "\n",
    "#.pyで実行している場合、実行ファイルが存在するpathを取得している。\n",
    "\n",
    "path = os.path.join(os.path.dirname(__file__), 'height.txt')"
   ]
  },
  {
   "cell_type": "markdown",
   "id": "e4ec94a7-6c0f-4457-81b9-9064046e51d2",
   "metadata": {},
   "source": [
    "代替案"
   ]
  },
  {
   "cell_type": "code",
   "execution_count": 43,
   "id": "11fe91f0-1285-4989-8e37-0aff13ddc216",
   "metadata": {},
   "outputs": [
    {
     "name": "stdout",
     "output_type": "stream",
     "text": [
      "/Users/yoshidajunichi/Documents/DeepLearning_study/study/deep-learning-from-scratch-5/step02/height.txt\n"
     ]
    }
   ],
   "source": [
    "from pathlib import Path\n",
    "\n",
    "path = str(Path().resolve()) + \"/height.txt\"\n",
    "\n",
    "print(path)"
   ]
  },
  {
   "cell_type": "code",
   "execution_count": 40,
   "id": "c37fb837-748c-4ec9-b037-7c0e326ed850",
   "metadata": {},
   "outputs": [
    {
     "name": "stdout",
     "output_type": "stream",
     "text": [
      "/Users/yoshidajunichi/Documents/DeepLearning_study/study/deep-learning-from-scratch-5/step02\n"
     ]
    }
   ],
   "source": [
    "!pwd"
   ]
  },
  {
   "cell_type": "code",
   "execution_count": null,
   "id": "173819a1-ace5-483e-bae0-d79e756ceffc",
   "metadata": {},
   "outputs": [],
   "source": []
  }
 ],
 "metadata": {
  "kernelspec": {
   "display_name": "Python 3 (ipykernel)",
   "language": "python",
   "name": "python3"
  },
  "language_info": {
   "codemirror_mode": {
    "name": "ipython",
    "version": 3
   },
   "file_extension": ".py",
   "mimetype": "text/x-python",
   "name": "python",
   "nbconvert_exporter": "python",
   "pygments_lexer": "ipython3",
   "version": "3.9.12"
  }
 },
 "nbformat": 4,
 "nbformat_minor": 5
}
