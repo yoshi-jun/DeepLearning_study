{
 "cells": [
  {
   "cell_type": "markdown",
   "id": "20fea4be-75bb-48f8-9deb-ffe994594fc4",
   "metadata": {},
   "source": [
    "# GANの本を調べてみた"
   ]
  },
  {
   "cell_type": "markdown",
   "id": "103473b4-1041-4c6e-8c23-5106be81375a",
   "metadata": {},
   "source": [
    "GANの学習を進めるために本を調べた。(Amazon)\n",
    "\n",
    "本の内容については、レビューを見ることしかできない。\n",
    "\n",
    "ソースコードをまとめておく。"
   ]
  },
  {
   "cell_type": "markdown",
   "id": "3940ff92-e352-47fe-ac1a-56235197ca06",
   "metadata": {},
   "source": [
    "* 実践GAN 敵対的生成ネットワークによる深層学習 (Compass Booksシリーズ) \n",
    "    * ソースコードのバージョンが古く、TensorFlow 1.*を使用している\n",
    "    * https://github.com/GANs-in-Action/gans-in-action\n",
    "* GANディープラーニング実装ハンドブック\n",
    "    * pytorchを使用している\n",
    "    * https://github.com/ayukat1016/gan_sample\n",
    "* 物体検出とGAN、オートエンコーダー、画像処理入門 PyTorch/TensorFlow2による発展的・実装ディープラーニング\n",
    "    * tensorFlowとpytorchの両方で実装している\n",
    "    * GAN_and_autoEncoder_chap05/\n",
    "    * https://www.shuwasystem.co.jp/support/7980html/6464.html\n",
    "* 初めてのディープラーニング1,2\n",
    "    * 2でRNN, GANについて説明している。\n",
    "    * tensorflowやpytorchを使用せずにサンプルコードを作成している。\n",
    "    * deeplearning2Sample/Chapter8/\n",
    "    * https://www.sbcr.jp/support/48982/"
   ]
  },
  {
   "cell_type": "markdown",
   "id": "d5b5d86f-f44f-4f62-80f3-bf57414d3871",
   "metadata": {},
   "source": [
    "総研大の学生研究費用で全て購入いたしました。（+拡散モデル-データ生成技術の数理）\n",
    "\n",
    "来週には届く予定です。"
   ]
  },
  {
   "cell_type": "code",
   "execution_count": null,
   "id": "3afa06ed-896e-47e7-b22b-23942ae97565",
   "metadata": {},
   "outputs": [],
   "source": []
  }
 ],
 "metadata": {
  "kernelspec": {
   "display_name": "Python 3 (ipykernel)",
   "language": "python",
   "name": "python3"
  },
  "language_info": {
   "codemirror_mode": {
    "name": "ipython",
    "version": 3
   },
   "file_extension": ".py",
   "mimetype": "text/x-python",
   "name": "python",
   "nbconvert_exporter": "python",
   "pygments_lexer": "ipython3",
   "version": "3.9.12"
  }
 },
 "nbformat": 4,
 "nbformat_minor": 5
}
