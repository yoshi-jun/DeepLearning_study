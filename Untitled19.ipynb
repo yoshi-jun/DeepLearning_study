{
 "cells": [
  {
   "cell_type": "markdown",
   "id": "28636212-e22d-4c7a-a5ad-073c13402391",
   "metadata": {},
   "source": [
    "# 参考になりそう\n",
    "\n",
    "https://github.com/pytorch/examples/blob/main/reinforcement_learning/actor_critic.py"
   ]
  },
  {
   "cell_type": "code",
   "execution_count": 38,
   "id": "c6deba52-1f26-49ef-ac7e-ea29448628f3",
   "metadata": {},
   "outputs": [
    {
     "name": "stdout",
     "output_type": "stream",
     "text": [
      "実行結果: 2023年 11月 16日 木曜日 15:40:19 JST\n",
      "\n"
     ]
    }
   ],
   "source": [
    "import subprocess\n",
    "\n",
    "# 実行したいLinuxコマンド\n",
    "command = \"date\"\n",
    "\n",
    "# コマンドを実行し、結果を取得\n",
    "result = subprocess.run(command, shell=True, capture_output=True, text=True)\n",
    "\n",
    "# 結果の出力\n",
    "print(\"実行結果:\", result.stdout)\n"
   ]
  },
  {
   "cell_type": "code",
   "execution_count": 39,
   "id": "aec95e7c-7423-4195-ab65-3b83ee038bf0",
   "metadata": {},
   "outputs": [],
   "source": [
    "import torch"
   ]
  },
  {
   "cell_type": "code",
   "execution_count": null,
   "id": "d506988d-b443-4142-ace5-794afeb5fccd",
   "metadata": {},
   "outputs": [],
   "source": [
    "class Policy(torch.nn.Module):\n",
    "    def __init__(self):\n",
    "        \n",
    "        super(Policy, self).__init__()\n",
    "        self.Conv_1 = torch.nn.Conv3d()\n",
    "\n",
    "\n",
    "        # actor's layer\n",
    "        self.action_head = nn.Linear(128, 2)\n",
    "\n",
    "        # critic's layer\n",
    "        self.value_head = nn.Linear(128, 1)\n",
    "\n",
    "        # action & reward buffer\n",
    "        self.saved_actions = []\n",
    "        self.rewards = []"
   ]
  }
 ],
 "metadata": {
  "kernelspec": {
   "display_name": "Python 3 (ipykernel)",
   "language": "python",
   "name": "python3"
  },
  "language_info": {
   "codemirror_mode": {
    "name": "ipython",
    "version": 3
   },
   "file_extension": ".py",
   "mimetype": "text/x-python",
   "name": "python",
   "nbconvert_exporter": "python",
   "pygments_lexer": "ipython3",
   "version": "3.9.12"
  }
 },
 "nbformat": 4,
 "nbformat_minor": 5
}
