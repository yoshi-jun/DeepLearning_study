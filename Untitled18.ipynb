{
 "cells": [
  {
   "cell_type": "markdown",
   "id": "5773c281-3f8c-4c17-b979-edc03eefc734",
   "metadata": {},
   "source": [
    "# エラーチェック"
   ]
  },
  {
   "cell_type": "markdown",
   "id": "c3c9346c-94c6-46d9-8e68-0c4d2cbe9f28",
   "metadata": {},
   "source": [
    "エラー\n",
    "骨→水\n",
    "水→骨"
   ]
  },
  {
   "cell_type": "markdown",
   "id": "76bad1c4-4f26-4cb8-99e9-f4cc4ffecfe6",
   "metadata": {},
   "source": [
    "肺→水\n",
    "水→肺\n",
    "肺→空気\n",
    "空気→肺"
   ]
  },
  {
   "cell_type": "markdown",
   "id": "abeb54c6-1be7-4cdd-a05f-d5fddb9df2c0",
   "metadata": {},
   "source": [
    "どうやら、骨だけに問題がある？\n",
    "\n",
    "空気と肺、水を層にして検証する。"
   ]
  },
  {
   "cell_type": "code",
   "execution_count": null,
   "id": "4a0e4849-b938-47f9-880d-39a37dcfe0cd",
   "metadata": {},
   "outputs": [],
   "source": []
  }
 ],
 "metadata": {
  "kernelspec": {
   "display_name": "Python 3 (ipykernel)",
   "language": "python",
   "name": "python3"
  },
  "language_info": {
   "codemirror_mode": {
    "name": "ipython",
    "version": 3
   },
   "file_extension": ".py",
   "mimetype": "text/x-python",
   "name": "python",
   "nbconvert_exporter": "python",
   "pygments_lexer": "ipython3",
   "version": "3.9.12"
  }
 },
 "nbformat": 4,
 "nbformat_minor": 5
}
